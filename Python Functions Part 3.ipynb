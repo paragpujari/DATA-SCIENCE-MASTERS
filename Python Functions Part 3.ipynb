{
 "cells": [
  {
   "cell_type": "markdown",
   "id": "3111813e-da18-4a7b-a44b-0295abfcfd20",
   "metadata": {},
   "source": [
    "# GENERATORS"
   ]
  },
  {
   "cell_type": "code",
   "execution_count": 4,
   "id": "7930e8e7-ceb0-424c-9d44-1934b3146608",
   "metadata": {},
   "outputs": [],
   "source": [
    "# Fibonacci Series\n",
    "def fibonacci(n):\n",
    "    a,b = 0,1\n",
    "    for i in range(11):\n",
    "        yield a\n",
    "        a , b = b , a+b"
   ]
  },
  {
   "cell_type": "code",
   "execution_count": 5,
   "id": "59d5c609-bd2e-47ea-a262-821f0e30fd74",
   "metadata": {},
   "outputs": [
    {
     "data": {
      "text/plain": [
       "<generator object fibonacci at 0x7fcbc784da80>"
      ]
     },
     "execution_count": 5,
     "metadata": {},
     "output_type": "execute_result"
    }
   ],
   "source": [
    "# call the fibonacci series\n",
    "fibonacci(10)"
   ]
  },
  {
   "cell_type": "code",
   "execution_count": 7,
   "id": "c66cf1f5-9283-4b18-a196-a8063f39cd44",
   "metadata": {},
   "outputs": [
    {
     "name": "stdout",
     "output_type": "stream",
     "text": [
      "0\n",
      "1\n",
      "1\n",
      "2\n",
      "3\n",
      "5\n",
      "8\n",
      "13\n",
      "21\n",
      "34\n",
      "55\n"
     ]
    }
   ],
   "source": [
    "# execute the fibonacci series\n",
    "for i in fibonacci(11):\n",
    "    print(i)"
   ]
  },
  {
   "cell_type": "code",
   "execution_count": null,
   "id": "48650435-3a23-4bcf-8f8f-01d56b569824",
   "metadata": {},
   "outputs": [],
   "source": []
  }
 ],
 "metadata": {
  "kernelspec": {
   "display_name": "Python 3 (ipykernel)",
   "language": "python",
   "name": "python3"
  },
  "language_info": {
   "codemirror_mode": {
    "name": "ipython",
    "version": 3
   },
   "file_extension": ".py",
   "mimetype": "text/x-python",
   "name": "python",
   "nbconvert_exporter": "python",
   "pygments_lexer": "ipython3",
   "version": "3.10.8"
  }
 },
 "nbformat": 4,
 "nbformat_minor": 5
}
