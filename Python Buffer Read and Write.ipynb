{
 "cells": [
  {
   "cell_type": "code",
   "execution_count": 1,
   "id": "183cafcf-5cee-4070-9732-ee085d335136",
   "metadata": {},
   "outputs": [],
   "source": [
    "import io"
   ]
  },
  {
   "cell_type": "code",
   "execution_count": 8,
   "id": "ddbb7283-9011-4458-9c3a-f7bedabb4647",
   "metadata": {},
   "outputs": [],
   "source": [
    "# to write the contents in the file in write buffer mode\n",
    "with open(\"testra.txt\", \"wb\") as f:\n",
    "    # object for write buffer\n",
    "    obj = io.BufferedWriter(f)\n",
    "    obj.write(b\"This is my object\")\n",
    "    obj.write(b\"This needs to be done\")\n",
    "    obj.flush()"
   ]
  },
  {
   "cell_type": "code",
   "execution_count": 9,
   "id": "179bf759-e241-46e3-a591-466b868b6495",
   "metadata": {},
   "outputs": [
    {
     "name": "stdout",
     "output_type": "stream",
     "text": [
      "b'This is my objectThis needs to be done'\n"
     ]
    }
   ],
   "source": [
    "# To read the contents of the file\n",
    "with open(\"testra.txt\",\"rb\") as f:\n",
    "    # object for reader\n",
    "    obj = io.BufferedReader(f)\n",
    "    \n",
    "    file = obj.read()\n",
    "    print(file)"
   ]
  },
  {
   "cell_type": "code",
   "execution_count": 10,
   "id": "c65454be-a64f-4367-89fa-9ee7f35447bd",
   "metadata": {},
   "outputs": [
    {
     "name": "stdout",
     "output_type": "stream",
     "text": [
      "b'This is my office'\n"
     ]
    }
   ],
   "source": [
    "with open(\"testa1.txt\",\"rb\") as f:\n",
    "    obj = io.BufferedReader(f)\n",
    "    \n",
    "    file = obj.read()\n",
    "    print(file)"
   ]
  },
  {
   "cell_type": "code",
   "execution_count": null,
   "id": "5638b197-be45-4a70-b140-613b98c23efa",
   "metadata": {},
   "outputs": [],
   "source": []
  }
 ],
 "metadata": {
  "kernelspec": {
   "display_name": "Python 3 (ipykernel)",
   "language": "python",
   "name": "python3"
  },
  "language_info": {
   "codemirror_mode": {
    "name": "ipython",
    "version": 3
   },
   "file_extension": ".py",
   "mimetype": "text/x-python",
   "name": "python",
   "nbconvert_exporter": "python",
   "pygments_lexer": "ipython3",
   "version": "3.10.8"
  }
 },
 "nbformat": 4,
 "nbformat_minor": 5
}
