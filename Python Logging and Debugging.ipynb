{
 "cells": [
  {
   "cell_type": "code",
   "execution_count": 1,
   "id": "f7ba5ba8-49c7-417f-8b9c-8c1cf2e9923b",
   "metadata": {},
   "outputs": [],
   "source": [
    "import logging"
   ]
  },
  {
   "cell_type": "code",
   "execution_count": 3,
   "id": "bd67709a-ac33-47f6-ae62-08c56c6f9360",
   "metadata": {},
   "outputs": [],
   "source": [
    "logging.basicConfig(filename = \"test.log\", level = logging.INFO)"
   ]
  },
  {
   "cell_type": "code",
   "execution_count": 4,
   "id": "5e56e264-4317-447f-8fbf-f9146e5c0d61",
   "metadata": {},
   "outputs": [],
   "source": [
    "logging.info(\"this is my line of execution\")"
   ]
  },
  {
   "cell_type": "code",
   "execution_count": 5,
   "id": "f2fb9327-9793-490e-98d9-9f889224b60f",
   "metadata": {},
   "outputs": [],
   "source": [
    "logging.error(\"This is my error\")"
   ]
  },
  {
   "cell_type": "code",
   "execution_count": 6,
   "id": "3c23d43d-4d5f-47f7-957b-edec6f959fbc",
   "metadata": {},
   "outputs": [],
   "source": [
    "logging.critical(\"This is my critical\")"
   ]
  },
  {
   "cell_type": "code",
   "execution_count": 7,
   "id": "40da9c72-3ecf-4af5-8992-fa02be0f9fa1",
   "metadata": {},
   "outputs": [],
   "source": [
    "logging.warning(\"This is my warning\")"
   ]
  },
  {
   "cell_type": "code",
   "execution_count": 8,
   "id": "66dc5524-d38f-45e7-96bc-011f095348eb",
   "metadata": {},
   "outputs": [],
   "source": [
    "logging.debug(\"This is my info related to debug\")"
   ]
  },
  {
   "cell_type": "code",
   "execution_count": 9,
   "id": "e0fc5b76-c97e-4204-aefc-996151efea75",
   "metadata": {},
   "outputs": [],
   "source": [
    "logging.shutdown()"
   ]
  },
  {
   "cell_type": "code",
   "execution_count": 10,
   "id": "40d80f26-c64f-462c-946f-62f51c0d67ba",
   "metadata": {},
   "outputs": [],
   "source": [
    "logging.basicConfig(filename = 'test1.log', level = logging.DEBUG)"
   ]
  },
  {
   "cell_type": "code",
   "execution_count": 11,
   "id": "7362f4b3-47c2-48ff-bb1c-6ddd327be9e6",
   "metadata": {},
   "outputs": [],
   "source": [
    "logging.debug(\"This is my debug log\")"
   ]
  },
  {
   "cell_type": "code",
   "execution_count": 12,
   "id": "2ef4eefb-4ed1-4ef6-8756-9880440e0b57",
   "metadata": {},
   "outputs": [],
   "source": [
    "logging.shutdown()"
   ]
  },
  {
   "cell_type": "code",
   "execution_count": 13,
   "id": "0c2540ec-26f4-42fd-99f2-17e6a5081b0d",
   "metadata": {},
   "outputs": [],
   "source": [
    "logging.basicConfig(filename = \"test3.log\", level = logging.DEBUG)"
   ]
  },
  {
   "cell_type": "code",
   "execution_count": 14,
   "id": "65110b17-8088-4297-a331-98b18360fe59",
   "metadata": {},
   "outputs": [],
   "source": [
    "logging.info(\"this is my log info\")"
   ]
  },
  {
   "cell_type": "code",
   "execution_count": null,
   "id": "d5cf2ec5-73c5-45b9-93e9-c0da113f7f46",
   "metadata": {},
   "outputs": [],
   "source": []
  }
 ],
 "metadata": {
  "kernelspec": {
   "display_name": "Python 3 (ipykernel)",
   "language": "python",
   "name": "python3"
  },
  "language_info": {
   "codemirror_mode": {
    "name": "ipython",
    "version": 3
   },
   "file_extension": ".py",
   "mimetype": "text/x-python",
   "name": "python",
   "nbconvert_exporter": "python",
   "pygments_lexer": "ipython3",
   "version": "3.10.8"
  }
 },
 "nbformat": 4,
 "nbformat_minor": 5
}
