{
 "cells": [
  {
   "cell_type": "markdown",
   "id": "6a461ad9-5d0e-45b6-bd2b-ce874a7ee15d",
   "metadata": {},
   "source": [
    "# Encapsulation\n",
    "\n",
    "It refers to the process of wrapping up of data and information into one single unit called class. It prevents the direct access of the data in OOPS Concept"
   ]
  },
  {
   "cell_type": "code",
   "execution_count": 1,
   "id": "b5d9e451-3c8b-4294-8a6f-eeeae4a31fc9",
   "metadata": {},
   "outputs": [],
   "source": [
    "class Person:\n",
    "    # constructor to initialize the data members \n",
    "    def __init__(self,name,age,salary,gender):\n",
    "        self.__name = name\n",
    "        self.__age  = age\n",
    "        self.__salary = salary\n",
    "        self.__gender = gender\n",
    "        \n",
    "    def __print_data(self):\n",
    "        print(\"Name is:\", self.__name)\n",
    "        print(\"Age is:\", self.__age)\n",
    "        print(\"Salary is:\", self.__salary)\n",
    "        print(\"Gender is:\", self.__gender)"
   ]
  },
  {
   "cell_type": "code",
   "execution_count": 2,
   "id": "fdb65b3f-b8db-4c3c-8b76-2938ae91a931",
   "metadata": {},
   "outputs": [],
   "source": [
    "p = Person(\"Parag\",28,40000,\"Male\")"
   ]
  },
  {
   "cell_type": "code",
   "execution_count": 4,
   "id": "95963824-3c6b-4c7d-a331-42b8512403d3",
   "metadata": {},
   "outputs": [
    {
     "ename": "AttributeError",
     "evalue": "'Person' object has no attribute '__print_data'",
     "output_type": "error",
     "traceback": [
      "\u001b[0;31m---------------------------------------------------------------------------\u001b[0m",
      "\u001b[0;31mAttributeError\u001b[0m                            Traceback (most recent call last)",
      "Cell \u001b[0;32mIn[4], line 1\u001b[0m\n\u001b[0;32m----> 1\u001b[0m \u001b[43mp\u001b[49m\u001b[38;5;241;43m.\u001b[39;49m\u001b[43m__print_data\u001b[49m()\n",
      "\u001b[0;31mAttributeError\u001b[0m: 'Person' object has no attribute '__print_data'"
     ]
    }
   ],
   "source": [
    "p.__print_data()"
   ]
  },
  {
   "cell_type": "code",
   "execution_count": 7,
   "id": "ebf564eb-1695-4d54-941e-0323f0721131",
   "metadata": {},
   "outputs": [
    {
     "ename": "AttributeError",
     "evalue": "'Employee' object has no attribute '__print_details'",
     "output_type": "error",
     "traceback": [
      "\u001b[0;31m---------------------------------------------------------------------------\u001b[0m",
      "\u001b[0;31mAttributeError\u001b[0m                            Traceback (most recent call last)",
      "Cell \u001b[0;32mIn[7], line 14\u001b[0m\n\u001b[1;32m     11\u001b[0m             \u001b[38;5;28mprint\u001b[39m(\u001b[38;5;28mself\u001b[39m\u001b[38;5;241m.\u001b[39m__gender)\n\u001b[1;32m     13\u001b[0m e \u001b[38;5;241m=\u001b[39m Employee()\n\u001b[0;32m---> 14\u001b[0m \u001b[43me\u001b[49m\u001b[38;5;241;43m.\u001b[39;49m\u001b[43m__print_details\u001b[49m()\n",
      "\u001b[0;31mAttributeError\u001b[0m: 'Employee' object has no attribute '__print_details'"
     ]
    }
   ],
   "source": [
    "class Employee:\n",
    "    __name = \"Parag\"\n",
    "    __age = 28\n",
    "    __salary = 40000\n",
    "    __gender = \"Male\"\n",
    "    \n",
    "    def __print_details(self):\n",
    "            print(self.__name)\n",
    "            print(self.__age)\n",
    "            print(self.__salary)\n",
    "            print(self.__gender)\n",
    "            \n",
    "e = Employee()\n",
    "e.__print_details()"
   ]
  },
  {
   "cell_type": "code",
   "execution_count": null,
   "id": "e7975c95-1792-48b9-903f-55daf86e9de3",
   "metadata": {},
   "outputs": [],
   "source": []
  }
 ],
 "metadata": {
  "kernelspec": {
   "display_name": "Python 3 (ipykernel)",
   "language": "python",
   "name": "python3"
  },
  "language_info": {
   "codemirror_mode": {
    "name": "ipython",
    "version": 3
   },
   "file_extension": ".py",
   "mimetype": "text/x-python",
   "name": "python",
   "nbconvert_exporter": "python",
   "pygments_lexer": "ipython3",
   "version": "3.10.8"
  }
 },
 "nbformat": 4,
 "nbformat_minor": 5
}
