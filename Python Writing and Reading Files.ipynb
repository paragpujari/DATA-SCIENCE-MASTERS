{
 "cells": [
  {
   "cell_type": "code",
   "execution_count": 1,
   "id": "df7c84d4-685d-4b4e-8542-5b2ec456d53f",
   "metadata": {},
   "outputs": [],
   "source": [
    "data = {\n",
    "    \"name\" : \"parag\"   ,\n",
    "    \"email\" : \"paragpujari95@gmail.com\"  ,\n",
    "    \"phone\" : 7978304194  ,\n",
    "    \"subject\" : [\"datascience\" , \"big data\" , \"data analytics\"]\n",
    "\n",
    "}"
   ]
  },
  {
   "cell_type": "code",
   "execution_count": 2,
   "id": "5f8cec03-d2bd-4eaa-a6dd-f0656d5b464e",
   "metadata": {},
   "outputs": [],
   "source": [
    "# dump the json file\n",
    "import json"
   ]
  },
  {
   "cell_type": "code",
   "execution_count": 4,
   "id": "8ee70b17-bfef-4418-a654-61a4fedb4d7e",
   "metadata": {},
   "outputs": [],
   "source": [
    "# open the file and dump the data into the file\n",
    "with open(\"test1.json\", \"w\") as f:\n",
    "    json.dump(data,f)"
   ]
  },
  {
   "cell_type": "code",
   "execution_count": 6,
   "id": "e88d8686-4f3c-4c66-ba67-a73c64663949",
   "metadata": {},
   "outputs": [],
   "source": [
    "# read the json file\n",
    "with open(\"test1.json\",\"r\") as f:\n",
    "     data = json.load(f)"
   ]
  },
  {
   "cell_type": "code",
   "execution_count": 7,
   "id": "b6bced27-3ad1-407a-8f0e-b70839473977",
   "metadata": {},
   "outputs": [
    {
     "name": "stdout",
     "output_type": "stream",
     "text": [
      "{'name': 'parag', 'email': 'paragpujari95@gmail.com', 'phone': 7978304194, 'subject': ['datascience', 'big data', 'data analytics']}\n"
     ]
    }
   ],
   "source": [
    "print(data)"
   ]
  },
  {
   "cell_type": "code",
   "execution_count": 8,
   "id": "4aba8e44-b8b9-430e-9be2-4e5c551c86b0",
   "metadata": {},
   "outputs": [],
   "source": [
    "# write the json dat\n",
    "with open(\"aaa.json\",\"w\") as f:\n",
    "    json.dump(data,f)"
   ]
  },
  {
   "cell_type": "code",
   "execution_count": 9,
   "id": "abb1a6a1-dab7-4ea8-9fa4-dd472b38e9c0",
   "metadata": {},
   "outputs": [],
   "source": [
    "data = [[\"name\" , \"emailid\", \"mobile\"],[\"parag\", \" paragpujari95@gmail.com\", 7978304194],[\"krish\",\"krishnaik@gmail.com\",87654898]]"
   ]
  },
  {
   "cell_type": "code",
   "execution_count": 10,
   "id": "45f3dcff-17d9-43a6-bbb1-98d56872788f",
   "metadata": {},
   "outputs": [],
   "source": [
    "import csv"
   ]
  },
  {
   "cell_type": "code",
   "execution_count": 11,
   "id": "1377b628-76be-4067-bd08-139c70e1648c",
   "metadata": {},
   "outputs": [],
   "source": [
    "with open(\"test3.csv\",\"w\") as f:\n",
    "    w = csv.writer(f)\n",
    "    \n",
    "    \n",
    "    for i in data:\n",
    "        w.writerow(i)"
   ]
  },
  {
   "cell_type": "code",
   "execution_count": null,
   "id": "7ace0d6c-d0f6-4191-b6a0-1f82f06fb065",
   "metadata": {},
   "outputs": [],
   "source": []
  }
 ],
 "metadata": {
  "kernelspec": {
   "display_name": "Python 3 (ipykernel)",
   "language": "python",
   "name": "python3"
  },
  "language_info": {
   "codemirror_mode": {
    "name": "ipython",
    "version": 3
   },
   "file_extension": ".py",
   "mimetype": "text/x-python",
   "name": "python",
   "nbconvert_exporter": "python",
   "pygments_lexer": "ipython3",
   "version": "3.10.8"
  }
 },
 "nbformat": 4,
 "nbformat_minor": 5
}
