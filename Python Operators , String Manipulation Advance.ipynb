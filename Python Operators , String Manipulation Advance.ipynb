{
 "cells": [
  {
   "cell_type": "markdown",
   "id": "03f79f8d-d3f6-44cd-afbb-5e8e4364d3b0",
   "metadata": {},
   "source": [
    "# Logical Operators"
   ]
  },
  {
   "cell_type": "markdown",
   "id": "45d1fdf6-605c-4865-86d9-92cd2867205f",
   "metadata": {},
   "source": [
    "## 1. Logical OR"
   ]
  },
  {
   "cell_type": "code",
   "execution_count": 8,
   "id": "04ca63ac-8290-4029-ad9e-38b2de2481a8",
   "metadata": {},
   "outputs": [
    {
     "name": "stdout",
     "output_type": "stream",
     "text": [
      "True\n",
      "True\n",
      "False\n"
     ]
    }
   ],
   "source": [
    "a = 10\n",
    "b = 20\n",
    "print((a == b) or (b >= a))\n",
    "print((a <= b) or ( b > 100))\n",
    "print((a > b) or (b < a))"
   ]
  },
  {
   "cell_type": "markdown",
   "id": "b796daac-2987-4262-889b-8f71ac049db2",
   "metadata": {},
   "source": [
    "## 2. Logical AND"
   ]
  },
  {
   "cell_type": "code",
   "execution_count": 11,
   "id": "43f9557b-0473-47e4-85f6-420546bd71e6",
   "metadata": {},
   "outputs": [
    {
     "name": "stdout",
     "output_type": "stream",
     "text": [
      "True\n",
      "False\n",
      "False\n"
     ]
    }
   ],
   "source": [
    "a = 10\n",
    "b = 20\n",
    "\n",
    "print((a <= b) and (b >= a))\n",
    "print((a > b) and (b > a))\n",
    "print((a == b) and (a <= b))"
   ]
  },
  {
   "cell_type": "markdown",
   "id": "54cb9f55-8203-415f-b1e1-570abcaf33b7",
   "metadata": {},
   "source": [
    "## 3. Logical NOT"
   ]
  },
  {
   "cell_type": "code",
   "execution_count": 14,
   "id": "e04d5340-b8b1-4be7-9da8-c2cc0cb157db",
   "metadata": {},
   "outputs": [
    {
     "name": "stdout",
     "output_type": "stream",
     "text": [
      "False\n",
      "False\n",
      "False\n"
     ]
    }
   ],
   "source": [
    "a = 10\n",
    "b = 20\n",
    "\n",
    "print((a <= b) and not(b >= a))\n",
    "print((b <= a) or not(a < b))\n",
    "print(not(a < b) and not (b >= a))"
   ]
  },
  {
   "cell_type": "code",
   "execution_count": 18,
   "id": "a800ff32-8a87-46b5-ade6-5d6bd00baa6c",
   "metadata": {},
   "outputs": [
    {
     "name": "stdout",
     "output_type": "stream",
     "text": [
      "1\n",
      "0\n",
      "0\n",
      "True\n"
     ]
    }
   ],
   "source": [
    "print(True * True)\n",
    "print(True * False)\n",
    "print(False * False)\n",
    "print(not(False) * True)"
   ]
  },
  {
   "cell_type": "markdown",
   "id": "76abe50d-3097-454f-9b4d-7e9b06933ef0",
   "metadata": {},
   "source": [
    "# BODMAS OPERATION"
   ]
  },
  {
   "cell_type": "code",
   "execution_count": 23,
   "id": "0e4f9765-5098-4f77-b51c-f78d2df4975c",
   "metadata": {},
   "outputs": [
    {
     "name": "stdout",
     "output_type": "stream",
     "text": [
      "13.0\n",
      "9.2\n"
     ]
    }
   ],
   "source": [
    "print((3*4) + (4/2)/ 2)\n",
    "print((2 * 3 + 40) /5)"
   ]
  },
  {
   "cell_type": "markdown",
   "id": "70c5b34b-e59b-451d-b613-f8584671775d",
   "metadata": {},
   "source": [
    "# EQUALITY OPERATOR"
   ]
  },
  {
   "cell_type": "code",
   "execution_count": 28,
   "id": "0120a596-c07e-4ffb-a833-23744d5c3611",
   "metadata": {},
   "outputs": [
    {
     "name": "stdout",
     "output_type": "stream",
     "text": [
      "140159100490048\n",
      "140159100509952\n",
      "False\n",
      "True\n",
      "True\n",
      "False\n"
     ]
    }
   ],
   "source": [
    "list_a = [1,2,3,4,5]\n",
    "list_b = [1,2,3,4,5]\n",
    "print(id(list_a))\n",
    "print(id(list_b))\n",
    "\n",
    "# is = It check whether the memory address of two object are same or not\n",
    "print(list_a is list_b)\n",
    "\n",
    "# is not = It checks if one entity does not have the same memory address as another entity\n",
    "print(list_a is not list_b)\n",
    "\n",
    "# == It checks if both objects have the same value\n",
    "print(list_a == list_b)\n",
    "\n",
    "# != It checks if both the objects does not have the same value\n",
    "print(list_a != list_b)"
   ]
  },
  {
   "cell_type": "code",
   "execution_count": 29,
   "id": "49b4207f-41d3-4491-8cda-338c6b4cead3",
   "metadata": {},
   "outputs": [
    {
     "name": "stdout",
     "output_type": "stream",
     "text": [
      "140159400498736\n",
      "140159100130672\n"
     ]
    }
   ],
   "source": [
    "str1 = \"Krisk\"\n",
    "str2 = \"Krish\"\n",
    "print(id(str1))\n",
    "print(id(str2))"
   ]
  },
  {
   "cell_type": "code",
   "execution_count": 30,
   "id": "ec36576e-10f9-4347-9a9e-6ce2ab59ca6f",
   "metadata": {},
   "outputs": [
    {
     "name": "stdout",
     "output_type": "stream",
     "text": [
      "False\n",
      "True\n"
     ]
    }
   ],
   "source": [
    "print(str1 is str2)\n",
    "print(str1 is not str2)"
   ]
  },
  {
   "cell_type": "code",
   "execution_count": 31,
   "id": "c240dde8-42c6-4c9f-b4d9-1d167daf2a95",
   "metadata": {},
   "outputs": [
    {
     "name": "stdout",
     "output_type": "stream",
     "text": [
      "False\n",
      "True\n"
     ]
    }
   ],
   "source": [
    "print(str1 == str2)\n",
    "print(str1 != str2)"
   ]
  },
  {
   "cell_type": "code",
   "execution_count": 32,
   "id": "f00752f4-0e60-49c2-97c6-a19ccaf99377",
   "metadata": {},
   "outputs": [
    {
     "ename": "TypeError",
     "evalue": "'str' object does not support item assignment",
     "output_type": "error",
     "traceback": [
      "\u001b[0;31m---------------------------------------------------------------------------\u001b[0m",
      "\u001b[0;31mTypeError\u001b[0m                                 Traceback (most recent call last)",
      "Cell \u001b[0;32mIn[32], line 3\u001b[0m\n\u001b[1;32m      1\u001b[0m \u001b[38;5;66;03m# Strings are immutable\u001b[39;00m\n\u001b[1;32m      2\u001b[0m str1 \u001b[38;5;241m=\u001b[39m \u001b[38;5;124m\"\u001b[39m\u001b[38;5;124mKrish\u001b[39m\u001b[38;5;124m\"\u001b[39m\n\u001b[0;32m----> 3\u001b[0m \u001b[43mstr1\u001b[49m\u001b[43m[\u001b[49m\u001b[38;5;241;43m2\u001b[39;49m\u001b[43m]\u001b[49m \u001b[38;5;241m=\u001b[39m \u001b[38;5;124m'\u001b[39m\u001b[38;5;124ma\u001b[39m\u001b[38;5;124m'\u001b[39m\n\u001b[1;32m      4\u001b[0m \u001b[38;5;28mprint\u001b[39m(str1)\n",
      "\u001b[0;31mTypeError\u001b[0m: 'str' object does not support item assignment"
     ]
    }
   ],
   "source": [
    "# Strings are immutable and we cannot change any character at any index position in the string.\n",
    "str1 = \"Krish\"\n",
    "str1[2] = 'a'\n",
    "print(str1)"
   ]
  },
  {
   "cell_type": "markdown",
   "id": "5adf2699-2212-4f10-ac1f-513534cd4490",
   "metadata": {},
   "source": [
    "# Arithmetic Operators"
   ]
  },
  {
   "cell_type": "code",
   "execution_count": 36,
   "id": "4de267d8-c114-46fc-be3a-2439d850763b",
   "metadata": {},
   "outputs": [
    {
     "name": "stdout",
     "output_type": "stream",
     "text": [
      "Addition is: 30\n",
      "Substraction is: 10\n",
      "Multiplication is: 200\n",
      "Division is: 2.0\n",
      "Remainder is: 0\n",
      "Before Division is: 2\n"
     ]
    }
   ],
   "source": [
    "a = 20\n",
    "b = 10\n",
    "\n",
    "print(\"Addition is:\", (a + b))\n",
    "print(\"Substraction is:\", (a - b))\n",
    "print(\"Multiplication is:\", (a * b))\n",
    "print(\"Division is:\", (a / b))\n",
    "print(\"Remainder is:\", (a % b))\n",
    "print(\"Before Division is:\", (a // b))"
   ]
  },
  {
   "cell_type": "markdown",
   "id": "dda6a62f-5a3b-48be-b56f-29a72b9d0949",
   "metadata": {},
   "source": [
    "# Bitwise Operators"
   ]
  },
  {
   "cell_type": "code",
   "execution_count": 37,
   "id": "6a8f347d-0dcb-4803-88cf-91a73aec452c",
   "metadata": {},
   "outputs": [
    {
     "name": "stdout",
     "output_type": "stream",
     "text": [
      "0\n",
      "30\n",
      "30\n",
      "-31\n",
      "80\n",
      "5\n"
     ]
    }
   ],
   "source": [
    "a = 20\n",
    "b = 10\n",
    "\n",
    "print(a & b)\n",
    "print(a | b)\n",
    "print(a ^ b)\n",
    "print(~a & ~b)\n",
    "print(a << 2)\n",
    "print(b >> 1)"
   ]
  },
  {
   "cell_type": "code",
   "execution_count": 38,
   "id": "f45a4270-2b3a-4104-9a00-06ef6ab28b10",
   "metadata": {},
   "outputs": [
    {
     "name": "stdout",
     "output_type": "stream",
     "text": [
      "0b1010\n"
     ]
    }
   ],
   "source": [
    "# binary value of a number\n",
    "car = 10\n",
    "print(bin(car))"
   ]
  },
  {
   "cell_type": "markdown",
   "id": "8af38b2b-060a-4c98-baaf-e3ee392e48b4",
   "metadata": {},
   "source": [
    "# Strings"
   ]
  },
  {
   "cell_type": "code",
   "execution_count": 39,
   "id": "5507b5ba-351f-4ae5-9533-98ad9c99590b",
   "metadata": {},
   "outputs": [
    {
     "name": "stdout",
     "output_type": "stream",
     "text": [
      "<class 'str'>\n"
     ]
    }
   ],
   "source": [
    "str1 = \"Welcome to Data Science Masters\"\n",
    "print(type(str1))"
   ]
  },
  {
   "cell_type": "code",
   "execution_count": 40,
   "id": "b0739aa3-88e7-485b-8d4b-bc9a982766d1",
   "metadata": {},
   "outputs": [
    {
     "name": "stdout",
     "output_type": "stream",
     "text": [
      "W\n"
     ]
    }
   ],
   "source": [
    "# Indexing in string\n",
    "print(str1[0])"
   ]
  },
  {
   "cell_type": "code",
   "execution_count": 41,
   "id": "42be51be-6474-4eea-96c6-4571d0742a2a",
   "metadata": {},
   "outputs": [
    {
     "ename": "TypeError",
     "evalue": "'str' object does not support item assignment",
     "output_type": "error",
     "traceback": [
      "\u001b[0;31m---------------------------------------------------------------------------\u001b[0m",
      "\u001b[0;31mTypeError\u001b[0m                                 Traceback (most recent call last)",
      "Cell \u001b[0;32mIn[41], line 2\u001b[0m\n\u001b[1;32m      1\u001b[0m \u001b[38;5;66;03m# Strings are immutable\u001b[39;00m\n\u001b[0;32m----> 2\u001b[0m \u001b[43mstr1\u001b[49m\u001b[43m[\u001b[49m\u001b[38;5;241;43m0\u001b[39;49m\u001b[43m]\u001b[49m \u001b[38;5;241m=\u001b[39m \u001b[38;5;124m'\u001b[39m\u001b[38;5;124ma\u001b[39m\u001b[38;5;124m'\u001b[39m\n\u001b[1;32m      3\u001b[0m \u001b[38;5;28mprint\u001b[39m(str1)\n",
      "\u001b[0;31mTypeError\u001b[0m: 'str' object does not support item assignment"
     ]
    }
   ],
   "source": [
    "# Strings are immutable\n",
    "str1[0] = 'a'\n",
    "print(str1)"
   ]
  },
  {
   "cell_type": "code",
   "execution_count": 42,
   "id": "2841bcef-95ab-444d-9bb8-415bf3e4ca3d",
   "metadata": {},
   "outputs": [
    {
     "name": "stdout",
     "output_type": "stream",
     "text": [
      "Parag Abha\n"
     ]
    }
   ],
   "source": [
    "# Replacing one portion of string with another\n",
    "str = \"Parag Pujari\"\n",
    "print(str.replace(\"Pujari\",\"Abha\"))"
   ]
  },
  {
   "cell_type": "code",
   "execution_count": 48,
   "id": "a3fd5890-b532-4d51-87d6-2c9a298430c6",
   "metadata": {},
   "outputs": [
    {
     "name": "stdout",
     "output_type": "stream",
     "text": [
      " Pujari\n",
      "Parag \n",
      "i\n",
      "Puja\n",
      "\n"
     ]
    }
   ],
   "source": [
    "# Slicing\n",
    "print(str[5:])\n",
    "print(str[0:6])\n",
    "print(str[-1])\n",
    "print(str[-6:-2])\n",
    "print(str[-6:5])"
   ]
  },
  {
   "cell_type": "code",
   "execution_count": 49,
   "id": "8573a62f-82e7-4d70-80dd-4c28123851bc",
   "metadata": {},
   "outputs": [
    {
     "name": "stdout",
     "output_type": "stream",
     "text": [
      "arth\n"
     ]
    }
   ],
   "source": [
    "name = \"Karthik\"\n",
    "print(name[-6:-2])"
   ]
  },
  {
   "cell_type": "code",
   "execution_count": 50,
   "id": "f39f0f2d-9a8d-4380-b122-6155bc200457",
   "metadata": {},
   "outputs": [
    {
     "name": "stdout",
     "output_type": "stream",
     "text": [
      "irajuP garaP\n"
     ]
    }
   ],
   "source": [
    "# Reverse the string\n",
    "res = str[::-1]\n",
    "print(res)"
   ]
  },
  {
   "cell_type": "code",
   "execution_count": 53,
   "id": "288f6e22-bd03-4e57-8b54-5cd1db561472",
   "metadata": {},
   "outputs": [
    {
     "name": "stdout",
     "output_type": "stream",
     "text": [
      "P r\n",
      "iau aa\n"
     ]
    }
   ],
   "source": [
    "# every fifth element\n",
    "print(str[::5])\n",
    "print(str[::-2])"
   ]
  },
  {
   "cell_type": "code",
   "execution_count": 58,
   "id": "278ed63f-bfdb-42e4-b1d8-6469ef700b05",
   "metadata": {},
   "outputs": [
    {
     "name": "stdout",
     "output_type": "stream",
     "text": [
      "Parag Pujari\n",
      "irajuP garaP\n",
      "P garaP\n",
      "grP\n"
     ]
    }
   ],
   "source": [
    "print(str)\n",
    "print(str[::-1])\n",
    "print(str[6::-1])\n",
    "print(str[4::-2])"
   ]
  },
  {
   "cell_type": "code",
   "execution_count": 62,
   "id": "dc0fa57c-356d-46f8-8462-48de4847407e",
   "metadata": {},
   "outputs": [
    {
     "name": "stdout",
     "output_type": "stream",
     "text": [
      "Science\n",
      " ecneic\n",
      "sretsaM ecneicS ataD\n",
      "a cec \n"
     ]
    }
   ],
   "source": [
    "course_name = \"Data Science Masters\"\n",
    "print(course_name[5:12])\n",
    "print(course_name[12:5:-1])\n",
    "print(course_name[::-1])\n",
    "print(course_name[14:3:-2])"
   ]
  },
  {
   "cell_type": "code",
   "execution_count": 63,
   "id": "6e4cd3ac-8d0d-4e2a-9339-f8a256dd3658",
   "metadata": {},
   "outputs": [
    {
     "name": "stdout",
     "output_type": "stream",
     "text": [
      "HelloWorld\n"
     ]
    }
   ],
   "source": [
    "print(\"Hello\" + \"World\")"
   ]
  },
  {
   "cell_type": "code",
   "execution_count": 64,
   "id": "c5af7b24-1875-4e26-b9b0-b7cfe1587404",
   "metadata": {},
   "outputs": [
    {
     "name": "stdout",
     "output_type": "stream",
     "text": [
      "HelloHelloHelloHelloHello\n"
     ]
    }
   ],
   "source": [
    "print(\"Hello\" * 5)"
   ]
  },
  {
   "cell_type": "code",
   "execution_count": 65,
   "id": "22a6eeaa-b2cf-4ebb-83b7-41e948acf08a",
   "metadata": {},
   "outputs": [
    {
     "name": "stdout",
     "output_type": "stream",
     "text": [
      "Data Science MastersData Science MastersData Science MastersData Science MastersData Science Masters\n"
     ]
    }
   ],
   "source": [
    "print(course_name * 5)"
   ]
  },
  {
   "cell_type": "code",
   "execution_count": 66,
   "id": "6f84beba-0e78-47b4-bfa8-eacc64cdfc9f",
   "metadata": {},
   "outputs": [
    {
     "name": "stdout",
     "output_type": "stream",
     "text": [
      "20\n"
     ]
    }
   ],
   "source": [
    "print(len(course_name))"
   ]
  },
  {
   "cell_type": "code",
   "execution_count": 69,
   "id": "c9006718-a063-4ba4-abac-c286198d7c99",
   "metadata": {},
   "outputs": [
    {
     "name": "stdout",
     "output_type": "stream",
     "text": [
      "Data Science Masters\n",
      "3\n"
     ]
    }
   ],
   "source": [
    "# find fucntion\n",
    "print(course_name)\n",
    "print(course_name.find('a',2,10))"
   ]
  },
  {
   "cell_type": "code",
   "execution_count": 72,
   "id": "eb6c0e67-37e0-4334-a913-2b584eae2f09",
   "metadata": {},
   "outputs": [
    {
     "name": "stdout",
     "output_type": "stream",
     "text": [
      "3\n",
      "2\n",
      "1\n"
     ]
    }
   ],
   "source": [
    "print(course_name.count('a'))\n",
    "print(course_name.count(' '))\n",
    "print(course_name.count('M'))"
   ]
  },
  {
   "cell_type": "code",
   "execution_count": 75,
   "id": "16cd45f9-b497-4b5e-ad8b-05657e0ff7e7",
   "metadata": {},
   "outputs": [
    {
     "name": "stdout",
     "output_type": "stream",
     "text": [
      "['Data', 'Science', 'Masters']\n"
     ]
    }
   ],
   "source": [
    "# string split\n",
    "print(course_name.split(' '))"
   ]
  },
  {
   "cell_type": "code",
   "execution_count": 7,
   "id": "a7b329cb-1987-44d3-ade6-2e05612cacf8",
   "metadata": {},
   "outputs": [
    {
     "name": "stdout",
     "output_type": "stream",
     "text": [
      "['Data ', 'cience Masters']\n"
     ]
    }
   ],
   "source": [
    "# split with respect to s\n",
    "print(course_name.split('S'))"
   ]
  },
  {
   "cell_type": "code",
   "execution_count": 80,
   "id": "ff2d3838-0875-4d92-9a41-de13d383ab4a",
   "metadata": {},
   "outputs": [
    {
     "name": "stdout",
     "output_type": "stream",
     "text": [
      "Data Science Masters\n",
      "('Data ', 'S', 'cience Masters')\n",
      "('Data Science Ma', 's', 'ters')\n"
     ]
    }
   ],
   "source": [
    "# partition the string with respect to 'S'\n",
    "print(course_name)\n",
    "print(course_name.partition('S'))\n",
    "\n",
    "# partition the string with respect to 's'\n",
    "print(course_name.partition('s'))"
   ]
  },
  {
   "cell_type": "code",
   "execution_count": 85,
   "id": "6484e4f7-be52-4fd8-8c83-6ee2f99d3668",
   "metadata": {},
   "outputs": [
    {
     "name": "stdout",
     "output_type": "stream",
     "text": [
      "Data Science Masters\n",
      "DATA SCIENCE MASTERS\n",
      "data science masters\n",
      "Data Science Masters\n"
     ]
    }
   ],
   "source": [
    "print(course_name)\n",
    "print(course_name.upper())\n",
    "print(course_name.lower())\n",
    "print(course_name.title()) # every first letter word is in capital"
   ]
  },
  {
   "cell_type": "code",
   "execution_count": 2,
   "id": "3fefddd7-cbe9-492b-9857-4666356ae1fa",
   "metadata": {},
   "outputs": [
    {
     "name": "stdout",
     "output_type": "stream",
     "text": [
      "Data Science Masters\n",
      "dATA sCIENCE mASTERS\n"
     ]
    }
   ],
   "source": [
    "course_name = 'Data Science Masters'\n",
    "print(course_name)\n",
    "\n",
    "# swapcase = converts the lower to upper case and upper case to lower case.\n",
    "print(course_name.swapcase())"
   ]
  },
  {
   "cell_type": "code",
   "execution_count": 4,
   "id": "e137d955-cfd9-4d67-bbe3-a171e3ec87f5",
   "metadata": {},
   "outputs": [
    {
     "name": "stdout",
     "output_type": "stream",
     "text": [
      "Data science masters\n"
     ]
    }
   ],
   "source": [
    "print(course_name.capitalize()) # make the first letter of the word in capital letter"
   ]
  },
  {
   "cell_type": "code",
   "execution_count": 8,
   "id": "1c781e82-e758-4e3f-89b8-2beee0c3f164",
   "metadata": {},
   "outputs": [
    {
     "name": "stdout",
     "output_type": "stream",
     "text": [
      "<reversed object at 0x7fcd4843f670>\n",
      "s r e t s a M   e c n e i c S   a t a D\n"
     ]
    }
   ],
   "source": [
    "# reverse the string\n",
    "print(reversed(course_name)) # reversed = it returns the reversed iterator of the object in the string.\n",
    "\n",
    "print(' '.join(reversed(course_name)))"
   ]
  },
  {
   "cell_type": "code",
   "execution_count": 9,
   "id": "714d706e-2c0d-4d12-9b6c-ef2bac289a5e",
   "metadata": {},
   "outputs": [
    {
     "data": {
      "text/plain": [
       "'P a r a g'"
      ]
     },
     "execution_count": 9,
     "metadata": {},
     "output_type": "execute_result"
    }
   ],
   "source": [
    "' '.join(\"Parag\")"
   ]
  },
  {
   "cell_type": "code",
   "execution_count": 10,
   "id": "3d2892ad-4c67-4ff5-80cb-ee0551a854cc",
   "metadata": {},
   "outputs": [
    {
     "data": {
      "text/plain": [
       "'t n a'"
      ]
     },
     "execution_count": 10,
     "metadata": {},
     "output_type": "execute_result"
    }
   ],
   "source": [
    "' '.join(reversed(\"ant\"))"
   ]
  },
  {
   "cell_type": "code",
   "execution_count": 11,
   "id": "0bce9347-23c7-43ff-ab73-6b72a289fb38",
   "metadata": {},
   "outputs": [
    {
     "data": {
      "text/plain": [
       "'t Pwskills  n Pwskills  a'"
      ]
     },
     "execution_count": 11,
     "metadata": {},
     "output_type": "execute_result"
    }
   ],
   "source": [
    "' Pwskills  '.join(reversed(\"ant\"))"
   ]
  },
  {
   "cell_type": "code",
   "execution_count": 13,
   "id": "e140d17b-63cd-4713-9737-3ea6f1e89e39",
   "metadata": {},
   "outputs": [
    {
     "name": "stdout",
     "output_type": "stream",
     "text": [
      "y n a p m o c   d o o g   a   s i   s l l i k S   W P\n"
     ]
    }
   ],
   "source": [
    "str = \"PW Skills is a good company\"\n",
    "\n",
    "# reverse the string\n",
    "print(' '. join(reversed(str)))"
   ]
  },
  {
   "cell_type": "code",
   "execution_count": 19,
   "id": "26cf2825-bbe2-4d21-909e-e5794df40c89",
   "metadata": {},
   "outputs": [
    {
     "name": "stdout",
     "output_type": "stream",
     "text": [
      "pwskills\n",
      "pwskills  \n",
      " pwskills\n"
     ]
    }
   ],
   "source": [
    "# Removing the characters from the end of the string.\n",
    "string = \" pwskills  \"\n",
    "# remove the characters from both sides of the string\n",
    "print(string.strip())\n",
    "\n",
    "# remove the characters from the left side of the string\n",
    "print(string.lstrip())\n",
    "\n",
    "# remove the characters from the right side of the string\n",
    "print(string.rstrip())"
   ]
  },
  {
   "cell_type": "code",
   "execution_count": 20,
   "id": "0b1bd95c-5456-4a53-babf-5850478691fa",
   "metadata": {},
   "outputs": [
    {
     "name": "stdout",
     "output_type": "stream",
     "text": [
      "Greetings from PWSkills\n"
     ]
    }
   ],
   "source": [
    "# replace = replace one string with another\n",
    "strings = \"Greetings to PWSkills\"\n",
    "print(strings.replace(\"to\", \"from\"))"
   ]
  },
  {
   "cell_type": "code",
   "execution_count": 24,
   "id": "dc30bb5f-364a-422e-98a4-7d6a9512413e",
   "metadata": {},
   "outputs": [
    {
     "data": {
      "text/plain": [
       "'hello    world'"
      ]
     },
     "execution_count": 24,
     "metadata": {},
     "output_type": "execute_result"
    }
   ],
   "source": [
    "'hello \\t world'.expandtabs() # expand tab is used to add the spaces."
   ]
  },
  {
   "cell_type": "code",
   "execution_count": 27,
   "id": "8de1139a-4b37-4b8a-987e-9f29d255b1e4",
   "metadata": {},
   "outputs": [
    {
     "name": "stdout",
     "output_type": "stream",
     "text": [
      "False\n"
     ]
    }
   ],
   "source": [
    "print(string.isupper())"
   ]
  },
  {
   "cell_type": "code",
   "execution_count": 28,
   "id": "fd55de2c-708c-4998-8738-bd35b6541413",
   "metadata": {},
   "outputs": [
    {
     "name": "stdout",
     "output_type": "stream",
     "text": [
      "True\n"
     ]
    }
   ],
   "source": [
    "print(string.islower())"
   ]
  },
  {
   "cell_type": "code",
   "execution_count": 31,
   "id": "ba1c20a2-0d35-40a5-afb4-58ce5f4c012e",
   "metadata": {},
   "outputs": [
    {
     "name": "stdout",
     "output_type": "stream",
     "text": [
      "False\n"
     ]
    }
   ],
   "source": [
    "print(string.isspace())"
   ]
  },
  {
   "cell_type": "code",
   "execution_count": 33,
   "id": "7b088ac0-29e5-48c3-9832-513fab736b35",
   "metadata": {},
   "outputs": [
    {
     "name": "stdout",
     "output_type": "stream",
     "text": [
      "True\n"
     ]
    }
   ],
   "source": [
    "strs = \" \"\n",
    "print(strs.isspace())"
   ]
  },
  {
   "cell_type": "code",
   "execution_count": 37,
   "id": "7811ec8a-2b69-4fa0-9d34-1348c61b035e",
   "metadata": {},
   "outputs": [
    {
     "name": "stdout",
     "output_type": "stream",
     "text": [
      "False\n",
      "True\n"
     ]
    }
   ],
   "source": [
    "# To check if the string is alphanumeric or not\n",
    "texts = \"12abgs#utn67\"\n",
    "print(texts.isalnum())\n",
    "\n",
    "\n",
    "text = \"12shgfbv34\"\n",
    "print(text.isalnum())"
   ]
  },
  {
   "cell_type": "code",
   "execution_count": 38,
   "id": "ec8d2a47-68b0-4d5e-b68f-02d1b93f6804",
   "metadata": {},
   "outputs": [
    {
     "name": "stdout",
     "output_type": "stream",
     "text": [
      "Number of characters in the string is: 23\n"
     ]
    }
   ],
   "source": [
    "text = \"Parag Pujari is working\"\n",
    "# To count the number of characters in the string\n",
    "count = 0\n",
    "for i in text:\n",
    "    count = count + 1\n",
    "print(\"Number of characters in the string is:\", count)"
   ]
  },
  {
   "cell_type": "code",
   "execution_count": 41,
   "id": "e441ffc8-fe34-4544-a68d-102b226da164",
   "metadata": {},
   "outputs": [
    {
     "name": "stdout",
     "output_type": "stream",
     "text": [
      "P a r a g   P u j a r i   i s   w o r k i n g "
     ]
    }
   ],
   "source": [
    "for i in range(0, len(text) ):\n",
    "    print(text[i], end = \" \")"
   ]
  },
  {
   "cell_type": "code",
   "execution_count": 44,
   "id": "bbfa4cf5-3b63-4a46-a4f1-c22402ff943b",
   "metadata": {},
   "outputs": [
    {
     "name": "stdin",
     "output_type": "stream",
     "text": [
      "Enter the string: madam\n"
     ]
    },
    {
     "name": "stdout",
     "output_type": "stream",
     "text": [
      "madam\n",
      "Strings are palindrome: madam\n"
     ]
    }
   ],
   "source": [
    "# To check if the string is Palindrome or not\n",
    "str = input(\"Enter the string:\")\n",
    "print(str)\n",
    "\n",
    "if(str == str[::-1]):\n",
    "    print(\"Strings are palindrome:\", str)\n",
    "else:\n",
    "    print(\"Strings are not palindrome:\", str)"
   ]
  },
  {
   "cell_type": "code",
   "execution_count": 57,
   "id": "cde7aa26-dccc-4450-b9f9-75f76ae19e0d",
   "metadata": {},
   "outputs": [
    {
     "name": "stdout",
     "output_type": "stream",
     "text": [
      "Vowels are: ['a', 'e', 'i', 'o', 'u', 'A', 'E', 'I', 'O', 'U']\n",
      "No of Vowels are: 5\n",
      "Number of Consonants are: 7\n"
     ]
    }
   ],
   "source": [
    "name = \"Parag Pujari\"\n",
    "nv = 0\n",
    "nc = 0\n",
    "# To check how many words are vowel and how many words are consonants\n",
    "vowels = list('aeiouAEIOU')\n",
    "print(\"Vowels are:\",vowels)\n",
    "for i in name:\n",
    "    if(i in vowels):\n",
    "        nv = nv + 1\n",
    "    else:\n",
    "        nc = nc + 1\n",
    "print(\"No of Vowels are:\", nv)\n",
    "print(\"Number of Consonants are:\", nc)"
   ]
  },
  {
   "cell_type": "code",
   "execution_count": null,
   "id": "a7831e3f-47ac-40f7-b4e5-aa14d97da9be",
   "metadata": {},
   "outputs": [],
   "source": []
  }
 ],
 "metadata": {
  "kernelspec": {
   "display_name": "Python 3 (ipykernel)",
   "language": "python",
   "name": "python3"
  },
  "language_info": {
   "codemirror_mode": {
    "name": "ipython",
    "version": 3
   },
   "file_extension": ".py",
   "mimetype": "text/x-python",
   "name": "python",
   "nbconvert_exporter": "python",
   "pygments_lexer": "ipython3",
   "version": "3.10.8"
  }
 },
 "nbformat": 4,
 "nbformat_minor": 5
}
