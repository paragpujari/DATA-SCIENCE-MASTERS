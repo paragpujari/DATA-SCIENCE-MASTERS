{
 "cells": [
  {
   "cell_type": "code",
   "execution_count": 1,
   "id": "7adeef93-165e-465b-a2a7-4f31e1640001",
   "metadata": {},
   "outputs": [],
   "source": [
    "# open the files in write mode\n",
    "obj = open('test.txt','w')"
   ]
  },
  {
   "cell_type": "code",
   "execution_count": 3,
   "id": "4e0a3f9f-7650-4136-ac21-d1ecc3542e85",
   "metadata": {},
   "outputs": [
    {
     "ename": "NameError",
     "evalue": "name 'pwd' is not defined",
     "output_type": "error",
     "traceback": [
      "\u001b[0;31m---------------------------------------------------------------------------\u001b[0m",
      "\u001b[0;31mNameError\u001b[0m                                 Traceback (most recent call last)",
      "Cell \u001b[0;32mIn[3], line 2\u001b[0m\n\u001b[1;32m      1\u001b[0m \u001b[38;5;66;03m# To get the present working directory of the file\u001b[39;00m\n\u001b[0;32m----> 2\u001b[0m \u001b[43mpwd\u001b[49m\n",
      "\u001b[0;31mNameError\u001b[0m: name 'pwd' is not defined"
     ]
    }
   ],
   "source": [
    "# To get the present working directory of the file\n",
    "pwd"
   ]
  },
  {
   "cell_type": "code",
   "execution_count": 4,
   "id": "b2f2a816-43b1-4ec1-a9a3-09f8ec8b8651",
   "metadata": {},
   "outputs": [
    {
     "name": "stdout",
     "output_type": "stream",
     "text": [
      "'Python Class Methods.ipynb'\n",
      "'Python Decision and Loops.ipynb'\n",
      "'Python Decorators.ipynb'\n",
      "'Python Dictionary.ipynb'\n",
      "'Python Files.ipynb'\n",
      "'Python Functions Part 1.ipynb'\n",
      "'Python Functions Part 2.ipynb'\n",
      "'Python Functions Part 3.ipynb'\n",
      "'Python Functions Part 4.ipynb'\n",
      "'Python Functions Part 5.ipynb'\n",
      "'Python Functions Part 6.ipynb'\n",
      "'Python Getter Seter and Deletes Day 6.ipynb'\n",
      "'Python Introduction.ipynb'\n",
      "'Python List.ipynb'\n",
      "'Python OOPS Day 2.ipynb'\n",
      "'Python OOPS Day 3.ipynb'\n",
      "'Python OOPS Day 4.ipynb'\n",
      "'Python OOPS Day 5 - Magic Functions.ipynb'\n",
      "'Python OOPS Part 1.ipynb'\n",
      "'Python Operators , String Manipulation Advance.ipynb'\n",
      "'Python Operators , String Manipulation.ipynb'\n",
      "'Python Sets.ipynb'\n",
      "'Python Static Methods.ipynb'\n",
      "'Python Tuples.ipynb'\n",
      "'SQL AGGEGRATE FUNCTIONS.sql'\n",
      "'SQL Date AND Time Functions.sql'\n",
      "'SQL STRINGS FUNCTIONS.sql'\n",
      "'SQL SYSTEM DEFINED FUNCTIONS.sql'\n",
      " test.txt\n"
     ]
    }
   ],
   "source": [
    "# get the list of files in the current working directory\n",
    "ls"
   ]
  },
  {
   "cell_type": "code",
   "execution_count": 5,
   "id": "67bf458f-5524-4f6d-8570-83141ac9571a",
   "metadata": {},
   "outputs": [
    {
     "data": {
      "text/plain": [
       "57"
      ]
     },
     "execution_count": 5,
     "metadata": {},
     "output_type": "execute_result"
    }
   ],
   "source": [
    "# To write the text into the file\n",
    "obj.write(\"My name is Parag Pujari. I work in Motherson Sumi Company\")"
   ]
  },
  {
   "cell_type": "code",
   "execution_count": 6,
   "id": "cd5b2523-4897-45a2-8bb6-4231201868f3",
   "metadata": {},
   "outputs": [],
   "source": [
    "# To close the file\n",
    "obj.close()"
   ]
  },
  {
   "cell_type": "code",
   "execution_count": 7,
   "id": "50695f82-911e-4339-9f7d-6fab50dd6449",
   "metadata": {},
   "outputs": [],
   "source": [
    "# To write the entire information into the file\n",
    "f = open(\"text.txt\",\"w\")"
   ]
  },
  {
   "cell_type": "code",
   "execution_count": 8,
   "id": "3713d46a-3795-4967-a639-8ba13a3639cb",
   "metadata": {},
   "outputs": [
    {
     "data": {
      "text/plain": [
       "765"
      ]
     },
     "execution_count": 8,
     "metadata": {},
     "output_type": "execute_result"
    }
   ],
   "source": [
    "f.write(\"Data Science Masters course is highly curated and uniquely designed according to the latest industry standards. This program instills students the skills essential to knowledge discovery efforts to identify standard, novel, and truly differentiated solutions and decision-making, including skills in managing, querying, analyzing, visualizing, and extracting meaning from extremely large data sets. This trending program provides students with the statistical, mathematical and computational skills needed to meet the large-scale data science challenges of today's professional world. You will learn all the stack required to work in data science industry including cloud infrastructure and real-time industry projects. This course will be taught in Hindi language.\")"
   ]
  },
  {
   "cell_type": "code",
   "execution_count": 9,
   "id": "b8e33faa-2001-4d06-a704-aacddb2d42e1",
   "metadata": {},
   "outputs": [],
   "source": [
    "f.close()"
   ]
  },
  {
   "cell_type": "code",
   "execution_count": 14,
   "id": "7b99c1ee-99e6-42e7-aff3-8d959a38ddb0",
   "metadata": {},
   "outputs": [],
   "source": [
    "# To open the file in append mode\n",
    "f = open('text.txt','a')"
   ]
  },
  {
   "cell_type": "code",
   "execution_count": 15,
   "id": "c0978863-4a96-4ef3-8810-a9cbd93d147b",
   "metadata": {},
   "outputs": [
    {
     "data": {
      "text/plain": [
       "26"
      ]
     },
     "execution_count": 15,
     "metadata": {},
     "output_type": "execute_result"
    }
   ],
   "source": [
    "f.write(\"Data Science is my Passion\")"
   ]
  },
  {
   "cell_type": "code",
   "execution_count": 12,
   "id": "edf856e3-c8d5-4a35-8d81-42b4acd739e7",
   "metadata": {},
   "outputs": [],
   "source": [
    "f.close()"
   ]
  },
  {
   "cell_type": "code",
   "execution_count": 16,
   "id": "2081ee46-385a-4884-9d45-1014237ba4f0",
   "metadata": {},
   "outputs": [],
   "source": [
    "#To open the file in read mode\n",
    "f = open('text.txt','r')"
   ]
  },
  {
   "cell_type": "code",
   "execution_count": 17,
   "id": "0ae8eb60-3b9c-4f2e-9583-d5358e67869e",
   "metadata": {},
   "outputs": [
    {
     "data": {
      "text/plain": [
       "\"Data Science Masters course is highly curated and uniquely designed according to the latest industry standards. This program instills students the skills essential to knowledge discovery efforts to identify standard, novel, and truly differentiated solutions and decision-making, including skills in managing, querying, analyzing, visualizing, and extracting meaning from extremely large data sets. This trending program provides students with the statistical, mathematical and computational skills needed to meet the large-scale data science challenges of today's professional world. You will learn all the stack required to work in data science industry including cloud infrastructure and real-time industry projects. This course will be taught in Hindi language.Data Science ismy PassionData Science is my Passion\""
      ]
     },
     "execution_count": 17,
     "metadata": {},
     "output_type": "execute_result"
    }
   ],
   "source": [
    "f.read()"
   ]
  },
  {
   "cell_type": "code",
   "execution_count": 18,
   "id": "986dc24e-5332-4f5a-b00c-85568dcafe01",
   "metadata": {},
   "outputs": [
    {
     "data": {
      "text/plain": [
       "''"
      ]
     },
     "execution_count": 18,
     "metadata": {},
     "output_type": "execute_result"
    }
   ],
   "source": [
    "f.read()"
   ]
  },
  {
   "cell_type": "code",
   "execution_count": 19,
   "id": "b37c51b6-41de-4bed-88c7-25855eb6d1b6",
   "metadata": {},
   "outputs": [
    {
     "data": {
      "text/plain": [
       "0"
      ]
     },
     "execution_count": 19,
     "metadata": {},
     "output_type": "execute_result"
    }
   ],
   "source": [
    "# seek() = It is used to reset the cursor at the respective position in the file.\n",
    "f.seek(0)"
   ]
  },
  {
   "cell_type": "code",
   "execution_count": 20,
   "id": "6fb7789b-5c0b-450c-bd16-c6fb9018cb91",
   "metadata": {},
   "outputs": [
    {
     "data": {
      "text/plain": [
       "\"Data Science Masters course is highly curated and uniquely designed according to the latest industry standards. This program instills students the skills essential to knowledge discovery efforts to identify standard, novel, and truly differentiated solutions and decision-making, including skills in managing, querying, analyzing, visualizing, and extracting meaning from extremely large data sets. This trending program provides students with the statistical, mathematical and computational skills needed to meet the large-scale data science challenges of today's professional world. You will learn all the stack required to work in data science industry including cloud infrastructure and real-time industry projects. This course will be taught in Hindi language.Data Science ismy PassionData Science is my Passion\""
      ]
     },
     "execution_count": 20,
     "metadata": {},
     "output_type": "execute_result"
    }
   ],
   "source": [
    "f.read()"
   ]
  },
  {
   "cell_type": "code",
   "execution_count": 21,
   "id": "d0e44f98-7f7d-4556-8839-ade91d447944",
   "metadata": {},
   "outputs": [
    {
     "data": {
      "text/plain": [
       "100"
      ]
     },
     "execution_count": 21,
     "metadata": {},
     "output_type": "execute_result"
    }
   ],
   "source": [
    "#set the cursor at the 100th place\n",
    "f.seek(100)"
   ]
  },
  {
   "cell_type": "code",
   "execution_count": 22,
   "id": "a401b75b-c2c8-4034-a987-dc43ab1c724d",
   "metadata": {},
   "outputs": [
    {
     "data": {
      "text/plain": [
       "\" standards. This program instills students the skills essential to knowledge discovery efforts to identify standard, novel, and truly differentiated solutions and decision-making, including skills in managing, querying, analyzing, visualizing, and extracting meaning from extremely large data sets. This trending program provides students with the statistical, mathematical and computational skills needed to meet the large-scale data science challenges of today's professional world. You will learn all the stack required to work in data science industry including cloud infrastructure and real-time industry projects. This course will be taught in Hindi language.Data Science ismy PassionData Science is my Passion\""
      ]
     },
     "execution_count": 22,
     "metadata": {},
     "output_type": "execute_result"
    }
   ],
   "source": [
    "f.read()"
   ]
  },
  {
   "cell_type": "code",
   "execution_count": 23,
   "id": "a6ef2fdd-1210-4402-8ad1-22519b155c8f",
   "metadata": {},
   "outputs": [],
   "source": [
    "# To read the files using loops\n",
    "\n",
    "obj = open('text.txt','r')"
   ]
  },
  {
   "cell_type": "code",
   "execution_count": 24,
   "id": "7066927b-4236-4f73-899d-2cc5a77658fe",
   "metadata": {},
   "outputs": [
    {
     "data": {
      "text/plain": [
       "\"Data Science Masters course is highly curated and uniquely designed according to the latest industry standards. This program instills students the skills essential to knowledge discovery efforts to identify standard, novel, and truly differentiated solutions and decision-making, including skills in managing, querying, analyzing, visualizing, and extracting meaning from extremely large data sets. This trending program provides students with the statistical, mathematical and computational skills needed to meet the large-scale data science challenges of today's professional world. You will learn all the stack required to work in data science industry including cloud infrastructure and real-time industry projects. This course will be taught in Hindi language.Data Science ismy PassionData Science is my Passion\""
      ]
     },
     "execution_count": 24,
     "metadata": {},
     "output_type": "execute_result"
    }
   ],
   "source": [
    "obj.read()"
   ]
  },
  {
   "cell_type": "code",
   "execution_count": 25,
   "id": "be164839-16c8-46c0-875d-e5fb1cf4bcd6",
   "metadata": {},
   "outputs": [],
   "source": [
    "for i in obj:\n",
    "    print(i)"
   ]
  },
  {
   "cell_type": "code",
   "execution_count": 26,
   "id": "040bbdfd-e62b-4a05-82f6-b2041e95e384",
   "metadata": {},
   "outputs": [
    {
     "data": {
      "text/plain": [
       "0"
      ]
     },
     "execution_count": 26,
     "metadata": {},
     "output_type": "execute_result"
    }
   ],
   "source": [
    "obj.seek(0)"
   ]
  },
  {
   "cell_type": "code",
   "execution_count": 27,
   "id": "28addd34-d60a-42f1-94cd-bfcc19148231",
   "metadata": {},
   "outputs": [
    {
     "name": "stdout",
     "output_type": "stream",
     "text": [
      "Data Science Masters course is highly curated and uniquely designed according to the latest industry standards. This program instills students the skills essential to knowledge discovery efforts to identify standard, novel, and truly differentiated solutions and decision-making, including skills in managing, querying, analyzing, visualizing, and extracting meaning from extremely large data sets. This trending program provides students with the statistical, mathematical and computational skills needed to meet the large-scale data science challenges of today's professional world. You will learn all the stack required to work in data science industry including cloud infrastructure and real-time industry projects. This course will be taught in Hindi language.Data Science ismy PassionData Science is my Passion\n"
     ]
    }
   ],
   "source": [
    "for i in obj:\n",
    "    print(i)"
   ]
  },
  {
   "cell_type": "code",
   "execution_count": 28,
   "id": "84b07b72-3ca8-4a7a-bc49-4c231c5cbd91",
   "metadata": {},
   "outputs": [
    {
     "data": {
      "text/plain": [
       "816"
      ]
     },
     "execution_count": 28,
     "metadata": {},
     "output_type": "execute_result"
    }
   ],
   "source": [
    "import os\n",
    "\n",
    "# To know the size of the file\n",
    "os.path.getsize('text.txt')"
   ]
  },
  {
   "cell_type": "code",
   "execution_count": 29,
   "id": "6524a517-4ed4-4b81-bdaa-8f64af475ede",
   "metadata": {},
   "outputs": [
    {
     "data": {
      "text/plain": [
       "'new.txt'"
      ]
     },
     "execution_count": 29,
     "metadata": {},
     "output_type": "execute_result"
    }
   ],
   "source": [
    "# To copy the contents of one file into another file\n",
    "import shutil\n",
    "\n",
    "shutil.copy(\"text.txt\", \"new.txt\")"
   ]
  },
  {
   "cell_type": "code",
   "execution_count": 31,
   "id": "924e5792-e0b1-466f-8936-c5e1cb85ce62",
   "metadata": {},
   "outputs": [],
   "source": [
    "# To delete the file\n",
    "os.remove('test.txt')"
   ]
  },
  {
   "cell_type": "code",
   "execution_count": 32,
   "id": "0d835122-3bc2-4d17-99a5-f93b2bd6fe7e",
   "metadata": {},
   "outputs": [
    {
     "name": "stdout",
     "output_type": "stream",
     "text": [
      "Data Science Masters course is highly curated and uniquely designed according to the latest industry standards. This program instills students the skills essential to knowledge discovery efforts to identify standard, novel, and truly differentiated solutions and decision-making, including skills in managing, querying, analyzing, visualizing, and extracting meaning from extremely large data sets. This trending program provides students with the statistical, mathematical and computational skills needed to meet the large-scale data science challenges of today's professional world. You will learn all the stack required to work in data science industry including cloud infrastructure and real-time industry projects. This course will be taught in Hindi language.Data Science ismy PassionData Science is my Passion\n"
     ]
    }
   ],
   "source": [
    "with open(\"new.txt\",\"r\") as f:\n",
    "    print(f.read())"
   ]
  },
  {
   "cell_type": "code",
   "execution_count": 33,
   "id": "a5fe72df-f8c3-424e-bf48-229a91a9b322",
   "metadata": {},
   "outputs": [],
   "source": [
    "# To rename the file\n",
    "os.rename(\"new.txt\", \"text.txt\")"
   ]
  },
  {
   "cell_type": "code",
   "execution_count": null,
   "id": "dee637c2-4dc8-4555-a360-844897a7497c",
   "metadata": {},
   "outputs": [],
   "source": []
  }
 ],
 "metadata": {
  "kernelspec": {
   "display_name": "Python 3 (ipykernel)",
   "language": "python",
   "name": "python3"
  },
  "language_info": {
   "codemirror_mode": {
    "name": "ipython",
    "version": 3
   },
   "file_extension": ".py",
   "mimetype": "text/x-python",
   "name": "python",
   "nbconvert_exporter": "python",
   "pygments_lexer": "ipython3",
   "version": "3.10.8"
  }
 },
 "nbformat": 4,
 "nbformat_minor": 5
}
