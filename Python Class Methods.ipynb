{
 "cells": [
  {
   "cell_type": "markdown",
   "id": "bf04f406-d59b-419c-9a3b-e3a09744e089",
   "metadata": {},
   "source": [
    "# Class Methods"
   ]
  },
  {
   "cell_type": "code",
   "execution_count": 2,
   "id": "f349326b-f5bc-43f6-8133-c0d289402b14",
   "metadata": {},
   "outputs": [],
   "source": [
    "class Students:\n",
    "    # constructors to initialize the data members of the class\n",
    "    def __init__(self, name, age):\n",
    "        self.name = name    # data members\n",
    "        self.age = age\n",
    "        \n",
    "    # member functions\n",
    "    def print_student_details(self):  # member function\n",
    "        print(self.name)\n",
    "        print(self.age)"
   ]
  },
  {
   "cell_type": "code",
   "execution_count": 3,
   "id": "db21d386-f39e-4194-8b89-fac73542ac9a",
   "metadata": {},
   "outputs": [],
   "source": [
    "# create the object for the class\n",
    "s = Students(\"Parag\",27)"
   ]
  },
  {
   "cell_type": "code",
   "execution_count": 4,
   "id": "be22e830-6a43-48b4-a3c5-369c3b4412bb",
   "metadata": {},
   "outputs": [
    {
     "name": "stdout",
     "output_type": "stream",
     "text": [
      "Parag\n",
      "27\n"
     ]
    }
   ],
   "source": [
    "# access the member functions for the class\n",
    "s.print_student_details()"
   ]
  },
  {
   "cell_type": "code",
   "execution_count": 9,
   "id": "f5a1a5df-b9b2-48a9-9db3-aed6b471f5de",
   "metadata": {},
   "outputs": [],
   "source": [
    "# another way of using the class methods\n",
    "class Students:\n",
    "    def __init__(self,name,age):\n",
    "        self.name = name\n",
    "        self.age = age\n",
    "    # using class methods to pass the values\n",
    "    @classmethod\n",
    "    def input_Students_details(cls, name, age):\n",
    "        return(cls(name,age))"
   ]
  },
  {
   "cell_type": "code",
   "execution_count": 10,
   "id": "638fb331-41e2-48e7-82cc-ae559b0ccd1d",
   "metadata": {},
   "outputs": [
    {
     "data": {
      "text/plain": [
       "<__main__.Students at 0x7ffb42e4eb60>"
      ]
     },
     "execution_count": 10,
     "metadata": {},
     "output_type": "execute_result"
    }
   ],
   "source": [
    "# Access the class methods\n",
    "Students.input_Students_details(\"Parag\", 27)"
   ]
  },
  {
   "cell_type": "code",
   "execution_count": 11,
   "id": "1550f0d1-6244-4907-830b-2f52b3e348b5",
   "metadata": {},
   "outputs": [],
   "source": [
    "a = Students.input_Students_details(\"Parag\",27)"
   ]
  },
  {
   "cell_type": "code",
   "execution_count": 12,
   "id": "7ab91039-854f-48a2-9183-b65a83e491ff",
   "metadata": {},
   "outputs": [
    {
     "data": {
      "text/plain": [
       "'Parag'"
      ]
     },
     "execution_count": 12,
     "metadata": {},
     "output_type": "execute_result"
    }
   ],
   "source": [
    "a.name"
   ]
  },
  {
   "cell_type": "code",
   "execution_count": 13,
   "id": "8f41460c-2cc3-40e3-843d-d9599871d0dd",
   "metadata": {},
   "outputs": [
    {
     "data": {
      "text/plain": [
       "27"
      ]
     },
     "execution_count": 13,
     "metadata": {},
     "output_type": "execute_result"
    }
   ],
   "source": [
    "a.age"
   ]
  },
  {
   "cell_type": "code",
   "execution_count": 14,
   "id": "da796617-a25f-4e97-9f91-25f6b926e9ce",
   "metadata": {},
   "outputs": [],
   "source": [
    "# Enter the details of the Employee using class decorator\n",
    "class Employee:\n",
    "    # use a constructor to initialize the employees details\n",
    "    def __init__(self,name,age,salary,sex,origin):\n",
    "        self.name = name\n",
    "        self.age  = age\n",
    "        self.salary = salary\n",
    "        self.sex = sex\n",
    "        self.origin = origin\n",
    "        \n",
    "    # use a decorator to directly access the employees details using the class\n",
    "    @classmethod\n",
    "    def details_Students(cls,name,age,salary,sex,origin):\n",
    "        return(cls(name, age, salary, sex, origin))\n",
    "    \n",
    "    # use the instance method to access the employee details\n",
    "    def print_employee_details(self):\n",
    "        print(self.name)\n",
    "        print(self.age)\n",
    "        print(self.salary)\n",
    "        print(self.sex)\n",
    "        print(self.origin)"
   ]
  },
  {
   "cell_type": "code",
   "execution_count": 18,
   "id": "7673294f-fa17-484d-b3c7-0a81325169c8",
   "metadata": {},
   "outputs": [],
   "source": [
    "# use the object to directly access the employee details\n",
    "obj = Employee.details_Students(\"Parag\",27,40098,'Male','Sambalpur')"
   ]
  },
  {
   "cell_type": "code",
   "execution_count": 19,
   "id": "92166541-089c-4219-b3aa-d1745e7fce94",
   "metadata": {},
   "outputs": [
    {
     "name": "stdout",
     "output_type": "stream",
     "text": [
      "Parag\n",
      "27\n",
      "40098\n",
      "Male\n",
      "Sambalpur\n"
     ]
    }
   ],
   "source": [
    "print(obj.name)\n",
    "print(obj.age)\n",
    "print(obj.salary)\n",
    "print(obj.sex)\n",
    "print(obj.origin)"
   ]
  },
  {
   "cell_type": "markdown",
   "id": "b3fb82d8-d8dc-48b5-b490-93191d6f8585",
   "metadata": {},
   "source": [
    "# Class Variables\n",
    "\n",
    "Class Variables are those variables which can be directly accessed by the class"
   ]
  },
  {
   "cell_type": "code",
   "execution_count": 20,
   "id": "9cfc022e-75d7-4b14-a692-979cbc660f3c",
   "metadata": {},
   "outputs": [],
   "source": [
    "# Enter the details of the Employee using class decorator\n",
    "class Employee1:\n",
    "    \n",
    "    # class variable\n",
    "    MobileNumber = 7978304194\n",
    "    # use a constructor to initialize the employees details\n",
    "    def __init__(self,name,age,salary,sex,origin):\n",
    "        self.name = name\n",
    "        self.age  = age\n",
    "        self.salary = salary\n",
    "        self.sex = sex\n",
    "        self.origin = origin\n",
    "        \n",
    "    # use a decorator to directly access the employees details using the class\n",
    "    @classmethod\n",
    "    def details_Students(cls,name,age,salary,sex,origin):\n",
    "        return(cls(name, age, salary, sex, origin))\n",
    "    \n",
    "    # use the instance method to access the employee details\n",
    "    def print_employee_details(self):\n",
    "        print(self.name)\n",
    "        print(self.age)\n",
    "        print(self.salary)\n",
    "        print(self.sex)\n",
    "        print(self.origin)"
   ]
  },
  {
   "cell_type": "code",
   "execution_count": 21,
   "id": "1762bdec-ecb2-4914-a050-6ef0e48f4645",
   "metadata": {},
   "outputs": [
    {
     "data": {
      "text/plain": [
       "7978304194"
      ]
     },
     "execution_count": 21,
     "metadata": {},
     "output_type": "execute_result"
    }
   ],
   "source": [
    "# To access the class variable\n",
    "Employee1.MobileNumber"
   ]
  },
  {
   "cell_type": "code",
   "execution_count": 28,
   "id": "1000f3f8-9c85-42f5-bfd0-683c33051f1b",
   "metadata": {},
   "outputs": [],
   "source": [
    "# To access the class variable inside the member function\n",
    "class Employeee:\n",
    "    \n",
    "    # class variable\n",
    "    MobileNumber = 7978304194\n",
    "    # use a constructor to initialize the employees details\n",
    "    def __init__(self,name,age,salary,sex,origin):\n",
    "        self.name = name\n",
    "        self.age  = age\n",
    "        self.salary = salary\n",
    "        self.sex = sex\n",
    "        self.origin = origin\n",
    "        \n",
    "    # use a decorator to directly access the employees details using the class\n",
    "    @classmethod\n",
    "    def details_Students(cls,name,age,salary,sex,origin):\n",
    "        return(cls(name, age, salary, sex, origin))\n",
    "    \n",
    "    # use the instance method to access the employee details\n",
    "    def print_employee_details(self):\n",
    "        print(self.name)\n",
    "        print(self.age)\n",
    "        print(self.salary)\n",
    "        print(self.sex)\n",
    "        print(self.origin)\n",
    "        # using the class variable inside the instance method\n",
    "        print(Employeee.MobileNumber)"
   ]
  },
  {
   "cell_type": "code",
   "execution_count": 29,
   "id": "c5196d80-5c81-4103-b842-02d8fd034a65",
   "metadata": {},
   "outputs": [],
   "source": [
    "obj = Employeee.details_Students(\"Parag\",27,40987,'Male','Sambalpur')"
   ]
  },
  {
   "cell_type": "code",
   "execution_count": 30,
   "id": "b9db57e9-f4f3-46ac-bc9f-a7ee92a29fa3",
   "metadata": {},
   "outputs": [
    {
     "name": "stdout",
     "output_type": "stream",
     "text": [
      "Parag\n",
      "27\n",
      "40987\n",
      "Male\n",
      "Sambalpur\n",
      "7978304194\n"
     ]
    }
   ],
   "source": [
    "# To access the class variable inside the member function\n",
    "obj.print_employee_details()"
   ]
  },
  {
   "cell_type": "code",
   "execution_count": 31,
   "id": "7ddee79a-8559-4fb2-8cdf-2c77204b08b1",
   "metadata": {},
   "outputs": [],
   "source": [
    "obj1 = Employeee.details_Students(\"Nishant\",27,120987,'Male','Sambalpur')"
   ]
  },
  {
   "cell_type": "code",
   "execution_count": 32,
   "id": "01458e20-bc78-45f2-aa6f-f62811a44081",
   "metadata": {},
   "outputs": [
    {
     "name": "stdout",
     "output_type": "stream",
     "text": [
      "Nishant\n",
      "27\n",
      "120987\n",
      "Male\n",
      "Sambalpur\n",
      "7978304194\n",
      "None\n"
     ]
    }
   ],
   "source": [
    "print(obj1.print_employee_details())"
   ]
  },
  {
   "cell_type": "code",
   "execution_count": 33,
   "id": "a5b1b134-b06b-4205-9757-7db0e794d85f",
   "metadata": {},
   "outputs": [],
   "source": [
    "# use the class methods to change your mobile number \n",
    "class Employeeees:\n",
    "    # class variables\n",
    "    Mobile_Number = 7978304194\n",
    "    \n",
    "    # change the mobile number using the class method\n",
    "    @classmethod\n",
    "    def employee_change_mobilenumber(cls,mobile):\n",
    "        # change the mobile number directly using the class\n",
    "        Employeeees.Mobile_Number = mobile\n",
    "        \n",
    "    def print_mobilenumber(self):\n",
    "        print(Employeeees.Mobile_Number)"
   ]
  },
  {
   "cell_type": "code",
   "execution_count": 35,
   "id": "44edbb5d-1711-4d9e-a015-63e281b5c8b8",
   "metadata": {},
   "outputs": [
    {
     "name": "stdout",
     "output_type": "stream",
     "text": [
      "7978304194\n"
     ]
    }
   ],
   "source": [
    "# access the old mobile number\n",
    "print(Employeeees.Mobile_Number)"
   ]
  },
  {
   "cell_type": "code",
   "execution_count": 36,
   "id": "1c315056-b300-4f84-b12b-495e1186d6b8",
   "metadata": {},
   "outputs": [],
   "source": [
    "Employeeees.employee_change_mobilenumber(9437403013)"
   ]
  },
  {
   "cell_type": "code",
   "execution_count": 37,
   "id": "71a851f3-32c3-4c67-b466-3e7edfb43d0c",
   "metadata": {},
   "outputs": [
    {
     "name": "stdout",
     "output_type": "stream",
     "text": [
      "9437403013\n"
     ]
    }
   ],
   "source": [
    "# print the new mobile number\n",
    "print(Employeeees.Mobile_Number)"
   ]
  },
  {
   "cell_type": "code",
   "execution_count": 38,
   "id": "db05c631-b224-4836-9009-956ed5505362",
   "metadata": {},
   "outputs": [],
   "source": [
    "# use the class methods to change your mobile number \n",
    "class Employeeeees:\n",
    "    # class variables\n",
    "    Mobile_Number = 7978304194\n",
    "    \n",
    "    # change the mobile number using the class method\n",
    "    @classmethod\n",
    "    def employee_change_mobilenumber(cls,mobile):\n",
    "        # change the mobile number directly using the class\n",
    "        Employeeeees.Mobile_Number = mobile\n",
    "        \n",
    "    def print_mobilenumber(self):\n",
    "        print(Employeeeees.Mobile_Number)"
   ]
  },
  {
   "cell_type": "code",
   "execution_count": 47,
   "id": "af6e21db-2196-4e49-8d79-b888abcb61c6",
   "metadata": {},
   "outputs": [],
   "source": [
    "# add the external function to the class\n",
    "def function_course(cls, course_name):\n",
    "    print(\"Course Details:\", course_name)"
   ]
  },
  {
   "cell_type": "code",
   "execution_count": 48,
   "id": "2d439442-ef09-4347-8524-34957b857c17",
   "metadata": {},
   "outputs": [],
   "source": [
    "Employeeeees.function_course = classmethod(function_course)"
   ]
  },
  {
   "cell_type": "code",
   "execution_count": 49,
   "id": "1edab8ec-c154-415d-b503-aac909ca55b2",
   "metadata": {},
   "outputs": [
    {
     "name": "stdout",
     "output_type": "stream",
     "text": [
      "Course Details: Data Science Masters\n"
     ]
    }
   ],
   "source": [
    "# pass the value to the external function\n",
    "Employeeeees.function_course(\"Data Science Masters\")"
   ]
  },
  {
   "cell_type": "code",
   "execution_count": 50,
   "id": "5dcc12a1-f439-4857-8f17-cf6791414359",
   "metadata": {},
   "outputs": [],
   "source": [
    "del Employeeeees.employee_change_mobilenumber"
   ]
  },
  {
   "cell_type": "code",
   "execution_count": 51,
   "id": "2109e367-5e96-4408-9aa6-26d203a1e157",
   "metadata": {},
   "outputs": [
    {
     "ename": "AttributeError",
     "evalue": "type object 'Employeeeees' has no attribute 'employee_change_mobilenumber'",
     "output_type": "error",
     "traceback": [
      "\u001b[0;31m---------------------------------------------------------------------------\u001b[0m",
      "\u001b[0;31mAttributeError\u001b[0m                            Traceback (most recent call last)",
      "Cell \u001b[0;32mIn[51], line 1\u001b[0m\n\u001b[0;32m----> 1\u001b[0m \u001b[43mEmployeeeees\u001b[49m\u001b[38;5;241;43m.\u001b[39;49m\u001b[43memployee_change_mobilenumber\u001b[49m\n",
      "\u001b[0;31mAttributeError\u001b[0m: type object 'Employeeeees' has no attribute 'employee_change_mobilenumber'"
     ]
    }
   ],
   "source": [
    "Employeeeees.employee_change_mobilenumber"
   ]
  },
  {
   "cell_type": "code",
   "execution_count": null,
   "id": "3e42540a-99b7-4a6f-9948-fbe83bccb400",
   "metadata": {},
   "outputs": [],
   "source": []
  }
 ],
 "metadata": {
  "kernelspec": {
   "display_name": "Python 3 (ipykernel)",
   "language": "python",
   "name": "python3"
  },
  "language_info": {
   "codemirror_mode": {
    "name": "ipython",
    "version": 3
   },
   "file_extension": ".py",
   "mimetype": "text/x-python",
   "name": "python",
   "nbconvert_exporter": "python",
   "pygments_lexer": "ipython3",
   "version": "3.10.8"
  }
 },
 "nbformat": 4,
 "nbformat_minor": 5
}
