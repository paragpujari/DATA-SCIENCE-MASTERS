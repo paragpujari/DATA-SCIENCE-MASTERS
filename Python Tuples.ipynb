{
 "cells": [
  {
   "cell_type": "markdown",
   "id": "f7be4da7-894a-4be9-9cec-661e5ec1ff52",
   "metadata": {},
   "source": [
    "# TUPLES"
   ]
  },
  {
   "cell_type": "markdown",
   "id": "34ff7c51-4815-455e-b822-765d222e423e",
   "metadata": {},
   "source": [
    "## Creation of Tuples\n"
   ]
  },
  {
   "cell_type": "code",
   "execution_count": 5,
   "id": "0a8aeea4-5ff4-4eac-b9e4-c15365246496",
   "metadata": {},
   "outputs": [
    {
     "name": "stdout",
     "output_type": "stream",
     "text": [
      "()\n",
      "(1, 2, 3, 4, 5)\n",
      "<class 'tuple'>\n",
      "(10, 20.32, (7+9j), 'sudh', True)\n",
      "(10,)\n"
     ]
    }
   ],
   "source": [
    "# Empty Tuples\n",
    "\n",
    "tuples = ()\n",
    "print(tuples)\n",
    "\n",
    "# tuples having integers\n",
    "tup1 = (1,2,3,4,5)\n",
    "print(tup1)\n",
    "print(type(tup1))\n",
    "\n",
    "\n",
    "# tuples having mixed datatypes\n",
    "tup2 = (10,20.32, 7+9j, \"sudh\", True)\n",
    "print(tup2)\n",
    "\n",
    "# tuples having one element\n",
    "tup3 = (10,)\n",
    "print(tup3)"
   ]
  },
  {
   "cell_type": "markdown",
   "id": "d8922f8c-a424-4c90-9132-8d5285a74c65",
   "metadata": {},
   "source": [
    "## Accessing elements from the tuple"
   ]
  },
  {
   "cell_type": "code",
   "execution_count": 19,
   "id": "aa61879b-1cb4-4cba-b1ff-a7b6a19acfcc",
   "metadata": {},
   "outputs": [
    {
     "name": "stdout",
     "output_type": "stream",
     "text": [
      "(10, 20.32, (7+9j), 'sudh', True)\n",
      "20.32\n",
      "sudh\n",
      "10 20.32 (7+9j) sudh True brahma\n",
      "('brahma', 'srinu', 'naveen', 'murali', 'satish')\n",
      "('brahma', 'naveen', 'satish')\n",
      "('satish', 'srinu')\n",
      "srinu\n",
      "(10, 20.32, (7+9j), 'sudh', True)\n",
      "(10, 20.32, (7+9j))\n"
     ]
    }
   ],
   "source": [
    "# Accessing the elements from the tuple\n",
    "print(tup2)\n",
    "\n",
    "print(tup2[1])\n",
    "print(tup2[3])\n",
    "\n",
    "for i in tup2:\n",
    "    print(i, end = ' ')\n",
    "    \n",
    "t = ( 'satish','murali','naveen','srinu','brahma')\n",
    "print(t[-1])\n",
    "\n",
    "# Reverse of the tuple\n",
    "print(t[::-1])\n",
    "\n",
    "print(t[::-2])\n",
    "\n",
    "print(t[::3])\n",
    "\n",
    "# Nested Tuples\n",
    "t1 = ('ABC',('satish','naveen','srinu'))\n",
    "print(t1[1][2])\n",
    "\n",
    "print(tup2)\n",
    "print(tup2[:3])"
   ]
  },
  {
   "cell_type": "markdown",
   "id": "3a3dfeaf-9404-4d92-aafd-fe926698da30",
   "metadata": {},
   "source": [
    "## Operations of Tuples"
   ]
  },
  {
   "cell_type": "code",
   "execution_count": 24,
   "id": "c5279701-534e-42a8-8356-7535d5fe8e00",
   "metadata": {},
   "outputs": [
    {
     "name": "stdout",
     "output_type": "stream",
     "text": [
      "3\n",
      "2\n",
      "2\n",
      "14\n"
     ]
    }
   ],
   "source": [
    "tup3 = (10,10,20,20,20,30,30,30,40,50,60,70,70,80,90,90,100)\n",
    "# count() = counts the number of elements from the tuples\n",
    "print(tup3.count(30))\n",
    "print(tup3.count(90))\n",
    "\n",
    "# index() = It returns the index position of the element from the tuple\n",
    "print(tup3.index(20))\n",
    "print(tup3.index(90))"
   ]
  },
  {
   "cell_type": "code",
   "execution_count": 26,
   "id": "718e44e3-a0ea-4055-8d2c-e141fb102dab",
   "metadata": {},
   "outputs": [
    {
     "name": "stdout",
     "output_type": "stream",
     "text": [
      "(10, 10, 20, 20, 20, 30, 30, 30, 40, 50, 60, 70, 70, 80, 90, 90, 100)\n"
     ]
    },
    {
     "ename": "TypeError",
     "evalue": "'tuple' object does not support item assignment",
     "output_type": "error",
     "traceback": [
      "\u001b[0;31m---------------------------------------------------------------------------\u001b[0m",
      "\u001b[0;31mTypeError\u001b[0m                                 Traceback (most recent call last)",
      "Cell \u001b[0;32mIn[26], line 3\u001b[0m\n\u001b[1;32m      1\u001b[0m \u001b[38;5;66;03m# Tuples are immutable and they cannot be chaged\u001b[39;00m\n\u001b[1;32m      2\u001b[0m \u001b[38;5;28mprint\u001b[39m(tup3)\n\u001b[0;32m----> 3\u001b[0m \u001b[43mtup3\u001b[49m\u001b[43m[\u001b[49m\u001b[38;5;241;43m3\u001b[39;49m\u001b[43m]\u001b[49m \u001b[38;5;241m=\u001b[39m \u001b[38;5;241m80\u001b[39m\n\u001b[1;32m      4\u001b[0m \u001b[38;5;28mprint\u001b[39m(tup3)\n",
      "\u001b[0;31mTypeError\u001b[0m: 'tuple' object does not support item assignment"
     ]
    }
   ],
   "source": [
    "# Tuples are immutable and they cannot be chaged\n",
    "print(tup3)\n",
    "tup3[3] = 80\n",
    "print(tup3)"
   ]
  },
  {
   "cell_type": "code",
   "execution_count": 27,
   "id": "6d2ba1af-ac72-4457-b519-3a754be92cb5",
   "metadata": {},
   "outputs": [
    {
     "name": "stdout",
     "output_type": "stream",
     "text": [
      "(10, 20, 30, 40, 50, 60, 70, 80)\n"
     ]
    }
   ],
   "source": [
    "# Concatenation in the Tuples\n",
    "tupl1 = (10,20,30,40)\n",
    "tupl2 = (50,60,70,80)\n",
    "print(tupl1 + tupl2)"
   ]
  },
  {
   "cell_type": "code",
   "execution_count": 28,
   "id": "410c4dbe-60b7-4880-a09f-c4bb2867ff41",
   "metadata": {},
   "outputs": [],
   "source": [
    "# Deletion in Tuples\n",
    "\n",
    "del tup3\n"
   ]
  },
  {
   "cell_type": "code",
   "execution_count": 29,
   "id": "6a626f07-8cd4-441a-b842-b29814c8b4b5",
   "metadata": {},
   "outputs": [
    {
     "ename": "NameError",
     "evalue": "name 'tup3' is not defined",
     "output_type": "error",
     "traceback": [
      "\u001b[0;31m---------------------------------------------------------------------------\u001b[0m",
      "\u001b[0;31mNameError\u001b[0m                                 Traceback (most recent call last)",
      "Cell \u001b[0;32mIn[29], line 1\u001b[0m\n\u001b[0;32m----> 1\u001b[0m \u001b[38;5;28mprint\u001b[39m(\u001b[43mtup3\u001b[49m)\n",
      "\u001b[0;31mNameError\u001b[0m: name 'tup3' is not defined"
     ]
    }
   ],
   "source": [
    "print(tup3)"
   ]
  },
  {
   "cell_type": "code",
   "execution_count": 30,
   "id": "c3dcd3cf-cc64-471c-aa12-a311971403f4",
   "metadata": {},
   "outputs": [
    {
     "name": "stdout",
     "output_type": "stream",
     "text": [
      "(10, 20, 30, 40)\n"
     ]
    }
   ],
   "source": [
    "# Tuple membership\n",
    "\n",
    "print(tupl1)\n"
   ]
  },
  {
   "cell_type": "code",
   "execution_count": 31,
   "id": "f94ba279-51fa-4fb7-ac2d-4ccd6fca2f03",
   "metadata": {},
   "outputs": [
    {
     "name": "stdout",
     "output_type": "stream",
     "text": [
      "True\n",
      "True\n"
     ]
    }
   ],
   "source": [
    "print(10 in tupl1)\n",
    "\n",
    "print(50 not in tupl1)"
   ]
  },
  {
   "cell_type": "code",
   "execution_count": 32,
   "id": "5bae2db0-8f03-4346-8e50-f0c6413a9617",
   "metadata": {},
   "outputs": [
    {
     "name": "stdout",
     "output_type": "stream",
     "text": [
      "4\n",
      "4\n"
     ]
    }
   ],
   "source": [
    "# Length of the Tuples\n",
    "l = len(tupl1)\n",
    "m = len(tupl2)\n",
    "\n",
    "print(l)\n",
    "print(m)"
   ]
  },
  {
   "cell_type": "code",
   "execution_count": 34,
   "id": "2225ff58-6d34-4fce-95ac-1d2de59541ec",
   "metadata": {},
   "outputs": [
    {
     "name": "stdout",
     "output_type": "stream",
     "text": [
      "[10, 20, 30, 40, 50, 60, 70]\n",
      "[70, 60, 50, 40, 30, 20, 10]\n"
     ]
    }
   ],
   "source": [
    "# Sorting in the Tuples\n",
    "\n",
    "tupl4 = (10,20,30,40,50,60,70)\n",
    "\n",
    "print(sorted(tupl4))\n",
    "\n",
    "print(sorted(tupl4, reverse = True))"
   ]
  },
  {
   "cell_type": "code",
   "execution_count": null,
   "id": "fd298eaf-e950-4552-89ad-cb40c03da806",
   "metadata": {},
   "outputs": [],
   "source": []
  }
 ],
 "metadata": {
  "kernelspec": {
   "display_name": "Python 3 (ipykernel)",
   "language": "python",
   "name": "python3"
  },
  "language_info": {
   "codemirror_mode": {
    "name": "ipython",
    "version": 3
   },
   "file_extension": ".py",
   "mimetype": "text/x-python",
   "name": "python",
   "nbconvert_exporter": "python",
   "pygments_lexer": "ipython3",
   "version": "3.10.8"
  }
 },
 "nbformat": 4,
 "nbformat_minor": 5
}
