{
 "cells": [
  {
   "cell_type": "code",
   "execution_count": 1,
   "id": "35aa939c-da80-4351-a279-f2af24edde67",
   "metadata": {},
   "outputs": [],
   "source": [
    "a = 'c'"
   ]
  },
  {
   "cell_type": "code",
   "execution_count": 2,
   "id": "f92f8600-c20a-48e8-96b3-d78eba3b9077",
   "metadata": {},
   "outputs": [
    {
     "data": {
      "text/plain": [
       "str"
      ]
     },
     "execution_count": 2,
     "metadata": {},
     "output_type": "execute_result"
    }
   ],
   "source": [
    "type(a)"
   ]
  },
  {
   "cell_type": "code",
   "execution_count": 3,
   "id": "60a7d43f-6419-4a0c-a54e-e295b763ca22",
   "metadata": {},
   "outputs": [
    {
     "data": {
      "text/plain": [
       "10"
      ]
     },
     "execution_count": 3,
     "metadata": {},
     "output_type": "execute_result"
    }
   ],
   "source": [
    "int('10')"
   ]
  },
  {
   "cell_type": "code",
   "execution_count": 4,
   "id": "3aa399b8-53cc-47c6-b9c7-c9011fafa899",
   "metadata": {},
   "outputs": [
    {
     "data": {
      "text/plain": [
       "0"
      ]
     },
     "execution_count": 4,
     "metadata": {},
     "output_type": "execute_result"
    }
   ],
   "source": [
    "int()"
   ]
  },
  {
   "cell_type": "code",
   "execution_count": 5,
   "id": "4f687979-033b-44ca-b1e8-256cbf28eb85",
   "metadata": {},
   "outputs": [
    {
     "ename": "ValueError",
     "evalue": "invalid literal for int() with base 10: 'abcd'",
     "output_type": "error",
     "traceback": [
      "\u001b[0;31m---------------------------------------------------------------------------\u001b[0m",
      "\u001b[0;31mValueError\u001b[0m                                Traceback (most recent call last)",
      "Cell \u001b[0;32mIn[5], line 1\u001b[0m\n\u001b[0;32m----> 1\u001b[0m \u001b[38;5;28;43mint\u001b[39;49m\u001b[43m(\u001b[49m\u001b[38;5;124;43m'\u001b[39;49m\u001b[38;5;124;43mabcd\u001b[39;49m\u001b[38;5;124;43m'\u001b[39;49m\u001b[43m)\u001b[49m\n",
      "\u001b[0;31mValueError\u001b[0m: invalid literal for int() with base 10: 'abcd'"
     ]
    }
   ],
   "source": [
    "int('abcd')"
   ]
  },
  {
   "cell_type": "code",
   "execution_count": 6,
   "id": "bfafe2f8-fcdf-4d8b-95fc-5fd102542e82",
   "metadata": {},
   "outputs": [
    {
     "name": "stdout",
     "output_type": "stream",
     "text": [
      "Hello World\n"
     ]
    }
   ],
   "source": [
    "print(\"Hello World\")"
   ]
  },
  {
   "cell_type": "code",
   "execution_count": 7,
   "id": "3bcb8c9f-33ab-423b-b5b1-6ea19d6f5dce",
   "metadata": {},
   "outputs": [
    {
     "name": "stdout",
     "output_type": "stream",
     "text": [
      "123\n"
     ]
    }
   ],
   "source": [
    "print(123)"
   ]
  },
  {
   "cell_type": "code",
   "execution_count": 8,
   "id": "c7736605-f810-4bd6-9387-b93752038706",
   "metadata": {},
   "outputs": [
    {
     "name": "stdout",
     "output_type": "stream",
     "text": [
      "Hello World\n"
     ]
    }
   ],
   "source": [
    "print('Hello World')"
   ]
  },
  {
   "cell_type": "markdown",
   "id": "3afd4f5c-982c-4e07-9dbf-55581880a304",
   "metadata": {},
   "source": [
    "# String Formatting"
   ]
  },
  {
   "cell_type": "code",
   "execution_count": 18,
   "id": "f6baf099-ad2f-4a15-887b-90e3de170de4",
   "metadata": {},
   "outputs": [
    {
     "name": "stdout",
     "output_type": "stream",
     "text": [
      "My age is: 27\n"
     ]
    }
   ],
   "source": [
    "age = 27\n",
    "print(\"My age is:\", age)"
   ]
  },
  {
   "cell_type": "code",
   "execution_count": 19,
   "id": "da54d6fd-55fc-4920-936d-afce32237eb0",
   "metadata": {},
   "outputs": [
    {
     "name": "stdout",
     "output_type": "stream",
     "text": [
      "My age is 27\n"
     ]
    }
   ],
   "source": [
    "age = 27\n",
    "print(\"My age is {}\".format(age))"
   ]
  },
  {
   "cell_type": "code",
   "execution_count": 20,
   "id": "6678ea80-588e-4e7e-b36c-03d67f1deab5",
   "metadata": {},
   "outputs": [
    {
     "name": "stdout",
     "output_type": "stream",
     "text": [
      "My name is Parag and my age is 27\n"
     ]
    }
   ],
   "source": [
    "age = 27\n",
    "name = \"Parag\"\n",
    "print(\"My name is {1} and my age is {0}\".format(27,\"Parag\"))"
   ]
  },
  {
   "cell_type": "code",
   "execution_count": 21,
   "id": "819bbeaa-46b1-4113-9dc6-722b16a8fb25",
   "metadata": {},
   "outputs": [
    {
     "name": "stdout",
     "output_type": "stream",
     "text": [
      "My name is Parag and I have completed my M.Tech degree\n"
     ]
    }
   ],
   "source": [
    "name = \"Parag\"\n",
    "degree = \"M.Tech\"\n",
    "print(\"My name is {0} and I have completed my {1} degree\".format(name,degree))"
   ]
  },
  {
   "cell_type": "code",
   "execution_count": 22,
   "id": "56672c1e-04e5-4ed1-9470-7f157fd4a6ed",
   "metadata": {},
   "outputs": [
    {
     "name": "stdout",
     "output_type": "stream",
     "text": [
      "My age is 27 and I have completed: my degree of M.Tech with the name of Parag Pujari\n"
     ]
    }
   ],
   "source": [
    "name = \"Parag Pujari\"\n",
    "age = 27\n",
    "degree = \"M.Tech\"\n",
    "print(\"My age is {1} and I have completed: my degree of {2} with the name of {0}\".format(name, age, degree))"
   ]
  },
  {
   "cell_type": "markdown",
   "id": "4a5628bc-610f-49f9-8b57-e0d825b06ecb",
   "metadata": {},
   "source": [
    "# Control Flow ( Decision Making Statements)"
   ]
  },
  {
   "cell_type": "markdown",
   "id": "7babb0e9-2002-438f-bc9a-7f0800eefb16",
   "metadata": {},
   "source": [
    "## 1. if statement"
   ]
  },
  {
   "cell_type": "code",
   "execution_count": 23,
   "id": "e88d0fbd-97a2-4ead-8f0f-3af1817f507a",
   "metadata": {},
   "outputs": [
    {
     "name": "stdin",
     "output_type": "stream",
     "text": [
      "Enter the number: 12\n"
     ]
    },
    {
     "name": "stdout",
     "output_type": "stream",
     "text": [
      "Number is Positive: 12\n"
     ]
    }
   ],
   "source": [
    "num = int(input(\"Enter the number:\"))\n",
    "if(num > 0):\n",
    "    print(\"Number is Positive:\",num)"
   ]
  },
  {
   "cell_type": "markdown",
   "id": "08e319bf-99c5-4c07-817f-ec2ee5d6910e",
   "metadata": {},
   "source": [
    "## 2. if-else statement"
   ]
  },
  {
   "cell_type": "code",
   "execution_count": 24,
   "id": "e834a6f8-ed87-4bc2-a9c9-e5f2b6537a3d",
   "metadata": {},
   "outputs": [
    {
     "name": "stdin",
     "output_type": "stream",
     "text": [
      "Enter the number: 22\n"
     ]
    },
    {
     "name": "stdout",
     "output_type": "stream",
     "text": [
      "Number is Positive: 22\n"
     ]
    }
   ],
   "source": [
    "num = int(input(\"Enter the number:\"))\n",
    "if(num > 0):\n",
    "    print(\"Number is Positive:\",num)\n",
    "else:\n",
    "    print(\"Number is Negative:\",num)"
   ]
  },
  {
   "cell_type": "markdown",
   "id": "deb64ff8-9092-4e68-9047-e3381bc84c09",
   "metadata": {},
   "source": [
    "## 3. elif statement\n"
   ]
  },
  {
   "cell_type": "code",
   "execution_count": 25,
   "id": "0bd87409-a480-44fd-af72-cbd3cf1784d1",
   "metadata": {},
   "outputs": [
    {
     "name": "stdin",
     "output_type": "stream",
     "text": [
      "Enter the number: 0\n"
     ]
    },
    {
     "name": "stdout",
     "output_type": "stream",
     "text": [
      "Number is neutral: 0\n"
     ]
    }
   ],
   "source": [
    "num = int(input(\"Enter the number:\"))\n",
    "if(num > 0):\n",
    "    print(\"Number is Positive:\", num)\n",
    "elif(num < 0):\n",
    "    print(\"Number is Negative:\", num)\n",
    "else:\n",
    "    print(\"Number is neutral:\", num)"
   ]
  },
  {
   "cell_type": "markdown",
   "id": "014a69a9-c4ca-4802-b1be-994f290fc722",
   "metadata": {},
   "source": [
    "### Task 1"
   ]
  },
  {
   "cell_type": "code",
   "execution_count": 29,
   "id": "5267c716-a13d-4522-b47f-3f2fb33771e3",
   "metadata": {},
   "outputs": [
    {
     "name": "stdin",
     "output_type": "stream",
     "text": [
      "Enter the age: 34\n"
     ]
    },
    {
     "name": "stdout",
     "output_type": "stream",
     "text": [
      "you are young blood\n"
     ]
    }
   ],
   "source": [
    "age = int(input(\"Enter the age:\"))\n",
    "if(age >= 18 and age  <= 45):\n",
    "    print(\"you are young blood\")"
   ]
  },
  {
   "cell_type": "markdown",
   "id": "f75ed68a-d4be-4c6b-a40f-4bd870e11432",
   "metadata": {},
   "source": [
    "## Task2"
   ]
  },
  {
   "cell_type": "code",
   "execution_count": 31,
   "id": "7d5eefdd-23c2-4425-ac9a-c120613859c2",
   "metadata": {},
   "outputs": [
    {
     "name": "stdin",
     "output_type": "stream",
     "text": [
      "Enter the price: 234\n"
     ]
    },
    {
     "name": "stdout",
     "output_type": "stream",
     "text": [
      "The price of the product is 163.8\n"
     ]
    }
   ],
   "source": [
    "product_price = int(input(\"Enter the price:\"))\n",
    "if(product_price > 1000):\n",
    "    print(\"The price of the product is\", (product_price - (0.2*product_price)))\n",
    "elif(product_price <= 1000):\n",
    "    print(\"The price of the product is\", (product_price - (0.3*product_price)))"
   ]
  },
  {
   "cell_type": "markdown",
   "id": "75422569-e9c5-4570-9e32-b8ee2b3d23ec",
   "metadata": {},
   "source": [
    "## 4. Nested-if Statements"
   ]
  },
  {
   "cell_type": "code",
   "execution_count": 32,
   "id": "05728efb-7e3b-4f39-a003-0c24d53eabf5",
   "metadata": {},
   "outputs": [
    {
     "name": "stdin",
     "output_type": "stream",
     "text": [
      "Enter the first number: 10\n",
      "Enter the second number: 20\n",
      "Enter the third number: 15\n"
     ]
    },
    {
     "name": "stdout",
     "output_type": "stream",
     "text": [
      "Largest Number is: 20\n"
     ]
    }
   ],
   "source": [
    "a = int(input(\"Enter the first number:\"))\n",
    "b = int(input(\"Enter the second number:\"))\n",
    "c = int(input(\"Enter the third number:\"))\n",
    "\n",
    "if(a > b):\n",
    "    if(a > c):\n",
    "        print(\"Largest Number is:\",a)\n",
    "    else:\n",
    "        print(\"Largest Number is:\",c)\n",
    "else:\n",
    "    if(b > c):\n",
    "        print(\"Largest Number is:\", b)\n",
    "    else:\n",
    "        print(\"Largest Number is:\", c)"
   ]
  },
  {
   "cell_type": "markdown",
   "id": "27c338bf-ea83-48ee-9981-c4e4d0f23ddf",
   "metadata": {},
   "source": [
    "### Task3: print grades based on marks"
   ]
  },
  {
   "cell_type": "code",
   "execution_count": 35,
   "id": "bf947f5b-2de8-4cf6-9fb4-234bf5c393c3",
   "metadata": {},
   "outputs": [
    {
     "name": "stdin",
     "output_type": "stream",
     "text": [
      "Enter the marks: 96\n"
     ]
    },
    {
     "name": "stdout",
     "output_type": "stream",
     "text": [
      "S Grade:\n"
     ]
    }
   ],
   "source": [
    "marks = int(input(\"Enter the marks:\"))\n",
    "if(marks >= 90):\n",
    "    print(\"S Grade:\")\n",
    "elif(marks >= 80 and marks  < 90):\n",
    "    print(\"A Grade:\")\n",
    "elif(marks >= 70 and marks < 80):\n",
    "    print(\"B Grade:\")\n",
    "elif(marks >= 60 and marks < 70):\n",
    "    print(\"C Grade:\")\n",
    "elif(marks >= 50 and marks < 60):\n",
    "    print(\"D Grade:\")\n",
    "else:\n",
    "    print(\"Fail\")"
   ]
  },
  {
   "cell_type": "markdown",
   "id": "ad997e98-e4eb-4b4c-9c5e-45f54e5046de",
   "metadata": {},
   "source": [
    "# LOOPS"
   ]
  },
  {
   "cell_type": "markdown",
   "id": "217f60bb-3c2b-483c-b51e-8eebf474c1cf",
   "metadata": {},
   "source": [
    "## 1. For Loop"
   ]
  },
  {
   "cell_type": "code",
   "execution_count": 42,
   "id": "7cc60fec-9df0-4077-a34f-7cbdab3ac708",
   "metadata": {},
   "outputs": [
    {
     "name": "stdin",
     "output_type": "stream",
     "text": [
      "Enter the number: 5\n"
     ]
    },
    {
     "name": "stdout",
     "output_type": "stream",
     "text": [
      "Factorial of a number is: 120\n"
     ]
    }
   ],
   "source": [
    "# Factorial of a number\n",
    "fact = 1\n",
    "num = int(input(\"Enter the number:\"))\n",
    "for i in range(1,num+1):\n",
    "    fact = fact * i\n",
    "print(\"Factorial of a number is:\", fact)"
   ]
  },
  {
   "cell_type": "code",
   "execution_count": 43,
   "id": "3919c8f7-816b-4073-96cb-fcf687bd7049",
   "metadata": {},
   "outputs": [
    {
     "name": "stdout",
     "output_type": "stream",
     "text": [
      "10 20 30 40 50 60 70 80 90 100 "
     ]
    }
   ],
   "source": [
    "# Print the elements in the list\n",
    "list = [10,20,30,40,50,60,70,80,90,100]\n",
    "for i in list:\n",
    "    print(i, end = ' ')"
   ]
  },
  {
   "cell_type": "markdown",
   "id": "867fb4e3-36bb-456d-9196-ff2b4a0cd864",
   "metadata": {},
   "source": [
    "## 2. While Loop"
   ]
  },
  {
   "cell_type": "code",
   "execution_count": 45,
   "id": "3d5ac45c-0673-4e0f-885f-94e67598722c",
   "metadata": {},
   "outputs": [
    {
     "name": "stdin",
     "output_type": "stream",
     "text": [
      "Enter the number: 121\n"
     ]
    },
    {
     "name": "stdout",
     "output_type": "stream",
     "text": [
      "Number is Palindrome: 121\n"
     ]
    }
   ],
   "source": [
    "# Palindrome of a number\n",
    "num = int(input(\"Enter the number:\"))\n",
    "rev = 0\n",
    "x = num\n",
    "while(x != 0):\n",
    "    d = x % 10\n",
    "    rev = (rev * 10) + d\n",
    "    x = x // 10\n",
    "if(rev == num):\n",
    "    print(\"Number is Palindrome:\", num)\n",
    "else:\n",
    "    print(\"Number is not Palindrome:\", num)"
   ]
  },
  {
   "cell_type": "code",
   "execution_count": 46,
   "id": "7b472471-e0c0-46de-9423-50f38e6debf2",
   "metadata": {},
   "outputs": [
    {
     "name": "stdin",
     "output_type": "stream",
     "text": [
      "Enter the number: 153\n"
     ]
    },
    {
     "name": "stdout",
     "output_type": "stream",
     "text": [
      "Number is Armstrong: 153\n"
     ]
    }
   ],
   "source": [
    "# Armstrong of a Number\n",
    "num = int(input(\"Enter the number:\"))\n",
    "sum = 0\n",
    "x = num\n",
    "while(x != 0):\n",
    "    d = x % 10\n",
    "    sum = sum + (d * d * d)\n",
    "    x = x // 10\n",
    "if(sum == num):\n",
    "    print(\"Number is Armstrong:\", num)\n",
    "else:\n",
    "    print(\"Number is not Armstrong:\", num)"
   ]
  },
  {
   "cell_type": "markdown",
   "id": "ffa01f00-1685-4aff-b9e0-dd2ba802c9f7",
   "metadata": {},
   "source": [
    "## 3. Nested Loops"
   ]
  },
  {
   "cell_type": "code",
   "execution_count": 49,
   "id": "e8f99171-55d6-4eb3-8371-7b4dac809ded",
   "metadata": {},
   "outputs": [
    {
     "name": "stdout",
     "output_type": "stream",
     "text": [
      "\n",
      "\n",
      "*\n",
      "\n",
      "**\n",
      "\n",
      "***\n",
      "\n",
      "****\n",
      "\n",
      "*****\n",
      "\n"
     ]
    }
   ],
   "source": [
    "for i in range(1,7):\n",
    "    for j in range(1,i):\n",
    "        print(\"*\", end = '')\n",
    "    print(\"\\n\")"
   ]
  },
  {
   "cell_type": "markdown",
   "id": "ad766959-1be4-4a8a-b325-b8e4cd9df0ff",
   "metadata": {},
   "source": [
    "# 1. Break"
   ]
  },
  {
   "cell_type": "code",
   "execution_count": 51,
   "id": "0ede82e5-9ed5-420b-a5e0-16c41c1be978",
   "metadata": {},
   "outputs": [
    {
     "name": "stdin",
     "output_type": "stream",
     "text": [
      "Enter the number: 11\n"
     ]
    },
    {
     "name": "stdout",
     "output_type": "stream",
     "text": [
      "Number is Prime: 11\n"
     ]
    }
   ],
   "source": [
    "# To check if the number is prime or not\n",
    "\n",
    "num = int(input(\"Enter the number:\"))\n",
    "flag = True\n",
    "\n",
    "for i in range(2, (num)):\n",
    "    if((num % i) == 0):\n",
    "        flag = False\n",
    "        break\n",
    "if(flag == True):\n",
    "    print(\"Number is Prime:\", num)\n",
    "else:\n",
    "    print(\"Number is not Prime:\", num)"
   ]
  },
  {
   "cell_type": "markdown",
   "id": "64d1f4e8-972a-4251-b4a4-861ccbec9279",
   "metadata": {},
   "source": [
    "# 2. Continue"
   ]
  },
  {
   "cell_type": "code",
   "execution_count": 54,
   "id": "2d83a4de-758b-4292-bd47-84524955b72c",
   "metadata": {},
   "outputs": [
    {
     "name": "stdin",
     "output_type": "stream",
     "text": [
      "Enter the number: 100\n"
     ]
    },
    {
     "name": "stdout",
     "output_type": "stream",
     "text": [
      "Numbers are: 1\n",
      "Numbers are: 2\n",
      "Numbers are: 4\n",
      "Numbers are: 5\n",
      "Numbers are: 7\n",
      "Numbers are: 8\n",
      "Numbers are: 10\n",
      "Numbers are: 11\n",
      "Numbers are: 13\n",
      "Numbers are: 14\n",
      "Numbers are: 16\n",
      "Numbers are: 17\n",
      "Numbers are: 19\n",
      "Numbers are: 20\n",
      "Numbers are: 22\n",
      "Numbers are: 23\n",
      "Numbers are: 25\n",
      "Numbers are: 26\n",
      "Numbers are: 28\n",
      "Numbers are: 29\n",
      "Numbers are: 31\n",
      "Numbers are: 32\n",
      "Numbers are: 34\n",
      "Numbers are: 35\n",
      "Numbers are: 37\n",
      "Numbers are: 38\n",
      "Numbers are: 40\n",
      "Numbers are: 41\n",
      "Numbers are: 43\n",
      "Numbers are: 44\n",
      "Numbers are: 46\n",
      "Numbers are: 47\n",
      "Numbers are: 49\n",
      "Numbers are: 50\n",
      "Numbers are: 52\n",
      "Numbers are: 53\n",
      "Numbers are: 55\n",
      "Numbers are: 56\n",
      "Numbers are: 58\n",
      "Numbers are: 59\n",
      "Numbers are: 61\n",
      "Numbers are: 62\n",
      "Numbers are: 64\n",
      "Numbers are: 65\n",
      "Numbers are: 67\n",
      "Numbers are: 68\n",
      "Numbers are: 70\n",
      "Numbers are: 71\n",
      "Numbers are: 73\n",
      "Numbers are: 74\n",
      "Numbers are: 76\n",
      "Numbers are: 77\n",
      "Numbers are: 79\n",
      "Numbers are: 80\n",
      "Numbers are: 82\n",
      "Numbers are: 83\n",
      "Numbers are: 85\n",
      "Numbers are: 86\n",
      "Numbers are: 88\n",
      "Numbers are: 89\n",
      "Numbers are: 91\n",
      "Numbers are: 92\n",
      "Numbers are: 94\n",
      "Numbers are: 95\n",
      "Numbers are: 97\n",
      "Numbers are: 98\n",
      "Numbers are: 100\n"
     ]
    }
   ],
   "source": [
    "# To skip all the numbers that are divisible by 3\n",
    "\n",
    "num = int(input(\"Enter the number:\"))\n",
    "for i in range(1,(num+1)):\n",
    "    if((i % 3) == 0):\n",
    "        continue\n",
    "    print(\"Numbers are:\",i)"
   ]
  },
  {
   "cell_type": "markdown",
   "id": "a50989be-3991-4c8b-a58e-850458c83333",
   "metadata": {},
   "source": [
    "# 3. Pass"
   ]
  },
  {
   "cell_type": "code",
   "execution_count": 56,
   "id": "afbdb19a-497c-4a8d-ad1e-a8f80fd78904",
   "metadata": {},
   "outputs": [],
   "source": [
    "for i in range(1,100):\n",
    "    if(i == 72):\n",
    "        pass"
   ]
  },
  {
   "cell_type": "code",
   "execution_count": null,
   "id": "0b7d2823-ab6f-457f-8d15-dccd4fb868ea",
   "metadata": {},
   "outputs": [],
   "source": []
  }
 ],
 "metadata": {
  "kernelspec": {
   "display_name": "Python 3 (ipykernel)",
   "language": "python",
   "name": "python3"
  },
  "language_info": {
   "codemirror_mode": {
    "name": "ipython",
    "version": 3
   },
   "file_extension": ".py",
   "mimetype": "text/x-python",
   "name": "python",
   "nbconvert_exporter": "python",
   "pygments_lexer": "ipython3",
   "version": "3.10.8"
  }
 },
 "nbformat": 4,
 "nbformat_minor": 5
}
