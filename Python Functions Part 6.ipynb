{
 "cells": [
  {
   "cell_type": "code",
   "execution_count": 1,
   "id": "c14c1608-9d68-4a00-919f-2558a782408f",
   "metadata": {},
   "outputs": [],
   "source": [
    "l1 =[-2,4,5,6,-3,-5,-7]\n",
    "# positive numbers\n",
    "ans = filter(lambda x : x > 0,l1)"
   ]
  },
  {
   "cell_type": "code",
   "execution_count": 2,
   "id": "26b81cba-62f4-417d-aa27-6ccca1d36337",
   "metadata": {},
   "outputs": [
    {
     "name": "stdout",
     "output_type": "stream",
     "text": [
      "<filter object at 0x7f3414698be0>\n",
      "[4, 5, 6]\n"
     ]
    }
   ],
   "source": [
    "print(ans)\n",
    "print(list(ans))"
   ]
  },
  {
   "cell_type": "code",
   "execution_count": 3,
   "id": "499f8771-30ab-4994-979f-3c7f10f544e9",
   "metadata": {},
   "outputs": [],
   "source": [
    "# negative numbers\n",
    "ans = filter(lambda x : x < 0,l1)"
   ]
  },
  {
   "cell_type": "code",
   "execution_count": 4,
   "id": "92147701-3692-4c78-ac57-45f7b0c4f34f",
   "metadata": {},
   "outputs": [
    {
     "name": "stdout",
     "output_type": "stream",
     "text": [
      "<filter object at 0x7f341469a830>\n"
     ]
    }
   ],
   "source": [
    "print(ans)"
   ]
  },
  {
   "cell_type": "code",
   "execution_count": 5,
   "id": "6d7384eb-23d4-4789-bf2f-7267a0f91b1f",
   "metadata": {},
   "outputs": [
    {
     "name": "stdout",
     "output_type": "stream",
     "text": [
      "[-2, -3, -5, -7]\n"
     ]
    }
   ],
   "source": [
    "print(list(ans))"
   ]
  },
  {
   "cell_type": "code",
   "execution_count": 6,
   "id": "a51d2604-bb9f-43da-a5bd-de4466a98271",
   "metadata": {},
   "outputs": [],
   "source": [
    "l2 = [\"sudh\",\"krish\",\"mayuri\",\"tmiopll\", \"poiluulk\"]\n",
    "# filter out all the names whose length is lesser than 6\n",
    "ans = filter(lambda x : len(x) < 6, l2)"
   ]
  },
  {
   "cell_type": "code",
   "execution_count": 7,
   "id": "e40e153a-bf7e-46c8-bdad-3f041da48cc8",
   "metadata": {},
   "outputs": [
    {
     "name": "stdout",
     "output_type": "stream",
     "text": [
      "<filter object at 0x7f341469a560>\n"
     ]
    }
   ],
   "source": [
    "print(ans)"
   ]
  },
  {
   "cell_type": "code",
   "execution_count": 8,
   "id": "92dd3cf8-b970-4f87-9465-b66a6d3f4d92",
   "metadata": {},
   "outputs": [
    {
     "name": "stdout",
     "output_type": "stream",
     "text": [
      "['sudh', 'krish']\n"
     ]
    }
   ],
   "source": [
    "print(list(ans))"
   ]
  },
  {
   "cell_type": "code",
   "execution_count": null,
   "id": "6d8cd038-2b7a-4dfd-be7e-d8ee8aee03a2",
   "metadata": {},
   "outputs": [],
   "source": []
  },
  {
   "cell_type": "code",
   "execution_count": null,
   "id": "fbd1dba9-b7cb-450e-ad0d-7aa611ea26c6",
   "metadata": {},
   "outputs": [],
   "source": []
  }
 ],
 "metadata": {
  "kernelspec": {
   "display_name": "Python 3 (ipykernel)",
   "language": "python",
   "name": "python3"
  },
  "language_info": {
   "codemirror_mode": {
    "name": "ipython",
    "version": 3
   },
   "file_extension": ".py",
   "mimetype": "text/x-python",
   "name": "python",
   "nbconvert_exporter": "python",
   "pygments_lexer": "ipython3",
   "version": "3.10.8"
  }
 },
 "nbformat": 4,
 "nbformat_minor": 5
}
