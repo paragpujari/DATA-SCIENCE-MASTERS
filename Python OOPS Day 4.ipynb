{
 "cells": [
  {
   "cell_type": "markdown",
   "id": "500da78a-7c5d-4297-b912-52e34984a009",
   "metadata": {},
   "source": [
    "# Inheritance\n",
    "\n",
    "It refers to the process of inheriting the features of one claass from another class."
   ]
  },
  {
   "cell_type": "code",
   "execution_count": 2,
   "id": "238b77a6-d282-455b-aec9-dd79c0d67165",
   "metadata": {},
   "outputs": [
    {
     "name": "stdout",
     "output_type": "stream",
     "text": [
      "Parag Pujari\n",
      "Manas Ranjan Pujari\n",
      "Sikata Panda\n"
     ]
    }
   ],
   "source": [
    "# 1. Single Level Inheritance\n",
    "class Parent:\n",
    "    def print_parent(self):\n",
    "        print(\"Manas Ranjan Pujari\")\n",
    "        print(\"Sikata Panda\")\n",
    "        \n",
    "class Child(Parent):\n",
    "    def print_child(self):\n",
    "        print(\"Parag Pujari\")\n",
    "        \n",
    "c = Child()\n",
    "c.print_child()\n",
    "c.print_parent()"
   ]
  },
  {
   "cell_type": "code",
   "execution_count": 3,
   "id": "ba6ee872-e164-4d37-a0b2-7c56c5df792b",
   "metadata": {},
   "outputs": [
    {
     "name": "stdout",
     "output_type": "stream",
     "text": [
      "Sum of two numbers is: 5\n",
      "2\n",
      "3\n"
     ]
    }
   ],
   "source": [
    "# Addition of two numbers \n",
    "class Numbers:\n",
    "    def __init__(self,a,b):\n",
    "        self.a = a\n",
    "        self.b = b\n",
    "        \n",
    "    def print_details(self):\n",
    "        print(self.a)\n",
    "        print(self.b)\n",
    "        \n",
    "class Sum(Numbers):\n",
    "    def print_sum(self):\n",
    "        print(\"Sum of two numbers is:\", (self.a + self.b))\n",
    "        \n",
    "        \n",
    "s = Sum(2,3)\n",
    "s.print_sum()\n",
    "s.print_details()"
   ]
  },
  {
   "cell_type": "code",
   "execution_count": 10,
   "id": "4a21aacf-f876-48fe-a9ce-e80580b2f226",
   "metadata": {},
   "outputs": [
    {
     "name": "stdout",
     "output_type": "stream",
     "text": [
      "Product of two numbers is: 200\n"
     ]
    }
   ],
   "source": [
    "# 2. Multilevel Inheritance\n",
    "class Numbers:\n",
    "    def enter_deta(self,a):\n",
    "        self.a = a\n",
    "        \n",
    "    def print_deta(self):\n",
    "        print(self.a)\n",
    "        \n",
    "class Num2(Numbers):\n",
    "    def enter_detb(self,b):\n",
    "        self.b = b\n",
    "        \n",
    "    def print_detb(self):\n",
    "        print(self.b)\n",
    "        \n",
    "class Product(Num2):\n",
    "    def print_product(self):\n",
    "        print(\"Product of two numbers is:\",(self.a * self.b))\n",
    "        \n",
    "p = Product()\n",
    "p.enter_deta(10)\n",
    "p.enter_detb(20)\n",
    "p.print_product()\n"
   ]
  },
  {
   "cell_type": "code",
   "execution_count": 14,
   "id": "c55259d5-be62-47a3-8995-00d9f563b21d",
   "metadata": {},
   "outputs": [
    {
     "name": "stdout",
     "output_type": "stream",
     "text": [
      "Product of three numbers is: 6000\n"
     ]
    }
   ],
   "source": [
    "# 3. Multiple Inheritance\n",
    "class first:\n",
    "    def enter_dataa(self,a):\n",
    "        self.a = a\n",
    "        \n",
    "    def print_detaa(self):\n",
    "        print(self.a)\n",
    "        \n",
    "class second:\n",
    "    def enter_datab(self,b):\n",
    "        self.b = b\n",
    "        \n",
    "    def print_datab(self):\n",
    "        print(self.b)\n",
    "        \n",
    "class third:\n",
    "    def enter_datac(self,c):\n",
    "        self.c = c\n",
    "        \n",
    "    def print_datac(self):\n",
    "        print(self.c)\n",
    "        \n",
    "class Product(first, second, third):\n",
    "    def print_product(self):\n",
    "        print(\"Product of three numbers is:\", (self.a * self.b * self.c))\n",
    "\n",
    "p = Product()\n",
    "p.enter_dataa(10)\n",
    "p.enter_datab(20)\n",
    "p.enter_datac(30)\n",
    "p.print_product()"
   ]
  },
  {
   "cell_type": "code",
   "execution_count": 16,
   "id": "b1ab026e-a6aa-46dd-b291-5955af7963fc",
   "metadata": {},
   "outputs": [
    {
     "name": "stdout",
     "output_type": "stream",
     "text": [
      "30\n",
      "10\n",
      "200\n",
      "2.0\n"
     ]
    }
   ],
   "source": [
    "# 4. Hierarchical Inheritance\n",
    "class Numbers:\n",
    "    def enter_numbers(self,a,b):\n",
    "        self.a = a\n",
    "        self.b = b\n",
    "        \n",
    "    def print_numbers(self):\n",
    "        print(self.a)\n",
    "        print(self.b)\n",
    "        \n",
    "class Addition(Numbers):\n",
    "    def print_addition(self):\n",
    "        print(self.a + self.b)\n",
    "        \n",
    "        \n",
    "class Substraction(Numbers):\n",
    "    def print_substraction(self):\n",
    "        print(self.a - self.b)\n",
    "        \n",
    "class Multiplication(Numbers):\n",
    "    def print_multiplication(self):\n",
    "        print(self.a * self.b)\n",
    "        \n",
    "class Division(Numbers):\n",
    "    def print_Division(self):\n",
    "        print(self.a / self.b)\n",
    "        \n",
    "        \n",
    "a = Addition()\n",
    "a.enter_numbers(20,10)\n",
    "a.print_addition()\n",
    "\n",
    "s = Substraction()\n",
    "s.enter_numbers(20,10)\n",
    "s.print_substraction()\n",
    "\n",
    "m = Multiplication()\n",
    "m.enter_numbers(20,10)\n",
    "m.print_multiplication()\n",
    "\n",
    "d = Division()\n",
    "d.enter_numbers(20,10)\n",
    "d.print_Division()"
   ]
  },
  {
   "cell_type": "code",
   "execution_count": null,
   "id": "0e1fabab-af33-4ded-be75-5b63481f73fe",
   "metadata": {},
   "outputs": [],
   "source": []
  }
 ],
 "metadata": {
  "kernelspec": {
   "display_name": "Python 3 (ipykernel)",
   "language": "python",
   "name": "python3"
  },
  "language_info": {
   "codemirror_mode": {
    "name": "ipython",
    "version": 3
   },
   "file_extension": ".py",
   "mimetype": "text/x-python",
   "name": "python",
   "nbconvert_exporter": "python",
   "pygments_lexer": "ipython3",
   "version": "3.10.8"
  }
 },
 "nbformat": 4,
 "nbformat_minor": 5
}
