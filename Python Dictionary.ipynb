{
 "cells": [
  {
   "cell_type": "markdown",
   "id": "81881b9b-ee0a-4a96-9a16-ad9300a10152",
   "metadata": {},
   "source": [
    "# Dictionary"
   ]
  },
  {
   "cell_type": "code",
   "execution_count": 8,
   "id": "03499a7a-33f4-41be-ba16-ac7ae9186107",
   "metadata": {},
   "outputs": [
    {
     "name": "stdout",
     "output_type": "stream",
     "text": [
      "{}\n",
      "<class 'dict'>\n",
      "{1: 'abc', 2: 'def', 3: 'ghi'}\n",
      "<class 'dict'>\n",
      "{1: 'abc', 'sdh': 'yuk'}\n",
      "<class 'dict'>\n"
     ]
    }
   ],
   "source": [
    "# Creation of Dictionary\n",
    "dict = {}\n",
    "print(dict)\n",
    "print(type(dict))\n",
    "\n",
    "# Dictionary with integer keys\n",
    "dict1 = {1:'abc', 2:'def', 3:'ghi'}\n",
    "print(dict1)\n",
    "print(type(dict1))\n",
    "\n",
    "# Dictionary with mixed keys\n",
    "dict2 = {1:'abc', \"sdh\":'yuk'}\n",
    "print(dict2)\n",
    "print(type(dict2))\n",
    "\n"
   ]
  },
  {
   "cell_type": "code",
   "execution_count": 10,
   "id": "f8fd1a88-7a55-4d91-b5bd-da4136fe6f74",
   "metadata": {},
   "outputs": [
    {
     "name": "stdout",
     "output_type": "stream",
     "text": [
      "satish\n",
      "guntur\n"
     ]
    }
   ],
   "source": [
    "# Accessing the element from the dictionary\n",
    "my_dict = {'name': 'satish', 'age':27, 'address':'guntur'}\n",
    "print(my_dict['name'])\n",
    "print(my_dict['address'])"
   ]
  },
  {
   "cell_type": "code",
   "execution_count": 13,
   "id": "1dd03a22-3129-4870-92ab-4153cbbec56a",
   "metadata": {},
   "outputs": [
    {
     "name": "stdout",
     "output_type": "stream",
     "text": [
      "satish\n",
      "27\n",
      "guntur\n"
     ]
    }
   ],
   "source": [
    "# obtain the values using the keys\n",
    "print(my_dict.get('name'))\n",
    "print(my_dict.get('age'))\n",
    "print(my_dict.get('address'))"
   ]
  },
  {
   "cell_type": "code",
   "execution_count": 17,
   "id": "84cc8626-42aa-4e56-b304-cd5417849567",
   "metadata": {},
   "outputs": [
    {
     "name": "stdout",
     "output_type": "stream",
     "text": [
      "{'name': 'satish', 'age': 27, 'address': 'guntur', 'sex': 'male', 'country': 'India'}\n",
      "{'name': 'satish', 'age': 27, 'address': 'guntur', 'sex': 'male', 'country': 'India'}\n",
      "{'name': 'satish', 'age': 27, 'address': 'guntur', 'sex': 'male', 'country': 'India'}\n",
      "{'name': 'ashish', 'age': 27, 'address': 'guntur', 'sex': 'male', 'country': 'India'}\n"
     ]
    }
   ],
   "source": [
    "# Add the elements in the dictionary\n",
    "print(my_dict)\n",
    "\n",
    "my_dict['sex'] = 'male'\n",
    "print(my_dict)\n",
    "\n",
    "my_dict['country'] = 'India'\n",
    "print(my_dict)\n",
    "\n",
    "# Modify the elements in the dictionary\n",
    "my_dict['name'] = 'ashish'\n",
    "print(my_dict)"
   ]
  },
  {
   "cell_type": "code",
   "execution_count": 21,
   "id": "7de58512-cba5-4152-a91e-91ae23e94842",
   "metadata": {},
   "outputs": [
    {
     "name": "stdout",
     "output_type": "stream",
     "text": [
      "{'age': 27, 'address': 'guntur', 'sex': 'male', 'country': 'India'}\n",
      "male\n",
      "{'age': 27, 'address': 'guntur', 'country': 'India'}\n",
      "('country', 'India')\n",
      "{'age': 27, 'address': 'guntur'}\n"
     ]
    }
   ],
   "source": [
    "# Delete the elements from the dictionary\n",
    "\n",
    "print(my_dict)\n",
    "a = my_dict.pop('sex')\n",
    "print(a)\n",
    "\n",
    "print(my_dict)\n",
    "\n",
    "\n",
    "b = my_dict.popitem()\n",
    "print(b)\n",
    "\n",
    "print(my_dict)"
   ]
  },
  {
   "cell_type": "code",
   "execution_count": 22,
   "id": "1882867c-4f5f-4994-b956-2d4357e9b2e3",
   "metadata": {},
   "outputs": [
    {
     "name": "stdout",
     "output_type": "stream",
     "text": [
      "{}\n"
     ]
    }
   ],
   "source": [
    "my_dict.clear()\n",
    "print(my_dict)"
   ]
  },
  {
   "cell_type": "code",
   "execution_count": 24,
   "id": "15b2da22-2445-4404-8912-bdbaa814cb40",
   "metadata": {},
   "outputs": [],
   "source": [
    "squares = {2:4, 3:9, 4:16, 5:25, 6:36}\n",
    "\n",
    "# delete the entire dictionary\n",
    "del squares\n"
   ]
  },
  {
   "cell_type": "code",
   "execution_count": 25,
   "id": "4d00ae0c-d43d-4f65-89c0-51a7fcecb709",
   "metadata": {},
   "outputs": [
    {
     "ename": "NameError",
     "evalue": "name 'squares' is not defined",
     "output_type": "error",
     "traceback": [
      "\u001b[0;31m---------------------------------------------------------------------------\u001b[0m",
      "\u001b[0;31mNameError\u001b[0m                                 Traceback (most recent call last)",
      "Cell \u001b[0;32mIn[25], line 1\u001b[0m\n\u001b[0;32m----> 1\u001b[0m \u001b[38;5;28mprint\u001b[39m(\u001b[43msquares\u001b[49m)\n",
      "\u001b[0;31mNameError\u001b[0m: name 'squares' is not defined"
     ]
    }
   ],
   "source": [
    "print(squares)"
   ]
  },
  {
   "cell_type": "markdown",
   "id": "bff28b53-0a21-4dfb-9192-a78d00bdb567",
   "metadata": {},
   "source": [
    "## Dictionary Methods"
   ]
  },
  {
   "cell_type": "code",
   "execution_count": 26,
   "id": "a6c59bca-4e95-4eaf-9c43-68cba9dbe52e",
   "metadata": {},
   "outputs": [
    {
     "name": "stdout",
     "output_type": "stream",
     "text": [
      "{2: 4, 3: 9, 4: 16, 5: 25, 6: 36, 7: 49, 8: 64, 9: 81}\n"
     ]
    }
   ],
   "source": [
    "# 1. copy() = It copies the elements of one dictionary into another dictionary\n",
    "squares = {2:4, 3:9, 4:16, 5:25, 6:36, 7:49, 8:64, 9:81}\n",
    "\n",
    "sq = squares.copy()\n",
    "\n",
    "print(sq)"
   ]
  },
  {
   "cell_type": "code",
   "execution_count": 27,
   "id": "ec231c7b-2205-47fa-a69b-22f921236f86",
   "metadata": {},
   "outputs": [
    {
     "name": "stdout",
     "output_type": "stream",
     "text": [
      "{1: 'a', 2: 'a', 3: 'a', 4: 'a', 5: 'a'}\n"
     ]
    }
   ],
   "source": [
    "# fromkeys() = It returns a new dictionary from the keys and values pairs\n",
    "\n",
    "results = {}.fromkeys([1,2,3,4,5],'a')\n",
    "print(results)"
   ]
  },
  {
   "cell_type": "code",
   "execution_count": 28,
   "id": "c808fcb7-9890-40a9-96c2-68c5f6a4a95e",
   "metadata": {},
   "outputs": [
    {
     "name": "stdout",
     "output_type": "stream",
     "text": [
      "dict_keys([1, 2, 3, 4, 5])\n"
     ]
    }
   ],
   "source": [
    "# keys() = It obtains all the keys from the dictionary\n",
    "print(results.keys())"
   ]
  },
  {
   "cell_type": "code",
   "execution_count": 29,
   "id": "913a5c77-a670-41be-9cc5-4454fa975aef",
   "metadata": {},
   "outputs": [
    {
     "name": "stdout",
     "output_type": "stream",
     "text": [
      "dict_items([(1, 'a'), (2, 'a'), (3, 'a'), (4, 'a'), (5, 'a')])\n"
     ]
    }
   ],
   "source": [
    "# items() = It obtains all the items from the dictionary\n",
    "print(results.items())"
   ]
  },
  {
   "cell_type": "code",
   "execution_count": 30,
   "id": "45de7cfe-2ad2-46cf-8b76-9bf5f13a3be4",
   "metadata": {},
   "outputs": [
    {
     "name": "stdout",
     "output_type": "stream",
     "text": [
      "dict_values(['a', 'a', 'a', 'a', 'a'])\n"
     ]
    }
   ],
   "source": [
    "# values() = It obtains all the values from the dictionary\n",
    "print(results.values())"
   ]
  },
  {
   "cell_type": "code",
   "execution_count": 31,
   "id": "fdbfa0fb-d212-40d7-8e83-a0bdbd2cf50e",
   "metadata": {},
   "outputs": [
    {
     "name": "stdout",
     "output_type": "stream",
     "text": [
      "['__class__', '__class_getitem__', '__contains__', '__delattr__', '__delitem__', '__dir__', '__doc__', '__eq__', '__format__', '__ge__', '__getattribute__', '__getitem__', '__gt__', '__hash__', '__init__', '__init_subclass__', '__ior__', '__iter__', '__le__', '__len__', '__lt__', '__ne__', '__new__', '__or__', '__reduce__', '__reduce_ex__', '__repr__', '__reversed__', '__ror__', '__setattr__', '__setitem__', '__sizeof__', '__str__', '__subclasshook__', 'clear', 'copy', 'fromkeys', 'get', 'items', 'keys', 'pop', 'popitem', 'setdefault', 'update', 'values']\n"
     ]
    }
   ],
   "source": [
    "d = {}\n",
    "print(dir(d))"
   ]
  },
  {
   "cell_type": "code",
   "execution_count": 33,
   "id": "a29d8f2f-a265-4001-9867-652a88da8fd6",
   "metadata": {},
   "outputs": [
    {
     "name": "stdout",
     "output_type": "stream",
     "text": [
      "{1: 'a', 2: 'b', 3: 'c', 4: 'd', 5: 'e'}\n"
     ]
    }
   ],
   "source": [
    "# Dictionary Comprehensions\n",
    "d = {1 : 'a', 2 : 'b', 3 : 'c', 4 : 'd', 5 : 'e'}\n",
    "\n",
    "ans = {k:v for k,v in d.items() if(k,v) != 0}\n",
    "print(ans)"
   ]
  },
  {
   "cell_type": "code",
   "execution_count": null,
   "id": "cbf118c1-516a-417a-a237-4d45187df408",
   "metadata": {},
   "outputs": [],
   "source": []
  }
 ],
 "metadata": {
  "kernelspec": {
   "display_name": "Python 3 (ipykernel)",
   "language": "python",
   "name": "python3"
  },
  "language_info": {
   "codemirror_mode": {
    "name": "ipython",
    "version": 3
   },
   "file_extension": ".py",
   "mimetype": "text/x-python",
   "name": "python",
   "nbconvert_exporter": "python",
   "pygments_lexer": "ipython3",
   "version": "3.10.8"
  }
 },
 "nbformat": 4,
 "nbformat_minor": 5
}
