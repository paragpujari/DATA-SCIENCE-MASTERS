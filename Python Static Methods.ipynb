{
 "cells": [
  {
   "cell_type": "markdown",
   "id": "16df06f8-1e09-43ec-b138-af49e37ed2da",
   "metadata": {},
   "source": [
    "# Static Methods"
   ]
  },
  {
   "cell_type": "code",
   "execution_count": 25,
   "id": "9539036b-1028-4597-9503-3cb4b081ce90",
   "metadata": {},
   "outputs": [],
   "source": [
    "class Parag:\n",
    "    # normal methods\n",
    "    def student_details(self, name, email, roll):\n",
    "        self.name = name\n",
    "        self.email = email\n",
    "        self.roll = roll\n",
    "        \n",
    "    def print_students_details(self):\n",
    "        print(self.name)\n",
    "        print(self.email)\n",
    "        print(self.roll)\n",
    "        \n",
    "    @staticmethod\n",
    "    def mentor_mail_id(mail_id):\n",
    "        print(mail_id)\n",
    "        \n",
    "    # static methods\n",
    "    @staticmethod\n",
    "    def students_list_details(students_list):\n",
    "        print(students_list)\n",
    "        Parag.mentor_mail_id([\"paragpujari95@gmail.com\"])\n",
    "        \n",
    "    \n",
    "        \n",
    "    # static method inside the instance method\n",
    "    def print_students_list(self, students_list):\n",
    "        print(students_list)\n",
    "        print(self.students_list_details(['Parag','Nishant','Subham','Aman']))"
   ]
  },
  {
   "cell_type": "code",
   "execution_count": 26,
   "id": "babcdeb3-6c18-47b1-8cee-8a95dddd7ab4",
   "metadata": {},
   "outputs": [],
   "source": [
    "# object for the class\n",
    "obj = Parag()\n"
   ]
  },
  {
   "cell_type": "code",
   "execution_count": 27,
   "id": "da1d7039-c267-4051-a483-243f213af1ab",
   "metadata": {},
   "outputs": [
    {
     "name": "stdout",
     "output_type": "stream",
     "text": [
      "Parag\n",
      "paragpujari95@gmail.com\n",
      "89\n"
     ]
    }
   ],
   "source": [
    "obj.student_details(\"Parag\",\"paragpujari95@gmail.com\",89)\n",
    "\n",
    "obj.print_students_details()"
   ]
  },
  {
   "cell_type": "code",
   "execution_count": 28,
   "id": "7c7d26a0-1a25-4d9b-b9f2-fcb5e429db06",
   "metadata": {},
   "outputs": [
    {
     "name": "stdout",
     "output_type": "stream",
     "text": [
      "['Parag', 'Nishant', 'Subham', 'Aman']\n",
      "['paragpujari95@gmail.com']\n"
     ]
    }
   ],
   "source": [
    "# To access the static method\n",
    "Parag.students_list_details(['Parag','Nishant','Subham','Aman'])"
   ]
  },
  {
   "cell_type": "code",
   "execution_count": 29,
   "id": "10226df8-b047-4a3c-9692-b9aebd228218",
   "metadata": {},
   "outputs": [
    {
     "name": "stdout",
     "output_type": "stream",
     "text": [
      "['paragpujari95@gmail.com']\n"
     ]
    }
   ],
   "source": [
    "Parag.mentor_mail_id([\"paragpujari95@gmail.com\"])"
   ]
  },
  {
   "cell_type": "code",
   "execution_count": null,
   "id": "58b6546c-af12-479a-9e9d-1a765b05f26c",
   "metadata": {},
   "outputs": [],
   "source": []
  }
 ],
 "metadata": {
  "kernelspec": {
   "display_name": "Python 3 (ipykernel)",
   "language": "python",
   "name": "python3"
  },
  "language_info": {
   "codemirror_mode": {
    "name": "ipython",
    "version": 3
   },
   "file_extension": ".py",
   "mimetype": "text/x-python",
   "name": "python",
   "nbconvert_exporter": "python",
   "pygments_lexer": "ipython3",
   "version": "3.10.8"
  }
 },
 "nbformat": 4,
 "nbformat_minor": 5
}
