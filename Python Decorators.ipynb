{
 "cells": [
  {
   "cell_type": "markdown",
   "id": "542ec5f5-8deb-4285-b713-70da3c9bc384",
   "metadata": {},
   "source": [
    "# Decorators"
   ]
  },
  {
   "cell_type": "code",
   "execution_count": 8,
   "id": "89ceb9e9-51f2-4e17-bd70-707e20366bff",
   "metadata": {},
   "outputs": [],
   "source": [
    "# define a decorator\n",
    "def deco_func(func):\n",
    "    def inner_deco_func():\n",
    "        print(\"This is the start of my function\")\n",
    "        func()\n",
    "        print(\"This is the end of my function\")\n",
    "    return inner_deco_func"
   ]
  },
  {
   "cell_type": "code",
   "execution_count": 9,
   "id": "5747ef55-0932-417d-a8e5-fa442a6d86d5",
   "metadata": {},
   "outputs": [],
   "source": [
    "@deco_func\n",
    "def test1():\n",
    "    print(4+5)"
   ]
  },
  {
   "cell_type": "code",
   "execution_count": 10,
   "id": "1b922ef0-116a-4e97-b939-f0a6da36fc8d",
   "metadata": {},
   "outputs": [
    {
     "name": "stdout",
     "output_type": "stream",
     "text": [
      "This is the start of my function\n",
      "9\n",
      "This is the end of my function\n"
     ]
    }
   ],
   "source": [
    "test1()"
   ]
  },
  {
   "cell_type": "code",
   "execution_count": 11,
   "id": "fd5207ae-39d6-4f29-95a3-1f2f62c86af8",
   "metadata": {},
   "outputs": [],
   "source": [
    "# define the decorator\n",
    "def deco_fun(function):\n",
    "    def inner_dec_func():\n",
    "        print(\"This is Parag. This is my house\")\n",
    "        function()\n",
    "        print(\"This is the end of my function\")\n",
    "    return inner_dec_func"
   ]
  },
  {
   "cell_type": "code",
   "execution_count": 12,
   "id": "176b1669-b608-4d6e-a1f7-63f6f001539b",
   "metadata": {},
   "outputs": [],
   "source": [
    "@deco_fun\n",
    "def test2():\n",
    "    print(9+8)"
   ]
  },
  {
   "cell_type": "code",
   "execution_count": 13,
   "id": "2411e56e-f3f8-4048-ba8b-6940e782d110",
   "metadata": {},
   "outputs": [
    {
     "name": "stdout",
     "output_type": "stream",
     "text": [
      "This is Parag. This is my house\n",
      "17\n",
      "This is the end of my function\n"
     ]
    }
   ],
   "source": [
    "test2()"
   ]
  },
  {
   "cell_type": "code",
   "execution_count": 17,
   "id": "f49599c2-cfaa-485f-9ea6-3cf0c870751a",
   "metadata": {},
   "outputs": [],
   "source": [
    "# define the decorator function\n",
    "def decorator(fun):\n",
    "    def inner_decorator():\n",
    "        print(\"Start of my period\")\n",
    "        fun()\n",
    "        print(\"End of my period\")\n",
    "    return inner_decorator"
   ]
  },
  {
   "cell_type": "code",
   "execution_count": 18,
   "id": "852ab062-22f8-45d4-872e-ed1f8be97b4d",
   "metadata": {},
   "outputs": [],
   "source": [
    "@decorator\n",
    "def fun():\n",
    "    print(9+0)"
   ]
  },
  {
   "cell_type": "code",
   "execution_count": 19,
   "id": "9d9d2db4-6871-4297-9ef4-0c71a5535b1e",
   "metadata": {},
   "outputs": [
    {
     "name": "stdout",
     "output_type": "stream",
     "text": [
      "Start of my period\n",
      "9\n",
      "End of my period\n"
     ]
    }
   ],
   "source": [
    "fun()"
   ]
  },
  {
   "cell_type": "code",
   "execution_count": 23,
   "id": "df3f694c-2b42-4546-81c9-06d4cf865a0b",
   "metadata": {},
   "outputs": [],
   "source": [
    "# define the decorator function\n",
    "def student_deco(function):\n",
    "    def inner_student_deco():\n",
    "        print(\"Parag Male Sambalpur Odisha\")\n",
    "        function()\n",
    "        print(\"Nishant Male Sambalpur Odisha\")\n",
    "        function()\n",
    "        print(\"Subham Male Sambalpur Odisha\")\n",
    "        function()\n",
    "        print(\"Sristy Female Sambalpur Odisha\")\n",
    "        function()\n",
    "        print(\"Sudeshna Female Smabalpur Odisha\")\n",
    "    return(inner_student_deco)"
   ]
  },
  {
   "cell_type": "code",
   "execution_count": 24,
   "id": "0e4a216d-7626-45d0-8d04-96271cfd1681",
   "metadata": {},
   "outputs": [],
   "source": [
    "@student_deco\n",
    "def function():\n",
    "    print(\"Date of Birth is:\", 1995)"
   ]
  },
  {
   "cell_type": "code",
   "execution_count": 25,
   "id": "f4b57c2e-9377-4208-9a8c-4d3b4ff582ec",
   "metadata": {},
   "outputs": [
    {
     "name": "stdout",
     "output_type": "stream",
     "text": [
      "Parag Male Sambalpur Odisha\n",
      "Date of Birth is: 1995\n",
      "Nishant Male Sambalpur Odisha\n",
      "Date of Birth is: 1995\n",
      "Subham Male Sambalpur Odisha\n",
      "Date of Birth is: 1995\n",
      "Sristy Female Sambalpur Odisha\n",
      "Date of Birth is: 1995\n",
      "Sudeshna Female Smabalpur Odisha\n"
     ]
    }
   ],
   "source": [
    "function()"
   ]
  },
  {
   "cell_type": "code",
   "execution_count": null,
   "id": "be42f5b4-58d8-484d-a7c9-976cd3da91a6",
   "metadata": {},
   "outputs": [],
   "source": []
  }
 ],
 "metadata": {
  "kernelspec": {
   "display_name": "Python 3 (ipykernel)",
   "language": "python",
   "name": "python3"
  },
  "language_info": {
   "codemirror_mode": {
    "name": "ipython",
    "version": 3
   },
   "file_extension": ".py",
   "mimetype": "text/x-python",
   "name": "python",
   "nbconvert_exporter": "python",
   "pygments_lexer": "ipython3",
   "version": "3.10.8"
  }
 },
 "nbformat": 4,
 "nbformat_minor": 5
}
