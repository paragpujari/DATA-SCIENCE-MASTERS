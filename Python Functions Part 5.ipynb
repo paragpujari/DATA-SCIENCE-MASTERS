{
 "cells": [
  {
   "cell_type": "code",
   "execution_count": 1,
   "id": "16cc62f6-f906-4a29-9912-5cdac2bbd8f7",
   "metadata": {},
   "outputs": [
    {
     "data": {
      "text/plain": [
       "<map at 0x7fd9f8bd8e80>"
      ]
     },
     "execution_count": 1,
     "metadata": {},
     "output_type": "execute_result"
    }
   ],
   "source": [
    "l = [1,2,3,4,5]\n",
    "# To perform the squares of the number\n",
    "def square(l):\n",
    "    return(l ** 2)\n",
    "# gives a mapper object\n",
    "map(square,l)"
   ]
  },
  {
   "cell_type": "code",
   "execution_count": 2,
   "id": "0b40194e-d4fe-4606-bd17-c2234609a19c",
   "metadata": {},
   "outputs": [
    {
     "data": {
      "text/plain": [
       "[1, 4, 9, 16, 25]"
      ]
     },
     "execution_count": 2,
     "metadata": {},
     "output_type": "execute_result"
    }
   ],
   "source": [
    "# call the mapper function\n",
    "list(map(square,l))"
   ]
  },
  {
   "cell_type": "code",
   "execution_count": 4,
   "id": "26aa5959-037a-483e-b495-4cbcaa254a50",
   "metadata": {},
   "outputs": [
    {
     "data": {
      "text/plain": [
       "[1, 4, 9, 16, 25]"
      ]
     },
     "execution_count": 4,
     "metadata": {},
     "output_type": "execute_result"
    }
   ],
   "source": [
    "list(map(lambda x : x ** 2,l))"
   ]
  },
  {
   "cell_type": "code",
   "execution_count": 5,
   "id": "ea8c8dc3-73c0-4c05-91c2-d2539d31be3f",
   "metadata": {},
   "outputs": [
    {
     "data": {
      "text/plain": [
       "[1, 4, 9, 16, 25]"
      ]
     },
     "execution_count": 5,
     "metadata": {},
     "output_type": "execute_result"
    }
   ],
   "source": [
    "list(map(lambda x : x ** 2, l))"
   ]
  },
  {
   "cell_type": "code",
   "execution_count": 6,
   "id": "d7bacb6d-860c-4df2-b414-e39312436fbe",
   "metadata": {},
   "outputs": [
    {
     "data": {
      "text/plain": [
       "[11, 12, 13, 14, 15]"
      ]
     },
     "execution_count": 6,
     "metadata": {},
     "output_type": "execute_result"
    }
   ],
   "source": [
    "# Add 10 to every element of l\n",
    "l = [1,2,3,4,5]\n",
    "\n",
    "list(map(lambda l : l + 10,l))"
   ]
  },
  {
   "cell_type": "code",
   "execution_count": 7,
   "id": "ecdc91da-17d4-4028-a531-5822af5b1ea5",
   "metadata": {},
   "outputs": [
    {
     "data": {
      "text/plain": [
       "['1', '2', '3', '4', '5']"
      ]
     },
     "execution_count": 7,
     "metadata": {},
     "output_type": "execute_result"
    }
   ],
   "source": [
    "# convert every element in list l to string\n",
    "list(map(lambda l : str(l),l))"
   ]
  },
  {
   "cell_type": "code",
   "execution_count": 10,
   "id": "d5a00621-b5f5-4d9a-bc4f-771ed0d11a50",
   "metadata": {},
   "outputs": [
    {
     "data": {
      "text/plain": [
       "[7, 9, 11, 13, 15]"
      ]
     },
     "execution_count": 10,
     "metadata": {},
     "output_type": "execute_result"
    }
   ],
   "source": [
    "l1 = [1,2,3,4,5]\n",
    "l2 = [6,7,8,9,10]\n",
    "\n",
    "# Addition of nnumbers at their indexes\n",
    "list(map( lambda x , y : x + y, l1 , l2))"
   ]
  },
  {
   "cell_type": "code",
   "execution_count": 11,
   "id": "52c25488-7b1b-4f62-9afd-d171166ff16e",
   "metadata": {},
   "outputs": [
    {
     "data": {
      "text/plain": [
       "['P', 'W', 'S', 'K', 'I', 'L', 'L', 'S']"
      ]
     },
     "execution_count": 11,
     "metadata": {},
     "output_type": "execute_result"
    }
   ],
   "source": [
    "# convert the string into upper case\n",
    "s = 'pwskills'\n",
    "list(map(lambda s : s.upper(),s))"
   ]
  },
  {
   "cell_type": "code",
   "execution_count": 12,
   "id": "dcc902a3-b432-4b4b-bee3-4e45326e0954",
   "metadata": {},
   "outputs": [],
   "source": [
    "from functools import reduce"
   ]
  },
  {
   "cell_type": "code",
   "execution_count": 13,
   "id": "6b849c02-b39d-4006-9275-aef655d2834f",
   "metadata": {},
   "outputs": [],
   "source": [
    "# addition of all the elements in the list\n",
    "l = [1,2,3,4,5,6,7,8,9,10]\n",
    "a = reduce(lambda x , y : x + y,l)"
   ]
  },
  {
   "cell_type": "code",
   "execution_count": 14,
   "id": "ca0d1941-ae51-4598-9ba9-a9f893c2f4dc",
   "metadata": {},
   "outputs": [
    {
     "name": "stdout",
     "output_type": "stream",
     "text": [
      "55\n"
     ]
    }
   ],
   "source": [
    "print(a)"
   ]
  },
  {
   "cell_type": "code",
   "execution_count": 15,
   "id": "9b00a5c5-8168-4cd6-8121-50f6251b752b",
   "metadata": {},
   "outputs": [],
   "source": [
    "# multiplication of all the elements in the list\n",
    "l = [1,2,3,4,6,8]\n",
    "b = reduce(lambda x , y : x * y,l)"
   ]
  },
  {
   "cell_type": "code",
   "execution_count": 16,
   "id": "a572d25e-cef9-49e2-85f3-d56d02e2edb2",
   "metadata": {},
   "outputs": [
    {
     "name": "stdout",
     "output_type": "stream",
     "text": [
      "1152\n"
     ]
    }
   ],
   "source": [
    "print(b)"
   ]
  },
  {
   "cell_type": "code",
   "execution_count": 17,
   "id": "a9d16a57-d9a8-4c01-b939-f12b5a74a6da",
   "metadata": {},
   "outputs": [],
   "source": [
    "l = [1]\n",
    "ans = reduce(lambda x , y : x + y,l)"
   ]
  },
  {
   "cell_type": "code",
   "execution_count": 18,
   "id": "0825b90e-234e-4673-9ee8-03202e4acea1",
   "metadata": {},
   "outputs": [
    {
     "name": "stdout",
     "output_type": "stream",
     "text": [
      "1\n"
     ]
    }
   ],
   "source": [
    "print(ans)"
   ]
  },
  {
   "cell_type": "code",
   "execution_count": 19,
   "id": "60e0f705-b9a8-4956-9a59-69ba22d8d827",
   "metadata": {},
   "outputs": [],
   "source": [
    "ans = reduce(lambda x , y : x * y,l)"
   ]
  },
  {
   "cell_type": "code",
   "execution_count": 20,
   "id": "4f924e5e-c05d-4c31-8952-10ba5e574de2",
   "metadata": {},
   "outputs": [
    {
     "name": "stdout",
     "output_type": "stream",
     "text": [
      "1\n"
     ]
    }
   ],
   "source": [
    "print(ans)"
   ]
  },
  {
   "cell_type": "code",
   "execution_count": 25,
   "id": "cfae365c-3e90-4877-8741-5927d0fabf1b",
   "metadata": {},
   "outputs": [],
   "source": [
    "l = [1,2,3,4,5]\n",
    "# maximum of the numbers in the list\n",
    "ans = reduce(lambda x , y: x if (x > y) else y,l)"
   ]
  },
  {
   "cell_type": "code",
   "execution_count": 26,
   "id": "2a4d5b25-770d-4a0b-aca6-91ee567f90c5",
   "metadata": {},
   "outputs": [
    {
     "name": "stdout",
     "output_type": "stream",
     "text": [
      "5\n"
     ]
    }
   ],
   "source": [
    "print(ans)"
   ]
  },
  {
   "cell_type": "code",
   "execution_count": 31,
   "id": "85ace8d6-34e7-4a5e-bc90-cabd402bfeb7",
   "metadata": {},
   "outputs": [],
   "source": [
    "# filter \n",
    "l = [1,2,3,4,5]\n",
    "\n",
    "# filter out all even numbers\n",
    "\n",
    "ans = filter(lambda x : x % 2 == 0,l)"
   ]
  },
  {
   "cell_type": "code",
   "execution_count": 32,
   "id": "adc68709-213f-4471-87fe-f3954ea6f148",
   "metadata": {},
   "outputs": [
    {
     "name": "stdout",
     "output_type": "stream",
     "text": [
      "<filter object at 0x7fd9d6fd72e0>\n"
     ]
    }
   ],
   "source": [
    "print(ans)"
   ]
  },
  {
   "cell_type": "code",
   "execution_count": 33,
   "id": "163bf9d5-a99b-4ebb-a9d8-65d02085b499",
   "metadata": {},
   "outputs": [
    {
     "name": "stdout",
     "output_type": "stream",
     "text": [
      "[2, 4]\n"
     ]
    }
   ],
   "source": [
    "print(list(ans))"
   ]
  },
  {
   "cell_type": "code",
   "execution_count": 34,
   "id": "32d88d63-9621-4a20-975a-8cb165931b6f",
   "metadata": {},
   "outputs": [],
   "source": [
    "# odd element\n",
    "ans = filter(lambda x : x % 2 != 0,l)"
   ]
  },
  {
   "cell_type": "code",
   "execution_count": 35,
   "id": "5b179d77-59b2-46aa-b7d1-a7c656bd0a02",
   "metadata": {},
   "outputs": [
    {
     "name": "stdout",
     "output_type": "stream",
     "text": [
      "<filter object at 0x7fd9d6fd4df0>\n"
     ]
    }
   ],
   "source": [
    "print(ans)"
   ]
  },
  {
   "cell_type": "code",
   "execution_count": 36,
   "id": "7faaa7fc-e9ac-47f4-ba4a-d1b9cea91d9b",
   "metadata": {},
   "outputs": [
    {
     "name": "stdout",
     "output_type": "stream",
     "text": [
      "[1, 3, 5]\n"
     ]
    }
   ],
   "source": [
    "print(list(ans))"
   ]
  },
  {
   "cell_type": "code",
   "execution_count": null,
   "id": "d6603cf8-eb75-4cab-936b-21350c33113d",
   "metadata": {},
   "outputs": [],
   "source": []
  },
  {
   "cell_type": "code",
   "execution_count": null,
   "id": "093d743a-064c-44c5-9c75-9d0950ace1a1",
   "metadata": {},
   "outputs": [],
   "source": []
  },
  {
   "cell_type": "code",
   "execution_count": null,
   "id": "10c6918b-4834-4680-aba8-87a751771aac",
   "metadata": {},
   "outputs": [],
   "source": []
  },
  {
   "cell_type": "code",
   "execution_count": null,
   "id": "24439f01-232b-405c-83f6-a4d4d7304b6d",
   "metadata": {},
   "outputs": [],
   "source": []
  },
  {
   "cell_type": "code",
   "execution_count": null,
   "id": "043794a9-b995-4d0e-9d67-615ff3564774",
   "metadata": {},
   "outputs": [],
   "source": []
  },
  {
   "cell_type": "code",
   "execution_count": null,
   "id": "225d4d9a-bf9f-4714-a958-6c318f1ea72b",
   "metadata": {},
   "outputs": [],
   "source": []
  }
 ],
 "metadata": {
  "kernelspec": {
   "display_name": "Python 3 (ipykernel)",
   "language": "python",
   "name": "python3"
  },
  "language_info": {
   "codemirror_mode": {
    "name": "ipython",
    "version": 3
   },
   "file_extension": ".py",
   "mimetype": "text/x-python",
   "name": "python",
   "nbconvert_exporter": "python",
   "pygments_lexer": "ipython3",
   "version": "3.10.8"
  }
 },
 "nbformat": 4,
 "nbformat_minor": 5
}
