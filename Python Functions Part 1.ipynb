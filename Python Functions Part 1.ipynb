{
 "cells": [
  {
   "cell_type": "markdown",
   "id": "e275e408-930d-4432-9127-afa0a7d13e78",
   "metadata": {},
   "source": [
    "# Functions"
   ]
  },
  {
   "cell_type": "code",
   "execution_count": 1,
   "id": "6c576ad0-1fb3-4254-8fbd-fa285afda58d",
   "metadata": {},
   "outputs": [
    {
     "name": "stdout",
     "output_type": "stream",
     "text": [
      "this is my program\n"
     ]
    }
   ],
   "source": [
    "# 1. In-Build Function\n",
    "print(\"this is my program\")"
   ]
  },
  {
   "cell_type": "code",
   "execution_count": 2,
   "id": "1c76aedd-5c62-432a-adff-a346f8b81c4b",
   "metadata": {},
   "outputs": [
    {
     "name": "stdout",
     "output_type": "stream",
     "text": [
      "Hello World\n"
     ]
    }
   ],
   "source": [
    "# 2. User Defined Functions\n",
    "def print_message():\n",
    "    print(\"Hello World\")\n",
    "\n",
    "print_message()"
   ]
  },
  {
   "cell_type": "code",
   "execution_count": 3,
   "id": "0f38aa19-3e27-47b6-ae74-a964b5e39006",
   "metadata": {},
   "outputs": [
    {
     "name": "stdout",
     "output_type": "stream",
     "text": [
      "Hello World\n"
     ]
    }
   ],
   "source": [
    "def print_message(messg):\n",
    "    print(messg)\n",
    "\n",
    "print_message(\"Hello World\")"
   ]
  },
  {
   "cell_type": "code",
   "execution_count": 4,
   "id": "5b1d3374-4291-4b6e-a166-4cd25e4dabc9",
   "metadata": {},
   "outputs": [],
   "source": [
    "# pass = It does not give any outcome even it no input is given to it.\n",
    "def test1():\n",
    "    pass\n",
    "\n",
    "test1()"
   ]
  },
  {
   "cell_type": "code",
   "execution_count": 5,
   "id": "efaebc4a-567b-445d-874f-fae49f2a83c7",
   "metadata": {},
   "outputs": [
    {
     "name": "stdout",
     "output_type": "stream",
     "text": [
      "30\n"
     ]
    }
   ],
   "source": [
    "# addition of two numbers\n",
    "def calc(a,b):\n",
    "    ans = a + b\n",
    "    print(ans)\n",
    "\n",
    "calc(10,20)"
   ]
  },
  {
   "cell_type": "code",
   "execution_count": 8,
   "id": "8c8a3a01-9d28-44d6-8edf-541d84ed489e",
   "metadata": {},
   "outputs": [
    {
     "data": {
      "text/plain": [
       "' My name is Parag Bakshi'"
      ]
     },
     "execution_count": 8,
     "metadata": {},
     "output_type": "execute_result"
    }
   ],
   "source": [
    "def test():\n",
    "    return \" My name is Parag\"\n",
    "\n",
    "test() + \" Bakshi\""
   ]
  },
  {
   "cell_type": "code",
   "execution_count": 16,
   "id": "d8605a56-5a1f-4ce9-a236-383fc9c364dc",
   "metadata": {},
   "outputs": [
    {
     "name": "stdin",
     "output_type": "stream",
     "text": [
      "Enter the number: 5\n"
     ]
    },
    {
     "name": "stdout",
     "output_type": "stream",
     "text": [
      "Factorial of a number is: 120\n"
     ]
    }
   ],
   "source": [
    "# Factorial of a  number\n",
    "import math\n",
    "def fact(num):\n",
    "    return(math.factorial(num))\n",
    "\n",
    "num = int(input(\"Enter the number:\"))\n",
    "f = fact(num)\n",
    "print(\"Factorial of a number is:\",f)"
   ]
  },
  {
   "cell_type": "code",
   "execution_count": 22,
   "id": "1b7826aa-e91f-4c81-bce9-7999507d3857",
   "metadata": {},
   "outputs": [
    {
     "name": "stdout",
     "output_type": "stream",
     "text": [
      "[10, 20, 30, 40, 50, 60, 70, 80, 90]\n"
     ]
    }
   ],
   "source": [
    "# perform a function that takes all the elements and append it into the list\n",
    "def lists(l):\n",
    "    empty_lists = []\n",
    "    for i in l:\n",
    "        empty_lists.append(i)\n",
    "    return(empty_lists)\n",
    "\n",
    "\n",
    "\n",
    "l = [10,20,30,40,50,60,70,80,90]\n",
    "ans = lists(l)\n",
    "print(ans)"
   ]
  },
  {
   "cell_type": "code",
   "execution_count": 27,
   "id": "40e232bf-b2f3-4eb3-9696-23b177af7eb3",
   "metadata": {},
   "outputs": [
    {
     "name": "stdout",
     "output_type": "stream",
     "text": [
      "[10, 20, 30, 40, 50, 60, 70, 80, 90, 1, 2, 3, 4, 5]\n"
     ]
    }
   ],
   "source": [
    "def list_ans(l):\n",
    "    empty = []\n",
    "    for i in l:\n",
    "        if(type(i) == list):\n",
    "            for j in i:\n",
    "                empty.append(j)\n",
    "        else:\n",
    "            if(type(i) == int):\n",
    "                empty.append(i)\n",
    "    return(empty)\n",
    "           \n",
    "l = [10,20,30,40,50,60,70,80,90,[1,2,3,4,5]]\n",
    "ans = list_ans(l)\n",
    "print(ans)"
   ]
  },
  {
   "cell_type": "code",
   "execution_count": 25,
   "id": "0ac37b86-cfce-48b1-b070-3ba092b35ebd",
   "metadata": {},
   "outputs": [
    {
     "ename": "NameError",
     "evalue": "name 'empty' is not defined",
     "output_type": "error",
     "traceback": [
      "\u001b[0;31m---------------------------------------------------------------------------\u001b[0m",
      "\u001b[0;31mNameError\u001b[0m                                 Traceback (most recent call last)",
      "Cell \u001b[0;32mIn[25], line 1\u001b[0m\n\u001b[0;32m----> 1\u001b[0m \u001b[38;5;28mprint\u001b[39m(\u001b[43mempty\u001b[49m)\n",
      "\u001b[0;31mNameError\u001b[0m: name 'empty' is not defined"
     ]
    }
   ],
   "source": []
  },
  {
   "cell_type": "code",
   "execution_count": null,
   "id": "42f4483d-d046-4038-a784-2572387b5151",
   "metadata": {},
   "outputs": [],
   "source": []
  }
 ],
 "metadata": {
  "kernelspec": {
   "display_name": "Python 3 (ipykernel)",
   "language": "python",
   "name": "python3"
  },
  "language_info": {
   "codemirror_mode": {
    "name": "ipython",
    "version": 3
   },
   "file_extension": ".py",
   "mimetype": "text/x-python",
   "name": "python",
   "nbconvert_exporter": "python",
   "pygments_lexer": "ipython3",
   "version": "3.10.8"
  }
 },
 "nbformat": 4,
 "nbformat_minor": 5
}
