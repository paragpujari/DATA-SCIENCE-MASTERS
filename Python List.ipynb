{
 "cells": [
  {
   "cell_type": "markdown",
   "id": "66334c4e-de33-4457-afcd-ecc076448bbb",
   "metadata": {},
   "source": [
    "# LIST"
   ]
  },
  {
   "cell_type": "code",
   "execution_count": 2,
   "id": "9752f236-8f37-4a66-8e88-4d603c748a12",
   "metadata": {},
   "outputs": [
    {
     "name": "stdout",
     "output_type": "stream",
     "text": [
      "<class 'list'>\n"
     ]
    }
   ],
   "source": [
    "print(type([]))"
   ]
  },
  {
   "cell_type": "code",
   "execution_count": 3,
   "id": "7e8a8129-7495-4f2b-92c1-1f3be9ee4ba9",
   "metadata": {},
   "outputs": [
    {
     "name": "stdout",
     "output_type": "stream",
     "text": [
      "['Parag', 'Pujari', 'Motherson', 27]\n"
     ]
    }
   ],
   "source": [
    "list1 = [\"Parag\",\"Pujari\",\"Motherson\",27]\n",
    "print(list1)"
   ]
  },
  {
   "cell_type": "code",
   "execution_count": 6,
   "id": "b45791c6-29bc-419d-83f3-740c3d5ce177",
   "metadata": {},
   "outputs": [
    {
     "name": "stdout",
     "output_type": "stream",
     "text": [
      "[1, 2, 3, 4, 5, 6, 7, 8, 9, 10]\n"
     ]
    }
   ],
   "source": [
    "list2 = list([1,2,3,4,5,6,7,8,9,10])\n",
    "print(list2)"
   ]
  },
  {
   "cell_type": "code",
   "execution_count": 12,
   "id": "0207560e-8e9c-4681-9a78-a2ad05ea4086",
   "metadata": {},
   "outputs": [
    {
     "name": "stdout",
     "output_type": "stream",
     "text": [
      "['Data', 'Science', 'Masters']\n",
      "['Data', 'Science', 'Masters']\n",
      "Science\n",
      "['Science', 'Masters']\n",
      "['Data', 'Science', 'Program']\n"
     ]
    }
   ],
   "source": [
    "# split the strings\n",
    "str = \"Data Science Masters\"\n",
    "print(str.split(\" \"))\n",
    "a = str.split(\" \")\n",
    "print(a)\n",
    "\n",
    "print(a[1])\n",
    "print(a[1:])\n",
    "\n",
    "a[2] = \"Program\"\n",
    "print(a)"
   ]
  },
  {
   "cell_type": "code",
   "execution_count": 15,
   "id": "e764b44f-af21-4265-89a6-458a64f7ad36",
   "metadata": {},
   "outputs": [
    {
     "name": "stdout",
     "output_type": "stream",
     "text": [
      "['Data', 'Science', 'Program']\n",
      "Data\n"
     ]
    }
   ],
   "source": [
    "print(a)\n",
    "print(a[-3])"
   ]
  },
  {
   "cell_type": "code",
   "execution_count": 21,
   "id": "4b75616e-ce8f-4f74-b690-88903ef21897",
   "metadata": {},
   "outputs": [
    {
     "name": "stdout",
     "output_type": "stream",
     "text": [
      "PW Skills Data Science Masters\n",
      "['PW', 'Skills', 'Data', 'Science', 'Masters']\n",
      "['Masters', 'Science', 'Data', 'Skills', 'PW']\n",
      "['Masters', 'Data', 'PW']\n"
     ]
    }
   ],
   "source": [
    "a = \"PW Skills Data Science Masters\"\n",
    "print(a)\n",
    "\n",
    "str_a = a.split(\" \")\n",
    "print(str_a)\n",
    "\n",
    "print(str_a[::-1])\n",
    "\n",
    "print(str_a[::-2])"
   ]
  },
  {
   "cell_type": "code",
   "execution_count": 25,
   "id": "01c6d5cd-4d36-4e6c-bb2b-087bfc92931d",
   "metadata": {},
   "outputs": [
    {
     "name": "stdout",
     "output_type": "stream",
     "text": [
      "['PW', 'Skills', 'Data', 'Science', 'Masters']\n",
      "<class 'list'>\n",
      "['PW', 'Skills', 'Data', 'Science', 'Masters', 'new_element', 3]\n",
      "['PW', 'Skills', 'Data', 'Science', 'Masters', ['new_element', 3]]\n"
     ]
    }
   ],
   "source": [
    "# Concatenation in lists\n",
    "print(str_a)\n",
    "\n",
    "print(type(str_a))\n",
    "\n",
    "print(str_a + ['new_element',3])\n",
    "\n",
    "\n",
    "print(str_a + [['new_element', 3]])"
   ]
  },
  {
   "cell_type": "code",
   "execution_count": 29,
   "id": "579901b5-0887-4236-b4f8-160dfe3597a4",
   "metadata": {},
   "outputs": [
    {
     "name": "stdout",
     "output_type": "stream",
     "text": [
      "['PW', 'Skills', 'Data', 'Science', 'Masters', ['new_element', 3]]\n",
      "['new_element', 3]\n",
      "3\n"
     ]
    }
   ],
   "source": [
    "res = str_a + [['new_element', 3]]\n",
    "print(res)\n",
    "print(res[5])\n",
    "print(res[5][1])\n",
    "    "
   ]
  },
  {
   "cell_type": "code",
   "execution_count": 31,
   "id": "9315c5ca-d4bc-4fef-a099-f5d01d009cf4",
   "metadata": {},
   "outputs": [
    {
     "name": "stdout",
     "output_type": "stream",
     "text": [
      "['PW', 'Skills', 'Data', 'Science', 'Masters', 'PW', 'Skills', 'Data', 'Science', 'Masters']\n"
     ]
    }
   ],
   "source": [
    "# replication in lists\n",
    "print(str_a * 2)"
   ]
  },
  {
   "cell_type": "code",
   "execution_count": 33,
   "id": "ac21ee4f-4954-4c95-9800-d5f5d1779356",
   "metadata": {},
   "outputs": [
    {
     "name": "stdout",
     "output_type": "stream",
     "text": [
      "['PW', 'Skills', 'Data', 'Science', 'Masters']\n",
      "PW\n"
     ]
    }
   ],
   "source": [
    "print(str_a)\n",
    "\n",
    "# To check the \"PW\" word is present in the list and if there then print it\n",
    "for i in str_a:\n",
    "    if(i == 'PW'):\n",
    "        print(i)"
   ]
  },
  {
   "cell_type": "code",
   "execution_count": 38,
   "id": "eedf7714-ebd5-469d-8126-1d2692cf6207",
   "metadata": {},
   "outputs": [
    {
     "name": "stdout",
     "output_type": "stream",
     "text": [
      "['Zebra', 'Monkey', 'Donkey', 'Lion']\n",
      "Zebra\n",
      "Donkey\n",
      "9\n",
      "2\n"
     ]
    }
   ],
   "source": [
    "lst1 = [\"Zebra\",\"Monkey\",\"Donkey\",\"Lion\"]\n",
    "lst2 = [5,6,2,9,5,8,6]\n",
    "\n",
    "print(lst1)\n",
    "print(max(lst1)) # alphabetically chack and will get converted into ASCII character\n",
    "print(min(lst1))\n",
    "\n",
    "\n",
    "print(max(lst2))\n",
    "print(min(lst2))"
   ]
  },
  {
   "cell_type": "code",
   "execution_count": 39,
   "id": "c32d7bce-19a0-4a92-94c5-66f1384e7aff",
   "metadata": {},
   "outputs": [
    {
     "name": "stdout",
     "output_type": "stream",
     "text": [
      "None\n"
     ]
    }
   ],
   "source": [
    "# Append Opartion\n",
    "list1 = ['one','two','three','four','five']\n",
    "\n",
    "list2 = ['six','seven','eight','nine','ten']\n",
    "\n",
    "print(list1.append(list2))\n"
   ]
  },
  {
   "cell_type": "code",
   "execution_count": 40,
   "id": "cfa7de43-8321-42e5-9424-ab4f62a1d806",
   "metadata": {},
   "outputs": [
    {
     "name": "stdout",
     "output_type": "stream",
     "text": [
      "['one', 'two', 'three', 'four', 'five', ['six', 'seven', 'eight', 'nine', 'ten']]\n"
     ]
    }
   ],
   "source": [
    "print(list1)"
   ]
  },
  {
   "cell_type": "code",
   "execution_count": 41,
   "id": "b512ec7f-6477-45ea-8b60-b8510c09c3ff",
   "metadata": {},
   "outputs": [
    {
     "name": "stdout",
     "output_type": "stream",
     "text": [
      "['one', 'two', 'three', 'four', 'five', ['six', 'seven', 'eight', 'nine', 'ten'], 'eleven']\n"
     ]
    }
   ],
   "source": [
    "list1.append('eleven')\n",
    "print(list1)"
   ]
  },
  {
   "cell_type": "code",
   "execution_count": 43,
   "id": "b3fe3818-66ed-4ebe-9ff2-6be2179eac95",
   "metadata": {},
   "outputs": [],
   "source": [
    "# insert\n",
    "list1.insert(0,'zero')"
   ]
  },
  {
   "cell_type": "code",
   "execution_count": 44,
   "id": "5c24aa56-5a02-48a8-817a-e25f72fc1b08",
   "metadata": {},
   "outputs": [
    {
     "name": "stdout",
     "output_type": "stream",
     "text": [
      "['zero', 'one', 'two', 'three', 'four', 'five', ['six', 'seven', 'eight', 'nine', 'ten'], 'eleven']\n"
     ]
    }
   ],
   "source": [
    "print(list1)"
   ]
  },
  {
   "cell_type": "markdown",
   "id": "c65b131a-ed0f-4a92-998d-81987f10ae55",
   "metadata": {},
   "source": [
    "##  Removing the elements from the list"
   ]
  },
  {
   "cell_type": "code",
   "execution_count": 45,
   "id": "a6ca50e6-a6df-498a-8db8-0668ce67cc8d",
   "metadata": {},
   "outputs": [
    {
     "name": "stdout",
     "output_type": "stream",
     "text": [
      "['zero', 'one', 'two', 'three', 'four', 'five', ['six', 'seven', 'eight', 'nine', 'ten'], 'eleven']\n"
     ]
    }
   ],
   "source": [
    "print(list1)"
   ]
  },
  {
   "cell_type": "code",
   "execution_count": 46,
   "id": "a09d4293-dacf-403b-aa67-177075165d0d",
   "metadata": {},
   "outputs": [
    {
     "data": {
      "text/plain": [
       "'one'"
      ]
     },
     "execution_count": 46,
     "metadata": {},
     "output_type": "execute_result"
    }
   ],
   "source": [
    "list1.pop(1)"
   ]
  },
  {
   "cell_type": "code",
   "execution_count": 47,
   "id": "5b2c81ba-7cc0-4434-88a4-092f606cc236",
   "metadata": {},
   "outputs": [
    {
     "name": "stdout",
     "output_type": "stream",
     "text": [
      "['zero', 'two', 'three', 'four', 'five', ['six', 'seven', 'eight', 'nine', 'ten'], 'eleven']\n"
     ]
    }
   ],
   "source": [
    "print(list1)"
   ]
  },
  {
   "cell_type": "code",
   "execution_count": 48,
   "id": "1519d022-7ef4-4a17-abe2-79ebeaec635c",
   "metadata": {},
   "outputs": [],
   "source": [
    "list1.remove('four')"
   ]
  },
  {
   "cell_type": "code",
   "execution_count": 49,
   "id": "270da092-1661-4ef9-af63-479f2e5ae15a",
   "metadata": {},
   "outputs": [
    {
     "name": "stdout",
     "output_type": "stream",
     "text": [
      "['zero', 'two', 'three', 'five', ['six', 'seven', 'eight', 'nine', 'ten'], 'eleven']\n"
     ]
    }
   ],
   "source": [
    "print(list1)"
   ]
  },
  {
   "cell_type": "code",
   "execution_count": 50,
   "id": "ddc43799-9fd6-4d42-ba6a-564791574ffd",
   "metadata": {},
   "outputs": [
    {
     "name": "stdout",
     "output_type": "stream",
     "text": [
      "None\n"
     ]
    }
   ],
   "source": [
    "list3 = ['eleven','twelve','thirteen','fourteen','fifteen']\n",
    "print(list1.extend(list3))\n",
    "\n"
   ]
  },
  {
   "cell_type": "code",
   "execution_count": 51,
   "id": "a1fcd506-3b43-45e0-a50b-e837507e92b9",
   "metadata": {},
   "outputs": [
    {
     "name": "stdout",
     "output_type": "stream",
     "text": [
      "['zero', 'two', 'three', 'five', ['six', 'seven', 'eight', 'nine', 'ten'], 'eleven', 'eleven', 'twelve', 'thirteen', 'fourteen', 'fifteen']\n"
     ]
    }
   ],
   "source": [
    "print(list1)"
   ]
  },
  {
   "cell_type": "code",
   "execution_count": 53,
   "id": "b2d54c1e-b292-4242-8f74-a3dd21ca96c8",
   "metadata": {},
   "outputs": [],
   "source": [
    "# delete the element based on inded=x\n",
    "del list1[3]\n"
   ]
  },
  {
   "cell_type": "code",
   "execution_count": 54,
   "id": "684dc259-36e3-4823-ac48-d0c17fe0db2f",
   "metadata": {},
   "outputs": [
    {
     "name": "stdout",
     "output_type": "stream",
     "text": [
      "['zero', 'two', 'three', ['six', 'seven', 'eight', 'nine', 'ten'], 'eleven', 'eleven', 'twelve', 'thirteen', 'fourteen', 'fifteen']\n"
     ]
    }
   ],
   "source": [
    "print(list1)"
   ]
  },
  {
   "cell_type": "code",
   "execution_count": 55,
   "id": "642ac36e-609a-4f73-b398-a563274793f0",
   "metadata": {},
   "outputs": [
    {
     "name": "stdout",
     "output_type": "stream",
     "text": [
      "10\n"
     ]
    }
   ],
   "source": [
    "# length of the list\n",
    "print(len(list1))"
   ]
  },
  {
   "cell_type": "code",
   "execution_count": 56,
   "id": "c11d368b-153e-43d0-a726-5fbb53b6ea88",
   "metadata": {},
   "outputs": [
    {
     "name": "stdout",
     "output_type": "stream",
     "text": [
      "AI\n"
     ]
    }
   ],
   "source": [
    "# List related keywords \n",
    "lst = ['one','two','three','four','five']\n",
    "\n",
    "if('three' in lst):\n",
    "    print('AI')"
   ]
  },
  {
   "cell_type": "code",
   "execution_count": 57,
   "id": "b1a9c53d-1c5c-49e2-b3e9-c8b0ed6fe36d",
   "metadata": {},
   "outputs": [
    {
     "name": "stdout",
     "output_type": "stream",
     "text": [
      "None\n"
     ]
    }
   ],
   "source": [
    "# Reverse the List\n",
    "print(lst.reverse())"
   ]
  },
  {
   "cell_type": "code",
   "execution_count": 58,
   "id": "6999e222-b010-4e19-beb3-dcdf18b92b28",
   "metadata": {},
   "outputs": [
    {
     "name": "stdout",
     "output_type": "stream",
     "text": [
      "['five', 'four', 'three', 'two', 'one']\n"
     ]
    }
   ],
   "source": [
    "print(lst)"
   ]
  },
  {
   "cell_type": "code",
   "execution_count": 62,
   "id": "a6f35f90-f465-438a-bd18-122e96f77aa7",
   "metadata": {},
   "outputs": [
    {
     "name": "stdout",
     "output_type": "stream",
     "text": [
      "['five', 'four', 'one', 'three', 'two']\n",
      "['five', 'four', 'three', 'two', 'one']\n",
      "['two', 'three', 'one', 'four', 'five']\n"
     ]
    }
   ],
   "source": [
    "# Sorting in the list\n",
    "print(sorted(lst))\n",
    "\n",
    "print(lst)\n",
    "\n"
   ]
  },
  {
   "cell_type": "code",
   "execution_count": 69,
   "id": "05871c48-b19a-4ffd-a03f-3267d8118152",
   "metadata": {},
   "outputs": [],
   "source": [
    "lst = ['one','two','three','four','five']\n",
    "lst.reverse()"
   ]
  },
  {
   "cell_type": "code",
   "execution_count": 70,
   "id": "ff94383b-1a64-4b39-a769-5dadf940785b",
   "metadata": {},
   "outputs": [
    {
     "data": {
      "text/plain": [
       "['five', 'four', 'three', 'two', 'one']"
      ]
     },
     "execution_count": 70,
     "metadata": {},
     "output_type": "execute_result"
    }
   ],
   "source": [
    "lst"
   ]
  },
  {
   "cell_type": "code",
   "execution_count": 73,
   "id": "1a209093-1eeb-46cf-a29f-17b9104ce9d2",
   "metadata": {},
   "outputs": [],
   "source": [
    "lst.sort( reverse = True)"
   ]
  },
  {
   "cell_type": "code",
   "execution_count": 74,
   "id": "485d1574-2ee3-4071-9a63-a4ab58e1786d",
   "metadata": {},
   "outputs": [
    {
     "data": {
      "text/plain": [
       "['two', 'three', 'one', 'four', 'five']"
      ]
     },
     "execution_count": 74,
     "metadata": {},
     "output_type": "execute_result"
    }
   ],
   "source": [
    "lst"
   ]
  },
  {
   "cell_type": "code",
   "execution_count": 75,
   "id": "583d74a3-89f2-4e59-bf50-18a3fa8a9455",
   "metadata": {},
   "outputs": [],
   "source": [
    "lst.reverse()"
   ]
  },
  {
   "cell_type": "code",
   "execution_count": 76,
   "id": "2dc023cb-35cb-44cc-9d54-e67a3f394405",
   "metadata": {},
   "outputs": [
    {
     "data": {
      "text/plain": [
       "['five', 'four', 'one', 'three', 'two']"
      ]
     },
     "execution_count": 76,
     "metadata": {},
     "output_type": "execute_result"
    }
   ],
   "source": [
    "lst"
   ]
  },
  {
   "cell_type": "code",
   "execution_count": 77,
   "id": "aba5c18d-91bf-4087-b2a9-d67b3e17e98f",
   "metadata": {},
   "outputs": [],
   "source": [
    "lst.sort()"
   ]
  },
  {
   "cell_type": "code",
   "execution_count": 78,
   "id": "8e757489-7793-49aa-8a31-898ae3615398",
   "metadata": {},
   "outputs": [
    {
     "data": {
      "text/plain": [
       "['five', 'four', 'one', 'three', 'two']"
      ]
     },
     "execution_count": 78,
     "metadata": {},
     "output_type": "execute_result"
    }
   ],
   "source": [
    "lst"
   ]
  },
  {
   "cell_type": "code",
   "execution_count": 80,
   "id": "f13b0609-f3d5-40a4-a749-75d1fb691579",
   "metadata": {},
   "outputs": [
    {
     "data": {
      "text/plain": [
       "['five', 'four', 'one', 'three', 'two']"
      ]
     },
     "execution_count": 80,
     "metadata": {},
     "output_type": "execute_result"
    }
   ],
   "source": [
    "k = sorted(lst, reverse = False)\n",
    "k"
   ]
  },
  {
   "cell_type": "code",
   "execution_count": 81,
   "id": "20833d65-348b-415f-82d0-da4650c0b306",
   "metadata": {},
   "outputs": [],
   "source": [
    "ew = [1,2,3,4,5]\n",
    "ew.sort()"
   ]
  },
  {
   "cell_type": "code",
   "execution_count": 82,
   "id": "63700fb8-e1b4-41d7-a069-8c9b39f67f87",
   "metadata": {},
   "outputs": [
    {
     "data": {
      "text/plain": [
       "[1, 2, 3, 4, 5]"
      ]
     },
     "execution_count": 82,
     "metadata": {},
     "output_type": "execute_result"
    }
   ],
   "source": [
    "ew"
   ]
  },
  {
   "cell_type": "code",
   "execution_count": 83,
   "id": "cb69595e-a1a2-48ac-a3e1-5d8babb9beb4",
   "metadata": {},
   "outputs": [],
   "source": [
    "ew.sort(reverse = True)"
   ]
  },
  {
   "cell_type": "code",
   "execution_count": 84,
   "id": "1026bccf-3135-4151-9efa-3e30fec17b38",
   "metadata": {},
   "outputs": [
    {
     "data": {
      "text/plain": [
       "[5, 4, 3, 2, 1]"
      ]
     },
     "execution_count": 84,
     "metadata": {},
     "output_type": "execute_result"
    }
   ],
   "source": [
    "ew"
   ]
  },
  {
   "cell_type": "code",
   "execution_count": 85,
   "id": "bf6de9ea-5dfb-4a0d-88f9-1466f511d4b8",
   "metadata": {},
   "outputs": [],
   "source": [
    "# List Having Multiple References"
   ]
  },
  {
   "cell_type": "code",
   "execution_count": 86,
   "id": "8fda54ce-14c5-4794-9e47-bceaf8399c6a",
   "metadata": {},
   "outputs": [
    {
     "name": "stdout",
     "output_type": "stream",
     "text": [
      "[10, 20, 30, 40, 50, 60, 70, 80]\n",
      "[10, 20, 30, 40, 50, 60, 70, 80]\n"
     ]
    }
   ],
   "source": [
    "numbers = [10,20,30,40,50,60,70,80]\n",
    "abc = numbers\n",
    "print(abc)\n",
    "\n",
    "print(numbers)"
   ]
  },
  {
   "cell_type": "code",
   "execution_count": 87,
   "id": "53f3dcd8-db0e-4449-abce-f271c12eda1b",
   "metadata": {},
   "outputs": [
    {
     "name": "stdout",
     "output_type": "stream",
     "text": [
      "[10, 20, 30, 40, 50, 60, 70, 80]\n",
      "[10, 20, 30, 40]\n",
      "[10, 30, 50, 70]\n",
      "[30, 50, 70]\n"
     ]
    }
   ],
   "source": [
    "# Indexing in Lists\n",
    "numbers = [10,20,30,40,50,60,70,80]\n",
    "print(numbers[:])\n",
    "print(numbers[0:4])\n",
    "\n",
    "# print the alternate elements in the lists\n",
    "print(numbers[::2])\n",
    "print(numbers[2::2])"
   ]
  },
  {
   "cell_type": "code",
   "execution_count": 88,
   "id": "9f78f965-1e5f-41a4-996f-87a19b19c9fa",
   "metadata": {},
   "outputs": [],
   "source": [
    "# Extend using \"+\""
   ]
  },
  {
   "cell_type": "code",
   "execution_count": 89,
   "id": "62e7a7ed-a249-432d-8924-b568c1afddbd",
   "metadata": {},
   "outputs": [
    {
     "name": "stdout",
     "output_type": "stream",
     "text": [
      "[1, 2, 3, 4, 'varma', 'naveen', 'murali', 'brahma']\n"
     ]
    }
   ],
   "source": [
    "list1 = [1,2,3,4]\n",
    "list2 = ['varma','naveen','murali','brahma']\n",
    "\n",
    "print(list1 + list2)"
   ]
  },
  {
   "cell_type": "code",
   "execution_count": 90,
   "id": "5ccf8338-32f9-432f-8e16-8f86fc7588c6",
   "metadata": {},
   "outputs": [
    {
     "name": "stdout",
     "output_type": "stream",
     "text": [
      "1\n"
     ]
    }
   ],
   "source": [
    "# List Count\n",
    "\n",
    "print(list1.count(1))"
   ]
  },
  {
   "cell_type": "code",
   "execution_count": 91,
   "id": "dc80d77e-f0ab-4e0d-9bf4-9e53ae00ba48",
   "metadata": {},
   "outputs": [
    {
     "name": "stdout",
     "output_type": "stream",
     "text": [
      "1 2 3 4 "
     ]
    }
   ],
   "source": [
    "# Looping in the list\n",
    "list1 = [1,2,3,4]\n",
    "\n",
    "for i in list1:\n",
    "    print(i, end = ' ')\n"
   ]
  },
  {
   "cell_type": "code",
   "execution_count": 94,
   "id": "67f4616d-f1ab-4ba7-9634-36173a8ccbdf",
   "metadata": {},
   "outputs": [
    {
     "name": "stdout",
     "output_type": "stream",
     "text": [
      "3\n",
      "7\n",
      "[10, 11, 12]\n"
     ]
    }
   ],
   "source": [
    "# Nested Lists\n",
    "matrix = [[1,2,3,4],\n",
    "           [5,6,7,8],\n",
    "           [9,10,11,12]]\n",
    "\n",
    "print(matrix[0][2])\n",
    "print(matrix[1][2])\n",
    "print(matrix[2][1:])"
   ]
  },
  {
   "cell_type": "code",
   "execution_count": 107,
   "id": "9307c816-2153-4f0d-8cb5-9227d7b79f3e",
   "metadata": {},
   "outputs": [
    {
     "name": "stdout",
     "output_type": "stream",
     "text": [
      "[1, 4, 9, 16, 25, 36, 49, 64, 81, 100]\n",
      "[2, 4, 6, 8, 10, 12, 14, 16, 18, 20, 22, 24, 26, 28, 30, 32, 34, 36, 38, 40, 42, 44, 46, 48, 50, 52, 54, 56, 58, 60, 62, 64, 66, 68, 70, 72, 74, 76, 78, 80, 82, 84, 86, 88, 90, 92, 94, 96, 98]\n",
      "['PW', 'Skills', 'Data', 'Science', 'Masters']\n",
      "['P', 'S', 'D', 'S', 'M']\n",
      "[1, 2, 3, 4, 5, 6, 7, 8, 9]\n"
     ]
    }
   ],
   "source": [
    "# Lists Comprehension\n",
    "# Square of all elements in the list\n",
    "\n",
    "a = [ (i **2)  for i in range(1,11) if(i != 0)]\n",
    "print(a)\n",
    "\n",
    "# even numbers til 100\n",
    "res = [i  for i in range(1,100) if(i %2 == 0)]\n",
    "print(res)\n",
    "\n",
    "print(str_a)\n",
    "\n",
    "# first letters of every word in the string\n",
    "results = [i[0] for i in str_a]\n",
    "print(results)\n",
    "\n",
    "# Flatten lists of lists into a single list\n",
    "lists = [[1,2,3],[4,5,6],[7,8,9]]\n",
    "res = [j for i in lists for j in i]\n",
    "print(res)"
   ]
  },
  {
   "cell_type": "code",
   "execution_count": null,
   "id": "2981e455-ead1-42ed-8b9b-293bb23276d3",
   "metadata": {},
   "outputs": [],
   "source": []
  }
 ],
 "metadata": {
  "kernelspec": {
   "display_name": "Python 3 (ipykernel)",
   "language": "python",
   "name": "python3"
  },
  "language_info": {
   "codemirror_mode": {
    "name": "ipython",
    "version": 3
   },
   "file_extension": ".py",
   "mimetype": "text/x-python",
   "name": "python",
   "nbconvert_exporter": "python",
   "pygments_lexer": "ipython3",
   "version": "3.10.8"
  }
 },
 "nbformat": 4,
 "nbformat_minor": 5
}
