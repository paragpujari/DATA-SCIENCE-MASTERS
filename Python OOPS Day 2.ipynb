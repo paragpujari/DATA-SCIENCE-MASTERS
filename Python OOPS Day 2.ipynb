{
 "cells": [
  {
   "cell_type": "markdown",
   "id": "6fcc9be9-396a-4c63-bf2d-3989f257f0d4",
   "metadata": {},
   "source": [
    "# Polymorphism\n",
    "\n",
    "Ability of an object to exist in various forms is called Polymorphism."
   ]
  },
  {
   "cell_type": "code",
   "execution_count": 2,
   "id": "8f12694b-2038-4265-8cc2-2a536c40ff89",
   "metadata": {},
   "outputs": [
    {
     "name": "stdout",
     "output_type": "stream",
     "text": [
      "3\n",
      "ParagPujari\n",
      "[1, 2, 3, 4, 5, 10, 20, 30, 40, 50]\n"
     ]
    }
   ],
   "source": [
    "def test(a,b):\n",
    "    print(a + b)\n",
    "    \n",
    "    \n",
    "test(2,1)\n",
    "test(\"Parag\",\"Pujari\")\n",
    "test([1,2,3,4,5],[10,20,30,40,50])"
   ]
  },
  {
   "cell_type": "markdown",
   "id": "587e8be6-9a77-4254-b810-a29118373062",
   "metadata": {},
   "source": [
    "# 1. Method Overriding\n",
    "It is the ability of the child class to change some implementation that has already been defined in the parent class."
   ]
  },
  {
   "cell_type": "code",
   "execution_count": 3,
   "id": "8478a1b8-388c-4da6-819c-90a37dd4e9b4",
   "metadata": {},
   "outputs": [
    {
     "name": "stdout",
     "output_type": "stream",
     "text": [
      "The dog is hungry and he is a kind of animal\n"
     ]
    }
   ],
   "source": [
    "class Animal:\n",
    "    def eating(self):\n",
    "        print(\"The animal is hungry:\")\n",
    "        \n",
    "class Dog(Animal):\n",
    "    def eating(self):\n",
    "        print(\"The dog is hungry and he is a kind of animal\")\n",
    "        \n",
    "        \n",
    "# creating the object for the class\n",
    "d = Dog()\n",
    "d.eating()"
   ]
  },
  {
   "cell_type": "markdown",
   "id": "0ae7695b-706f-4307-80a4-5e9a21a21e77",
   "metadata": {},
   "source": [
    "# 2. Method Overloading\n",
    "\n",
    "It is the ability of the same element to act differently according to the different situations"
   ]
  },
  {
   "cell_type": "code",
   "execution_count": 6,
   "id": "71aadbf6-fef5-448f-9a8c-5bc57af62b51",
   "metadata": {},
   "outputs": [
    {
     "name": "stdout",
     "output_type": "stream",
     "text": [
      "5\n",
      "[10, 30, 50, 70, 90, 20, 40, 60, 80, 100]\n",
      "SudhanshuKumar\n"
     ]
    }
   ],
   "source": [
    "class Tools:\n",
    "    def add(self,a,b):\n",
    "        print(a + b)\n",
    "        \n",
    "    def add(self,a,b):\n",
    "        print(a+b)\n",
    "    \n",
    "    def add(self,a,b):\n",
    "        print(a+b)\n",
    "    \n",
    "    \n",
    "    \n",
    "    \n",
    "# creating the object for the class\n",
    "t = Tools()\n",
    "t.add(3,2)\n",
    "t.add([10,30,50,70,90],[20,40,60,80,100])\n",
    "t.add(\"Sudhanshu\",\"Kumar\")"
   ]
  },
  {
   "cell_type": "code",
   "execution_count": null,
   "id": "e067a1c1-013e-4269-b179-39e78dcf1459",
   "metadata": {},
   "outputs": [],
   "source": []
  }
 ],
 "metadata": {
  "kernelspec": {
   "display_name": "Python 3 (ipykernel)",
   "language": "python",
   "name": "python3"
  },
  "language_info": {
   "codemirror_mode": {
    "name": "ipython",
    "version": 3
   },
   "file_extension": ".py",
   "mimetype": "text/x-python",
   "name": "python",
   "nbconvert_exporter": "python",
   "pygments_lexer": "ipython3",
   "version": "3.10.8"
  }
 },
 "nbformat": 4,
 "nbformat_minor": 5
}
