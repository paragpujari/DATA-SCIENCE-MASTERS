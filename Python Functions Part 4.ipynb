{
 "cells": [
  {
   "cell_type": "markdown",
   "id": "4d24a4f3-0b12-4548-be07-06fc59a15364",
   "metadata": {},
   "source": [
    "# Lambda Functions"
   ]
  },
  {
   "cell_type": "code",
   "execution_count": 3,
   "id": "bdc1ae14-5822-4f7c-a4be-522f5055c1bb",
   "metadata": {},
   "outputs": [],
   "source": [
    "a = lambda n,p : n ** p"
   ]
  },
  {
   "cell_type": "code",
   "execution_count": 4,
   "id": "2f4cec39-5977-4718-8de5-9b91415c85bd",
   "metadata": {},
   "outputs": [
    {
     "name": "stdout",
     "output_type": "stream",
     "text": [
      "<function <lambda> at 0x7f6799fb2e60>\n"
     ]
    }
   ],
   "source": [
    "print(a)"
   ]
  },
  {
   "cell_type": "code",
   "execution_count": 5,
   "id": "8003f947-9ec6-45f5-b099-3e67627a7299",
   "metadata": {},
   "outputs": [
    {
     "data": {
      "text/plain": [
       "9"
      ]
     },
     "execution_count": 5,
     "metadata": {},
     "output_type": "execute_result"
    }
   ],
   "source": [
    "# call the lambda function\n",
    "\n",
    "a(3,2)"
   ]
  },
  {
   "cell_type": "code",
   "execution_count": 6,
   "id": "cf1f8f62-a4db-4067-b9e0-979f7eedc6fe",
   "metadata": {},
   "outputs": [
    {
     "data": {
      "text/plain": [
       "6561"
      ]
     },
     "execution_count": 6,
     "metadata": {},
     "output_type": "execute_result"
    }
   ],
   "source": [
    "a(9,4)"
   ]
  },
  {
   "cell_type": "code",
   "execution_count": 7,
   "id": "48b0fc08-27e5-4e58-8515-64c418082f00",
   "metadata": {},
   "outputs": [
    {
     "name": "stdout",
     "output_type": "stream",
     "text": [
      "<function <lambda> at 0x7f6799fb30a0>\n"
     ]
    }
   ],
   "source": [
    "add = lambda x,y : x + y\n",
    "print(add)"
   ]
  },
  {
   "cell_type": "code",
   "execution_count": 8,
   "id": "7c08519b-1198-4fed-9b34-1d1c7f4c19c8",
   "metadata": {},
   "outputs": [
    {
     "data": {
      "text/plain": [
       "14"
      ]
     },
     "execution_count": 8,
     "metadata": {},
     "output_type": "execute_result"
    }
   ],
   "source": [
    "add(9,5)"
   ]
  },
  {
   "cell_type": "code",
   "execution_count": 9,
   "id": "6dd66988-c3a5-43b8-8035-667845ef1840",
   "metadata": {},
   "outputs": [
    {
     "name": "stdout",
     "output_type": "stream",
     "text": [
      "<function <lambda> at 0x7f6799fb2b90>\n"
     ]
    }
   ],
   "source": [
    "# celcius to farheniet \n",
    "\n",
    "far = lambda c : (9/5) * c + 32\n",
    "print(far)"
   ]
  },
  {
   "cell_type": "code",
   "execution_count": 10,
   "id": "95e9ba6c-b8d4-4143-b3ac-b3fd1d2455db",
   "metadata": {},
   "outputs": [
    {
     "data": {
      "text/plain": [
       "93.2"
      ]
     },
     "execution_count": 10,
     "metadata": {},
     "output_type": "execute_result"
    }
   ],
   "source": [
    "far(34)"
   ]
  },
  {
   "cell_type": "code",
   "execution_count": 11,
   "id": "23a4b99f-3f3d-4018-87e3-bb62d1c4d548",
   "metadata": {},
   "outputs": [
    {
     "name": "stdout",
     "output_type": "stream",
     "text": [
      "<function <lambda> at 0x7f6799fb37f0>\n"
     ]
    }
   ],
   "source": [
    "# maximum of two numbers\n",
    "max = lambda x,y : x if(x > y) else y\n",
    "print(max)"
   ]
  },
  {
   "cell_type": "code",
   "execution_count": 12,
   "id": "fae5e950-4e51-4e54-90b2-dfffbb8f9ca4",
   "metadata": {},
   "outputs": [
    {
     "name": "stdout",
     "output_type": "stream",
     "text": [
      "9\n"
     ]
    }
   ],
   "source": [
    "print(max(9,8))"
   ]
  },
  {
   "cell_type": "code",
   "execution_count": 13,
   "id": "059dc161-3061-4170-a08d-e00890d4abda",
   "metadata": {},
   "outputs": [
    {
     "name": "stdout",
     "output_type": "stream",
     "text": [
      "<function <lambda> at 0x7f6799fb39a0>\n"
     ]
    }
   ],
   "source": [
    "s = \"PW Skills\"\n",
    "\n",
    "length = lambda s : len(s)\n",
    "print(length)"
   ]
  },
  {
   "cell_type": "code",
   "execution_count": 14,
   "id": "741888a1-65e6-467e-9697-e5158a032646",
   "metadata": {},
   "outputs": [
    {
     "name": "stdout",
     "output_type": "stream",
     "text": [
      "9\n"
     ]
    }
   ],
   "source": [
    "print(length(s))"
   ]
  },
  {
   "cell_type": "code",
   "execution_count": null,
   "id": "7b159d3c-a0e9-48ba-9d78-6e8472ca0348",
   "metadata": {},
   "outputs": [],
   "source": []
  }
 ],
 "metadata": {
  "kernelspec": {
   "display_name": "Python 3 (ipykernel)",
   "language": "python",
   "name": "python3"
  },
  "language_info": {
   "codemirror_mode": {
    "name": "ipython",
    "version": 3
   },
   "file_extension": ".py",
   "mimetype": "text/x-python",
   "name": "python",
   "nbconvert_exporter": "python",
   "pygments_lexer": "ipython3",
   "version": "3.10.8"
  }
 },
 "nbformat": 4,
 "nbformat_minor": 5
}
