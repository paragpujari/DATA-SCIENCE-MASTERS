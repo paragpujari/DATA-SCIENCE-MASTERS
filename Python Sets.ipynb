{
 "cells": [
  {
   "cell_type": "markdown",
   "id": "4ab1552b-b897-45f4-9d6f-4ba612509510",
   "metadata": {},
   "source": [
    "# SETS"
   ]
  },
  {
   "cell_type": "markdown",
   "id": "36d1c530-23bf-4c11-87cd-041c74be6245",
   "metadata": {},
   "source": [
    "## Creation of Sets"
   ]
  },
  {
   "cell_type": "code",
   "execution_count": 15,
   "id": "2a1a6933-54da-4d82-827b-653e8855e92c",
   "metadata": {},
   "outputs": [
    {
     "name": "stdout",
     "output_type": "stream",
     "text": [
      "{1, 2, 3}\n",
      "<class 'set'>\n",
      "{1, 2, 3, 4, 5, 6, 7, 8, 9}\n",
      "{1, 2, 3, 4, 5}\n",
      "set()\n",
      "<class 'set'>\n",
      "None\n",
      "{10}\n",
      "None\n",
      "{10, 20}\n",
      "{40, 10, 50, 20, 30}\n",
      "{70, 40, 10, 50, 20, 60, 30}\n",
      "{1, 3, 4, 5}\n",
      "{1, 3, 5}\n"
     ]
    }
   ],
   "source": [
    "s = {1,2,3}\n",
    "print(s)\n",
    "print(type(s))\n",
    "\n",
    "# Sets does not allow ant duplicates of elements\n",
    "s = {1,2,2,2,3,3,3,4,4,4,5,5,5,6,6,6,7,7,7,8,8,8,9,9,9}\n",
    "print(s)\n",
    "\n",
    "#sets can be made from the lists\n",
    "l= set([1,2,3,4,5])\n",
    "print(l)\n",
    "\n",
    "#set initialization\n",
    "s = set()\n",
    "print(s)\n",
    "print(type(s))\n",
    "\n",
    "# Indexing is not possible in sets\n",
    "# print(s[1])\n",
    "\n",
    "# sets are mutuable\n",
    "print(s.add(10))\n",
    "print(s)\n",
    "\n",
    "print(s.add(20))\n",
    "print(s)\n",
    "\n",
    "# add multiple elements in the set\n",
    "s.update([30,40,50])\n",
    "print(s)\n",
    "\n",
    "# add list and sets together\n",
    "s.update([10,20,30],{60,70})\n",
    "print(s)\n",
    "\n",
    "# remove elements from the sets\n",
    "s = {1,2,3,4,5}\n",
    "\n",
    "s.discard(2)\n",
    "print(s)\n",
    "\n",
    "\n",
    "s.remove(4)\n",
    "print(s)"
   ]
  },
  {
   "cell_type": "code",
   "execution_count": 16,
   "id": "bd343e6c-85aa-43b4-9790-f0e99c884ad7",
   "metadata": {},
   "outputs": [
    {
     "ename": "KeyError",
     "evalue": "2",
     "output_type": "error",
     "traceback": [
      "\u001b[0;31m---------------------------------------------------------------------------\u001b[0m",
      "\u001b[0;31mKeyError\u001b[0m                                  Traceback (most recent call last)",
      "Cell \u001b[0;32mIn[16], line 1\u001b[0m\n\u001b[0;32m----> 1\u001b[0m \u001b[43ms\u001b[49m\u001b[38;5;241;43m.\u001b[39;49m\u001b[43mremove\u001b[49m\u001b[43m(\u001b[49m\u001b[38;5;241;43m2\u001b[39;49m\u001b[43m)\u001b[49m\n",
      "\u001b[0;31mKeyError\u001b[0m: 2"
     ]
    }
   ],
   "source": [
    "# If we try to remove an element that does not exists, then it will throw an error.\n",
    "s.remove(2)"
   ]
  },
  {
   "cell_type": "code",
   "execution_count": 17,
   "id": "6489d4d3-cefd-4bb8-9fa3-c72e1761a258",
   "metadata": {},
   "outputs": [],
   "source": [
    "# If we try to discard an element that does not exists, then it will not print anything\n",
    "s.discard(4)"
   ]
  },
  {
   "cell_type": "code",
   "execution_count": 18,
   "id": "500f0fbc-d22c-476c-bb31-3a5b3ff8635e",
   "metadata": {},
   "outputs": [
    {
     "name": "stdout",
     "output_type": "stream",
     "text": [
      "{3, 5}\n"
     ]
    }
   ],
   "source": [
    "# pop() = It is used to remove random element from the sets\n",
    "s.pop()\n",
    "print(s)"
   ]
  },
  {
   "cell_type": "code",
   "execution_count": 19,
   "id": "95d80b84-f1fb-4577-ae1c-dbb5ace07ab2",
   "metadata": {},
   "outputs": [
    {
     "name": "stdout",
     "output_type": "stream",
     "text": [
      "set()\n"
     ]
    }
   ],
   "source": [
    "# clear() = It removes all the element from the sets\n",
    "s.clear()\n",
    "print(s)"
   ]
  },
  {
   "cell_type": "markdown",
   "id": "4c692a8a-d845-4454-9fa6-9ec91aff67b2",
   "metadata": {},
   "source": [
    "# Set Operations"
   ]
  },
  {
   "cell_type": "code",
   "execution_count": 24,
   "id": "2731fcdc-5f51-4132-98aa-33f6a0463a47",
   "metadata": {},
   "outputs": [
    {
     "name": "stdout",
     "output_type": "stream",
     "text": [
      "{1, 2, 3, 4, 5, 6, 7}\n",
      "{3, 4, 5}\n",
      "{1, 2}\n",
      "{6, 7}\n",
      "{1, 2, 6, 7}\n",
      "False\n"
     ]
    }
   ],
   "source": [
    "set1 = {1,2,3,4,5}\n",
    "set2 = {3,4,5,6,7}\n",
    "\n",
    "# union = all elements from all the sets\n",
    "print(set1 | set2)\n",
    "\n",
    "# intersection = common element from all the sets\n",
    "\n",
    "print(set1 & set2)\n",
    "\n",
    "# difference = elements present in one but not in another\n",
    "\n",
    "print(set1 - set2)\n",
    "print(set2 - set1)\n",
    "\n",
    "# symmetric difference = element not common in both the sets.\n",
    "\n",
    "print(set1 ^ set2)\n",
    "\n",
    "# issubset = element of one set present in another sets.\n",
    "print(set1.issubset(set2))"
   ]
  },
  {
   "cell_type": "code",
   "execution_count": null,
   "id": "0fd6f322-3687-4c7c-99b5-a6f275dd8d71",
   "metadata": {},
   "outputs": [],
   "source": []
  },
  {
   "cell_type": "code",
   "execution_count": null,
   "id": "ce643aca-acf0-4e6a-8cad-adac20fb0ab3",
   "metadata": {},
   "outputs": [],
   "source": []
  }
 ],
 "metadata": {
  "kernelspec": {
   "display_name": "Python 3 (ipykernel)",
   "language": "python",
   "name": "python3"
  },
  "language_info": {
   "codemirror_mode": {
    "name": "ipython",
    "version": 3
   },
   "file_extension": ".py",
   "mimetype": "text/x-python",
   "name": "python",
   "nbconvert_exporter": "python",
   "pygments_lexer": "ipython3",
   "version": "3.10.8"
  }
 },
 "nbformat": 4,
 "nbformat_minor": 5
}
