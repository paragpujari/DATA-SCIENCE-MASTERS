{
 "cells": [
  {
   "cell_type": "markdown",
   "id": "ece076fc-a1e1-49f9-9e02-349e0a032cfc",
   "metadata": {},
   "source": [
    "# Functions"
   ]
  },
  {
   "cell_type": "code",
   "execution_count": 1,
   "id": "64774585-9d9c-4069-96d1-3aff12279d08",
   "metadata": {},
   "outputs": [
    {
     "name": "stdout",
     "output_type": "stream",
     "text": [
      "10\n",
      "20\n",
      "30\n",
      "40\n"
     ]
    }
   ],
   "source": [
    "def test(a,b,c,d):\n",
    "    print(a)\n",
    "    print(b)\n",
    "    print(c)\n",
    "    print(d)\n",
    "\n",
    "\n",
    "\n",
    "test(10,20,30,40)"
   ]
  },
  {
   "cell_type": "code",
   "execution_count": 2,
   "id": "47a086dc-4d75-4641-956d-07c4c87a1479",
   "metadata": {},
   "outputs": [
    {
     "name": "stdout",
     "output_type": "stream",
     "text": [
      "(10, 20, 30, 40, 50)\n"
     ]
    }
   ],
   "source": [
    "def tests(*args):\n",
    "    print(args)\n",
    "\n",
    "\n",
    "\n",
    "tests(10,20,30,40,50)"
   ]
  },
  {
   "cell_type": "code",
   "execution_count": 3,
   "id": "9335133d-bbc7-481e-a5f9-8a9d23fe7bf8",
   "metadata": {},
   "outputs": [
    {
     "name": "stdout",
     "output_type": "stream",
     "text": [
      "10 20 30 40 50 "
     ]
    }
   ],
   "source": [
    "def tests(*args):\n",
    "    for i in args:\n",
    "        print(i, end = ' ')\n",
    "\n",
    "\n",
    "tests(10,20,30,40,50)"
   ]
  },
  {
   "cell_type": "code",
   "execution_count": 4,
   "id": "5c259e82-6cf5-4b2e-bb44-3746418f904e",
   "metadata": {},
   "outputs": [
    {
     "name": "stdout",
     "output_type": "stream",
     "text": [
      "10 20 30 40 50 60 "
     ]
    }
   ],
   "source": [
    "def tests(*sudh):\n",
    "    for i in sudh:\n",
    "        print(i, end = ' ')\n",
    "\n",
    "\n",
    "tests(10,20,30,40,50,60)"
   ]
  },
  {
   "cell_type": "code",
   "execution_count": 5,
   "id": "51a0539a-7131-4172-858f-690a802b0395",
   "metadata": {},
   "outputs": [
    {
     "name": "stdout",
     "output_type": "stream",
     "text": [
      "(10, 20, 30, 40, 50, 60, 70)\n",
      "100\n"
     ]
    }
   ],
   "source": [
    "def tests(*args,a):\n",
    "    print(args)\n",
    "    print(a)\n",
    "\n",
    "\n",
    "\n",
    "tests(10,20,30,40,50,60,70, a = 100)"
   ]
  },
  {
   "cell_type": "code",
   "execution_count": 7,
   "id": "d853e1e0-2d3d-4085-b4b5-7bfdaef8e6cb",
   "metadata": {},
   "outputs": [
    {
     "data": {
      "text/plain": [
       "[100, 200, 300, 400, 500]"
      ]
     },
     "execution_count": 7,
     "metadata": {},
     "output_type": "execute_result"
    }
   ],
   "source": [
    "def tests(*args):\n",
    "    empty = []\n",
    "    for i in args:\n",
    "        if(type(i) == list):\n",
    "            for j in i:\n",
    "                empty.append(j)\n",
    "    return(empty)\n",
    "\n",
    "tests(10,20,30,40,50,[100,200,300,400,500],80,90)"
   ]
  },
  {
   "cell_type": "code",
   "execution_count": 9,
   "id": "b61c0cbc-eb32-40cc-a8f6-94b95bb2cfc2",
   "metadata": {},
   "outputs": [
    {
     "data": {
      "text/plain": [
       "{'a': 34, 'b': 56, 'c': [90, 87, 56, 23], 'd': 90}"
      ]
     },
     "execution_count": 9,
     "metadata": {},
     "output_type": "execute_result"
    }
   ],
   "source": [
    "def tests(**kwargs):\n",
    "    return(kwargs)\n",
    "\n",
    "\n",
    "tests(a = 34, b = 56, c = [90,87,56,23], d = 90)"
   ]
  },
  {
   "cell_type": "code",
   "execution_count": 13,
   "id": "06e1de61-555a-4082-aa7c-024741dd1881",
   "metadata": {},
   "outputs": [
    {
     "data": {
      "text/plain": [
       "('c', [90, 87, 56, 23])"
      ]
     },
     "execution_count": 13,
     "metadata": {},
     "output_type": "execute_result"
    }
   ],
   "source": [
    "# print the list from the dictionary\n",
    "def tests(**kwargs):\n",
    "    for i in kwargs.keys():\n",
    "        if(type(kwargs[i]) == list):\n",
    "            return i, kwargs[i]\n",
    "\n",
    "\n",
    "tests(a = 34, b = 56, c = [90,87,56,23], d = 90)"
   ]
  },
  {
   "cell_type": "raw",
   "id": "97844ad8-e3a9-40c4-a68d-c251c64dff6f",
   "metadata": {},
   "source": []
  },
  {
   "cell_type": "code",
   "execution_count": null,
   "id": "acfef89d-ae76-4ceb-b570-8f3e17b0f069",
   "metadata": {},
   "outputs": [],
   "source": []
  }
 ],
 "metadata": {
  "kernelspec": {
   "display_name": "Python 3 (ipykernel)",
   "language": "python",
   "name": "python3"
  },
  "language_info": {
   "codemirror_mode": {
    "name": "ipython",
    "version": 3
   },
   "file_extension": ".py",
   "mimetype": "text/x-python",
   "name": "python",
   "nbconvert_exporter": "python",
   "pygments_lexer": "ipython3",
   "version": "3.10.8"
  }
 },
 "nbformat": 4,
 "nbformat_minor": 5
}
