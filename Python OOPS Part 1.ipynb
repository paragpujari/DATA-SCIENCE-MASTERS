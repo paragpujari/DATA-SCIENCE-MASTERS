{
 "cells": [
  {
   "cell_type": "code",
   "execution_count": 1,
   "id": "42cfecb0-de60-4601-8bf8-b768545b0a74",
   "metadata": {},
   "outputs": [
    {
     "name": "stdout",
     "output_type": "stream",
     "text": [
      "<class 'int'>\n"
     ]
    }
   ],
   "source": [
    "a = 1\n",
    "print(type(a))"
   ]
  },
  {
   "cell_type": "code",
   "execution_count": 2,
   "id": "4d75888e-4814-4b6f-9909-b7cb2c9dc7af",
   "metadata": {},
   "outputs": [
    {
     "name": "stdout",
     "output_type": "stream",
     "text": [
      "<class 'str'>\n"
     ]
    }
   ],
   "source": [
    "print(type('pwskills'))"
   ]
  },
  {
   "cell_type": "markdown",
   "id": "79770933-7fd3-40e7-af53-e0c04b84903f",
   "metadata": {},
   "source": [
    "## Class \n",
    "It defines the blueprint of a real world object. It  is the classification of real world entity. It has certain properties which is shared by all the objects."
   ]
  },
  {
   "cell_type": "code",
   "execution_count": 4,
   "id": "ec05a577-1ea9-44da-a16d-eda351980a2b",
   "metadata": {},
   "outputs": [],
   "source": [
    "# creation of class\n",
    "class Person:\n",
    "    pass"
   ]
  },
  {
   "cell_type": "code",
   "execution_count": 5,
   "id": "b86bf173-0df4-4f3b-9eba-3247deca4fa9",
   "metadata": {},
   "outputs": [],
   "source": [
    "# create the object for the class\n",
    "p = Person()  # p is the object which is the real world entity for the class"
   ]
  },
  {
   "cell_type": "code",
   "execution_count": 6,
   "id": "c90eccfb-b31d-451f-b26f-0ca7f5587acc",
   "metadata": {},
   "outputs": [
    {
     "name": "stdout",
     "output_type": "stream",
     "text": [
      "<class '__main__.Person'>\n"
     ]
    }
   ],
   "source": [
    "print(type(p))"
   ]
  },
  {
   "cell_type": "code",
   "execution_count": 9,
   "id": "91d9a96f-5d48-46ed-947a-f1c1180b3f7d",
   "metadata": {},
   "outputs": [
    {
     "name": "stdout",
     "output_type": "stream",
     "text": [
      "Welcome to pwskills\n"
     ]
    }
   ],
   "source": [
    "class pwskills:\n",
    "    def print_message(self):  # self = It helps the class to bind the method to the class\n",
    "        print(\"Welcome to pwskills\")\n",
    "    \n",
    "# create the object for the class\n",
    "p = pwskills()\n",
    "p.print_message()"
   ]
  },
  {
   "cell_type": "code",
   "execution_count": 10,
   "id": "569199ba-2985-43be-8747-c05a0ce4f69d",
   "metadata": {},
   "outputs": [],
   "source": [
    "s = pwskills()"
   ]
  },
  {
   "cell_type": "code",
   "execution_count": 11,
   "id": "85e38ea4-4062-4dcf-8f2d-27a5fc4e2cd8",
   "metadata": {},
   "outputs": [
    {
     "name": "stdout",
     "output_type": "stream",
     "text": [
      "Welcome to pwskills\n"
     ]
    }
   ],
   "source": [
    "s.print_message()"
   ]
  },
  {
   "cell_type": "code",
   "execution_count": 12,
   "id": "63a34a34-3c3d-45c6-9db5-2a9269b4cab0",
   "metadata": {},
   "outputs": [
    {
     "name": "stdout",
     "output_type": "stream",
     "text": [
      "6\n"
     ]
    }
   ],
   "source": [
    "class Addition:\n",
    "    def add(self,a,b):\n",
    "        print(a+b)\n",
    "        \n",
    "        \n",
    "a = Addition()\n",
    "a.add(2,4)"
   ]
  },
  {
   "cell_type": "markdown",
   "id": "bf9511cd-4bb6-49d2-b4be-9f9ca217bc93",
   "metadata": {},
   "source": [
    "# Constructors"
   ]
  },
  {
   "cell_type": "code",
   "execution_count": 13,
   "id": "1dc0a5db-97f9-4060-887d-002ea4f4c4c3",
   "metadata": {},
   "outputs": [
    {
     "name": "stdout",
     "output_type": "stream",
     "text": [
      "Area of the Rectangle is: 9600\n",
      "Perimeter of the Rectangle is: 400\n"
     ]
    }
   ],
   "source": [
    "# Area  and Perimeter of a rectangle\n",
    "class Rectangle:\n",
    "    # paramaterized constructor\n",
    "    def __init__(self,l,b):\n",
    "        self.length = l\n",
    "        self.breadth = b\n",
    "        \n",
    "    def calculate_area(self):\n",
    "        print(\"Area of the Rectangle is:\",(self.length * self.breadth))\n",
    "        \n",
    "    def calculate_perimeter(self):\n",
    "        print(\"Perimeter of the Rectangle is:\", 2*(self.length + self.breadth))\n",
    "              \n",
    "        \n",
    "# create the object for the class\n",
    "r = Rectangle(120,80)\n",
    "r.calculate_area()\n",
    "r.calculate_perimeter()"
   ]
  },
  {
   "cell_type": "code",
   "execution_count": 14,
   "id": "230adc13-5303-4f59-a95f-8acf1bdded73",
   "metadata": {},
   "outputs": [
    {
     "name": "stdout",
     "output_type": "stream",
     "text": [
      "Area of the Rectangle is: 9600\n",
      "Perimeter of the Rectangle is: 400\n"
     ]
    }
   ],
   "source": [
    "# default constructors\n",
    "class Rectangle:\n",
    "    # default constructor\n",
    "    def __init__(self):\n",
    "        self.length = 120\n",
    "        self.breadth = 80\n",
    "        \n",
    "    def calculate_area(self):\n",
    "        print(\"Area of the Rectangle is:\", (self.length * self.breadth))\n",
    "    \n",
    "    def calculate_perimeter(self):\n",
    "        print(\"Perimeter of the Rectangle is:\", 2*(self.length + self.breadth))\n",
    "    \n",
    "r = Rectangle()\n",
    "r.calculate_area()\n",
    "r.calculate_perimeter()"
   ]
  },
  {
   "cell_type": "code",
   "execution_count": null,
   "id": "708fe3f5-ef84-4d11-9d12-057f66fd749b",
   "metadata": {},
   "outputs": [],
   "source": []
  }
 ],
 "metadata": {
  "kernelspec": {
   "display_name": "Python 3 (ipykernel)",
   "language": "python",
   "name": "python3"
  },
  "language_info": {
   "codemirror_mode": {
    "name": "ipython",
    "version": 3
   },
   "file_extension": ".py",
   "mimetype": "text/x-python",
   "name": "python",
   "nbconvert_exporter": "python",
   "pygments_lexer": "ipython3",
   "version": "3.10.8"
  }
 },
 "nbformat": 4,
 "nbformat_minor": 5
}
